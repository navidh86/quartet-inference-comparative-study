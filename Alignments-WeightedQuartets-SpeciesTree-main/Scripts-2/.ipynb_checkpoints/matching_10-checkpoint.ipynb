{
 "cells": [
  {
   "cell_type": "markdown",
   "metadata": {},
   "source": [
    "# For each version of gene trees, I will try to find the matching number of dominant quartets wrt the true gene trees"
   ]
  },
  {
   "cell_type": "code",
   "execution_count": 22,
   "metadata": {},
   "outputs": [],
   "source": [
    "from Quartet import Quartet\n",
    "import os"
   ]
  },
  {
   "cell_type": "code",
   "execution_count": 23,
   "metadata": {},
   "outputs": [],
   "source": [
    "base_folder = \"/home/navid/comparative_study/Alignments-WeightedQuartets-SpeciesTree-main\""
   ]
  },
  {
   "cell_type": "code",
   "execution_count": 43,
   "metadata": {},
   "outputs": [],
   "source": [
    "input_wqrts = [\"GTF\", \"GTF-boot\", \"GTF-bucky-boot\"]\n",
    "REPLICATES = 20\n",
    "configs = [\"lower-ILS\", \"higher-ILS\"]\n",
    "result_file = f\"{base_folder}/Results/data/Quartet-Match/10-taxon/matches.json\"\n",
    "result_df_file = f\"{base_folder}/Results/data/Quartet-Match/10-taxon/match-pct.xlsx\"\n",
    "result_df_file_2 = f\"{base_folder}/Results/data/Quartet-Match/10-taxon/match-pct-truegt-only.xlsx\"\n",
    "mismatch_df_file = f\"{base_folder}/Results/data/Quartet-Match/10-taxon/mismatch-count.xlsx\"\n",
    "mismatch_df_file_2 = f\"{base_folder}/Results/data/Quartet-Match/10-taxon/mismatch-count-truegt-only.xlsx\""
   ]
  },
  {
   "cell_type": "code",
   "execution_count": 25,
   "metadata": {},
   "outputs": [],
   "source": [
    "def get_quartet_set(quartets_file):\n",
    "    quartets = set()\n",
    "    with open(quartets_file, \"r\") as fp:\n",
    "        lines = fp.readlines()\n",
    "        for line in lines:\n",
    "            l = line.split()\n",
    "            quartets.add(Quartet(l[0]))\n",
    "    \n",
    "    return quartets            "
   ]
  },
  {
   "cell_type": "code",
   "execution_count": 26,
   "metadata": {},
   "outputs": [
    {
     "name": "stdout",
     "output_type": "stream",
     "text": [
      "################ lower-ILS GTF 1 ########################\n",
      "{'lower-ILS': {'GTF': {'base': {'true_gene_cnt': 15.9, 'species_cnt': 15.9, 'true_gene_pct': 4.818181818181818, 'species_pct': 4.818181818181818}}}}\n",
      "################ lower-ILS GTF 2 ########################\n",
      "{'lower-ILS': {'GTF': {'base': {'true_gene_cnt': 32.4, 'species_cnt': 32.4, 'true_gene_pct': 9.818181818181818, 'species_pct': 9.818181818181818}}}}\n",
      "################ lower-ILS GTF 3 ########################\n",
      "{'lower-ILS': {'GTF': {'base': {'true_gene_cnt': 47.75, 'species_cnt': 47.75, 'true_gene_pct': 14.469696969696969, 'species_pct': 14.469696969696969}}}}\n",
      "################ lower-ILS GTF 4 ########################\n",
      "{'lower-ILS': {'GTF': {'base': {'true_gene_cnt': 62.4, 'species_cnt': 62.3, 'true_gene_pct': 18.909090909090907, 'species_pct': 18.87878787878788}}}}\n",
      "################ lower-ILS GTF 5 ########################\n",
      "{'lower-ILS': {'GTF': {'base': {'true_gene_cnt': 78.25, 'species_cnt': 78.55, 'true_gene_pct': 23.71212121212121, 'species_pct': 23.803030303030305}}}}\n",
      "################ lower-ILS GTF 6 ########################\n",
      "{'lower-ILS': {'GTF': {'base': {'true_gene_cnt': 93.5, 'species_cnt': 93.45, 'true_gene_pct': 28.333333333333332, 'species_pct': 28.31818181818182}}}}\n",
      "################ lower-ILS GTF 7 ########################\n",
      "{'lower-ILS': {'GTF': {'base': {'true_gene_cnt': 108.9, 'species_cnt': 108.85000000000001, 'true_gene_pct': 33.0, 'species_pct': 32.984848484848484}}}}\n",
      "################ lower-ILS GTF 8 ########################\n",
      "{'lower-ILS': {'GTF': {'base': {'true_gene_cnt': 125.0, 'species_cnt': 124.95000000000002, 'true_gene_pct': 37.878787878787875, 'species_pct': 37.86363636363636}}}}\n",
      "################ lower-ILS GTF 9 ########################\n",
      "{'lower-ILS': {'GTF': {'base': {'true_gene_cnt': 141.35, 'species_cnt': 141.3, 'true_gene_pct': 42.83333333333333, 'species_pct': 42.81818181818181}}}}\n",
      "################ lower-ILS GTF 10 ########################\n",
      "{'lower-ILS': {'GTF': {'base': {'true_gene_cnt': 156.04999999999998, 'species_cnt': 157.20000000000002, 'true_gene_pct': 47.28787878787878, 'species_pct': 47.63636363636363}}}}\n",
      "################ lower-ILS GTF 11 ########################\n",
      "{'lower-ILS': {'GTF': {'base': {'true_gene_cnt': 171.54999999999998, 'species_cnt': 172.70000000000002, 'true_gene_pct': 51.98484848484848, 'species_pct': 52.33333333333333}}}}\n",
      "################ lower-ILS GTF 12 ########################\n",
      "{'lower-ILS': {'GTF': {'base': {'true_gene_cnt': 187.45, 'species_cnt': 188.60000000000002, 'true_gene_pct': 56.8030303030303, 'species_pct': 57.15151515151515}}}}\n",
      "################ lower-ILS GTF 13 ########################\n",
      "{'lower-ILS': {'GTF': {'base': {'true_gene_cnt': 199.5, 'species_cnt': 200.45000000000002, 'true_gene_pct': 60.454545454545446, 'species_pct': 60.74242424242424}}}}\n",
      "################ lower-ILS GTF 14 ########################\n",
      "{'lower-ILS': {'GTF': {'base': {'true_gene_cnt': 216.0, 'species_cnt': 216.95000000000002, 'true_gene_pct': 65.45454545454544, 'species_pct': 65.74242424242425}}}}\n",
      "################ lower-ILS GTF 15 ########################\n",
      "{'lower-ILS': {'GTF': {'base': {'true_gene_cnt': 230.8, 'species_cnt': 231.70000000000002, 'true_gene_pct': 69.93939393939392, 'species_pct': 70.21212121212122}}}}\n",
      "################ lower-ILS GTF 16 ########################\n",
      "{'lower-ILS': {'GTF': {'base': {'true_gene_cnt': 246.4, 'species_cnt': 247.3, 'true_gene_pct': 74.66666666666666, 'species_pct': 74.93939393939395}}}}\n",
      "################ lower-ILS GTF 17 ########################\n",
      "{'lower-ILS': {'GTF': {'base': {'true_gene_cnt': 262.55, 'species_cnt': 262.6, 'true_gene_pct': 79.56060606060605, 'species_pct': 79.57575757575759}}}}\n",
      "################ lower-ILS GTF 18 ########################\n",
      "{'lower-ILS': {'GTF': {'base': {'true_gene_cnt': 278.7, 'species_cnt': 278.75, 'true_gene_pct': 84.45454545454544, 'species_pct': 84.46969696969698}}}}\n",
      "################ lower-ILS GTF 19 ########################\n",
      "{'lower-ILS': {'GTF': {'base': {'true_gene_cnt': 294.59999999999997, 'species_cnt': 295.05, 'true_gene_pct': 89.27272727272725, 'species_pct': 89.40909090909092}}}}\n",
      "################ lower-ILS GTF 20 ########################\n",
      "{'lower-ILS': {'GTF': {'base': {'true_gene_cnt': 310.74999999999994, 'species_cnt': 311.2, 'true_gene_pct': 94.16666666666664, 'species_pct': 94.30303030303031}}}}\n",
      "################ lower-ILS GTF-boot 1 ########################\n",
      "{'lower-ILS': {'GTF': {'base': {'true_gene_cnt': 310.74999999999994, 'species_cnt': 311.2, 'true_gene_pct': 94.16666666666664, 'species_pct': 94.30303030303031}}, 'GTF-boot': {'base': {'true_gene_cnt': 15.4, 'species_cnt': 15.4, 'true_gene_pct': 4.666666666666667, 'species_pct': 4.666666666666667}}}}\n",
      "################ lower-ILS GTF-boot 2 ########################\n",
      "{'lower-ILS': {'GTF': {'base': {'true_gene_cnt': 310.74999999999994, 'species_cnt': 311.2, 'true_gene_pct': 94.16666666666664, 'species_pct': 94.30303030303031}}, 'GTF-boot': {'base': {'true_gene_cnt': 31.9, 'species_cnt': 31.9, 'true_gene_pct': 9.666666666666668, 'species_pct': 9.666666666666668}}}}\n",
      "################ lower-ILS GTF-boot 3 ########################\n",
      "{'lower-ILS': {'GTF': {'base': {'true_gene_cnt': 310.74999999999994, 'species_cnt': 311.2, 'true_gene_pct': 94.16666666666664, 'species_pct': 94.30303030303031}}, 'GTF-boot': {'base': {'true_gene_cnt': 47.0, 'species_cnt': 47.0, 'true_gene_pct': 14.242424242424244, 'species_pct': 14.242424242424244}}}}\n",
      "################ lower-ILS GTF-boot 4 ########################\n",
      "{'lower-ILS': {'GTF': {'base': {'true_gene_cnt': 310.74999999999994, 'species_cnt': 311.2, 'true_gene_pct': 94.16666666666664, 'species_pct': 94.30303030303031}}, 'GTF-boot': {'base': {'true_gene_cnt': 61.3, 'species_cnt': 61.0, 'true_gene_pct': 18.575757575757578, 'species_pct': 18.484848484848484}}}}\n",
      "################ lower-ILS GTF-boot 5 ########################\n",
      "{'lower-ILS': {'GTF': {'base': {'true_gene_cnt': 310.74999999999994, 'species_cnt': 311.2, 'true_gene_pct': 94.16666666666664, 'species_pct': 94.30303030303031}}, 'GTF-boot': {'base': {'true_gene_cnt': 77.3, 'species_cnt': 77.05, 'true_gene_pct': 23.424242424242426, 'species_pct': 23.348484848484848}}}}\n",
      "################ lower-ILS GTF-boot 6 ########################\n",
      "{'lower-ILS': {'GTF': {'base': {'true_gene_cnt': 310.74999999999994, 'species_cnt': 311.2, 'true_gene_pct': 94.16666666666664, 'species_pct': 94.30303030303031}}, 'GTF-boot': {'base': {'true_gene_cnt': 92.6, 'species_cnt': 91.64999999999999, 'true_gene_pct': 28.060606060606062, 'species_pct': 27.772727272727273}}}}\n",
      "################ lower-ILS GTF-boot 7 ########################\n",
      "{'lower-ILS': {'GTF': {'base': {'true_gene_cnt': 310.74999999999994, 'species_cnt': 311.2, 'true_gene_pct': 94.16666666666664, 'species_pct': 94.30303030303031}}, 'GTF-boot': {'base': {'true_gene_cnt': 107.85, 'species_cnt': 106.6, 'true_gene_pct': 32.68181818181819, 'species_pct': 32.303030303030305}}}}\n",
      "################ lower-ILS GTF-boot 8 ########################\n",
      "{'lower-ILS': {'GTF': {'base': {'true_gene_cnt': 310.74999999999994, 'species_cnt': 311.2, 'true_gene_pct': 94.16666666666664, 'species_pct': 94.30303030303031}}, 'GTF-boot': {'base': {'true_gene_cnt': 123.8, 'species_cnt': 122.55, 'true_gene_pct': 37.51515151515152, 'species_pct': 37.13636363636364}}}}\n",
      "################ lower-ILS GTF-boot 9 ########################\n",
      "{'lower-ILS': {'GTF': {'base': {'true_gene_cnt': 310.74999999999994, 'species_cnt': 311.2, 'true_gene_pct': 94.16666666666664, 'species_pct': 94.30303030303031}}, 'GTF-boot': {'base': {'true_gene_cnt': 140.05, 'species_cnt': 138.8, 'true_gene_pct': 42.439393939393945, 'species_pct': 42.06060606060606}}}}\n",
      "################ lower-ILS GTF-boot 10 ########################\n",
      "{'lower-ILS': {'GTF': {'base': {'true_gene_cnt': 310.74999999999994, 'species_cnt': 311.2, 'true_gene_pct': 94.16666666666664, 'species_pct': 94.30303030303031}}, 'GTF-boot': {'base': {'true_gene_cnt': 155.5, 'species_cnt': 155.0, 'true_gene_pct': 47.121212121212125, 'species_pct': 46.96969696969697}}}}\n",
      "################ lower-ILS GTF-boot 11 ########################\n",
      "{'lower-ILS': {'GTF': {'base': {'true_gene_cnt': 310.74999999999994, 'species_cnt': 311.2, 'true_gene_pct': 94.16666666666664, 'species_pct': 94.30303030303031}}, 'GTF-boot': {'base': {'true_gene_cnt': 171.4, 'species_cnt': 170.9, 'true_gene_pct': 51.939393939393945, 'species_pct': 51.78787878787879}}}}\n",
      "################ lower-ILS GTF-boot 12 ########################\n",
      "{'lower-ILS': {'GTF': {'base': {'true_gene_cnt': 310.74999999999994, 'species_cnt': 311.2, 'true_gene_pct': 94.16666666666664, 'species_pct': 94.30303030303031}}, 'GTF-boot': {'base': {'true_gene_cnt': 187.20000000000002, 'species_cnt': 186.70000000000002, 'true_gene_pct': 56.727272727272734, 'species_pct': 56.57575757575758}}}}\n",
      "################ lower-ILS GTF-boot 13 ########################\n",
      "{'lower-ILS': {'GTF': {'base': {'true_gene_cnt': 310.74999999999994, 'species_cnt': 311.2, 'true_gene_pct': 94.16666666666664, 'species_pct': 94.30303030303031}}, 'GTF-boot': {'base': {'true_gene_cnt': 200.9, 'species_cnt': 200.05, 'true_gene_pct': 60.87878787878788, 'species_pct': 60.621212121212125}}}}\n",
      "################ lower-ILS GTF-boot 14 ########################\n",
      "{'lower-ILS': {'GTF': {'base': {'true_gene_cnt': 310.74999999999994, 'species_cnt': 311.2, 'true_gene_pct': 94.16666666666664, 'species_pct': 94.30303030303031}}, 'GTF-boot': {'base': {'true_gene_cnt': 217.4, 'species_cnt': 216.55, 'true_gene_pct': 65.87878787878788, 'species_pct': 65.62121212121212}}}}\n",
      "################ lower-ILS GTF-boot 15 ########################\n",
      "{'lower-ILS': {'GTF': {'base': {'true_gene_cnt': 310.74999999999994, 'species_cnt': 311.2, 'true_gene_pct': 94.16666666666664, 'species_pct': 94.30303030303031}}, 'GTF-boot': {'base': {'true_gene_cnt': 232.45000000000002, 'species_cnt': 231.55, 'true_gene_pct': 70.43939393939394, 'species_pct': 70.16666666666667}}}}\n",
      "################ lower-ILS GTF-boot 16 ########################\n",
      "{'lower-ILS': {'GTF': {'base': {'true_gene_cnt': 310.74999999999994, 'species_cnt': 311.2, 'true_gene_pct': 94.16666666666664, 'species_pct': 94.30303030303031}}, 'GTF-boot': {'base': {'true_gene_cnt': 247.8, 'species_cnt': 246.9, 'true_gene_pct': 75.0909090909091, 'species_pct': 74.81818181818183}}}}\n",
      "################ lower-ILS GTF-boot 17 ########################\n",
      "{'lower-ILS': {'GTF': {'base': {'true_gene_cnt': 310.74999999999994, 'species_cnt': 311.2, 'true_gene_pct': 94.16666666666664, 'species_pct': 94.30303030303031}}, 'GTF-boot': {'base': {'true_gene_cnt': 263.6, 'species_cnt': 261.9, 'true_gene_pct': 79.87878787878788, 'species_pct': 79.36363636363637}}}}\n",
      "################ lower-ILS GTF-boot 18 ########################\n",
      "{'lower-ILS': {'GTF': {'base': {'true_gene_cnt': 310.74999999999994, 'species_cnt': 311.2, 'true_gene_pct': 94.16666666666664, 'species_pct': 94.30303030303031}}, 'GTF-boot': {'base': {'true_gene_cnt': 280.1, 'species_cnt': 278.4, 'true_gene_pct': 84.87878787878788, 'species_pct': 84.36363636363637}}}}\n",
      "################ lower-ILS GTF-boot 19 ########################\n",
      "{'lower-ILS': {'GTF': {'base': {'true_gene_cnt': 310.74999999999994, 'species_cnt': 311.2, 'true_gene_pct': 94.16666666666664, 'species_pct': 94.30303030303031}}, 'GTF-boot': {'base': {'true_gene_cnt': 295.6, 'species_cnt': 294.09999999999997, 'true_gene_pct': 89.57575757575758, 'species_pct': 89.12121212121212}}}}\n",
      "################ lower-ILS GTF-boot 20 ########################\n",
      "{'lower-ILS': {'GTF': {'base': {'true_gene_cnt': 310.74999999999994, 'species_cnt': 311.2, 'true_gene_pct': 94.16666666666664, 'species_pct': 94.30303030303031}}, 'GTF-boot': {'base': {'true_gene_cnt': 311.6, 'species_cnt': 310.09999999999997, 'true_gene_pct': 94.42424242424242, 'species_pct': 93.96969696969697}}}}\n",
      "################ lower-ILS GTF-bucky-boot 1 ########################\n",
      "{'lower-ILS': {'GTF': {'base': {'true_gene_cnt': 310.74999999999994, 'species_cnt': 311.2, 'true_gene_pct': 94.16666666666664, 'species_pct': 94.30303030303031}}, 'GTF-boot': {'base': {'true_gene_cnt': 311.6, 'species_cnt': 310.09999999999997, 'true_gene_pct': 94.42424242424242, 'species_pct': 93.96969696969697}}, 'GTF-bucky-boot': {'base': {'true_gene_cnt': 16.0, 'species_cnt': 16.0, 'true_gene_pct': 4.848484848484849, 'species_pct': 4.848484848484849}}}}\n",
      "################ lower-ILS GTF-bucky-boot 2 ########################\n",
      "{'lower-ILS': {'GTF': {'base': {'true_gene_cnt': 310.74999999999994, 'species_cnt': 311.2, 'true_gene_pct': 94.16666666666664, 'species_pct': 94.30303030303031}}, 'GTF-boot': {'base': {'true_gene_cnt': 311.6, 'species_cnt': 310.09999999999997, 'true_gene_pct': 94.42424242424242, 'species_pct': 93.96969696969697}}, 'GTF-bucky-boot': {'base': {'true_gene_cnt': 32.5, 'species_cnt': 32.5, 'true_gene_pct': 9.848484848484848, 'species_pct': 9.848484848484848}}}}\n",
      "################ lower-ILS GTF-bucky-boot 3 ########################\n",
      "{'lower-ILS': {'GTF': {'base': {'true_gene_cnt': 310.74999999999994, 'species_cnt': 311.2, 'true_gene_pct': 94.16666666666664, 'species_pct': 94.30303030303031}}, 'GTF-boot': {'base': {'true_gene_cnt': 311.6, 'species_cnt': 310.09999999999997, 'true_gene_pct': 94.42424242424242, 'species_pct': 93.96969696969697}}, 'GTF-bucky-boot': {'base': {'true_gene_cnt': 47.75, 'species_cnt': 47.75, 'true_gene_pct': 14.469696969696969, 'species_pct': 14.469696969696969}}}}\n",
      "################ lower-ILS GTF-bucky-boot 4 ########################\n",
      "{'lower-ILS': {'GTF': {'base': {'true_gene_cnt': 310.74999999999994, 'species_cnt': 311.2, 'true_gene_pct': 94.16666666666664, 'species_pct': 94.30303030303031}}, 'GTF-boot': {'base': {'true_gene_cnt': 311.6, 'species_cnt': 310.09999999999997, 'true_gene_pct': 94.42424242424242, 'species_pct': 93.96969696969697}}, 'GTF-bucky-boot': {'base': {'true_gene_cnt': 62.05, 'species_cnt': 62.05, 'true_gene_pct': 18.8030303030303, 'species_pct': 18.8030303030303}}}}\n",
      "################ lower-ILS GTF-bucky-boot 5 ########################\n",
      "{'lower-ILS': {'GTF': {'base': {'true_gene_cnt': 310.74999999999994, 'species_cnt': 311.2, 'true_gene_pct': 94.16666666666664, 'species_pct': 94.30303030303031}}, 'GTF-boot': {'base': {'true_gene_cnt': 311.6, 'species_cnt': 310.09999999999997, 'true_gene_pct': 94.42424242424242, 'species_pct': 93.96969696969697}}, 'GTF-bucky-boot': {'base': {'true_gene_cnt': 77.75, 'species_cnt': 78.44999999999999, 'true_gene_pct': 23.56060606060606, 'species_pct': 23.77272727272727}}}}\n",
      "################ lower-ILS GTF-bucky-boot 6 ########################\n",
      "{'lower-ILS': {'GTF': {'base': {'true_gene_cnt': 310.74999999999994, 'species_cnt': 311.2, 'true_gene_pct': 94.16666666666664, 'species_pct': 94.30303030303031}}, 'GTF-boot': {'base': {'true_gene_cnt': 311.6, 'species_cnt': 310.09999999999997, 'true_gene_pct': 94.42424242424242, 'species_pct': 93.96969696969697}}, 'GTF-bucky-boot': {'base': {'true_gene_cnt': 93.0, 'species_cnt': 93.04999999999998, 'true_gene_pct': 28.18181818181818, 'species_pct': 28.196969696969695}}}}\n",
      "################ lower-ILS GTF-bucky-boot 7 ########################\n",
      "{'lower-ILS': {'GTF': {'base': {'true_gene_cnt': 310.74999999999994, 'species_cnt': 311.2, 'true_gene_pct': 94.16666666666664, 'species_pct': 94.30303030303031}}, 'GTF-boot': {'base': {'true_gene_cnt': 311.6, 'species_cnt': 310.09999999999997, 'true_gene_pct': 94.42424242424242, 'species_pct': 93.96969696969697}}, 'GTF-bucky-boot': {'base': {'true_gene_cnt': 108.55, 'species_cnt': 108.39999999999998, 'true_gene_pct': 32.89393939393939, 'species_pct': 32.848484848484844}}}}\n",
      "################ lower-ILS GTF-bucky-boot 8 ########################\n",
      "{'lower-ILS': {'GTF': {'base': {'true_gene_cnt': 310.74999999999994, 'species_cnt': 311.2, 'true_gene_pct': 94.16666666666664, 'species_pct': 94.30303030303031}}, 'GTF-boot': {'base': {'true_gene_cnt': 311.6, 'species_cnt': 310.09999999999997, 'true_gene_pct': 94.42424242424242, 'species_pct': 93.96969696969697}}, 'GTF-bucky-boot': {'base': {'true_gene_cnt': 125.05, 'species_cnt': 124.89999999999998, 'true_gene_pct': 37.89393939393939, 'species_pct': 37.848484848484844}}}}\n",
      "################ lower-ILS GTF-bucky-boot 9 ########################\n",
      "{'lower-ILS': {'GTF': {'base': {'true_gene_cnt': 310.74999999999994, 'species_cnt': 311.2, 'true_gene_pct': 94.16666666666664, 'species_pct': 94.30303030303031}}, 'GTF-boot': {'base': {'true_gene_cnt': 311.6, 'species_cnt': 310.09999999999997, 'true_gene_pct': 94.42424242424242, 'species_pct': 93.96969696969697}}, 'GTF-bucky-boot': {'base': {'true_gene_cnt': 141.55, 'species_cnt': 141.39999999999998, 'true_gene_pct': 42.89393939393939, 'species_pct': 42.848484848484844}}}}\n",
      "################ lower-ILS GTF-bucky-boot 10 ########################\n",
      "{'lower-ILS': {'GTF': {'base': {'true_gene_cnt': 310.74999999999994, 'species_cnt': 311.2, 'true_gene_pct': 94.16666666666664, 'species_pct': 94.30303030303031}}, 'GTF-boot': {'base': {'true_gene_cnt': 311.6, 'species_cnt': 310.09999999999997, 'true_gene_pct': 94.42424242424242, 'species_pct': 93.96969696969697}}, 'GTF-bucky-boot': {'base': {'true_gene_cnt': 156.9, 'species_cnt': 157.45, 'true_gene_pct': 47.54545454545454, 'species_pct': 47.712121212121204}}}}\n",
      "################ lower-ILS GTF-bucky-boot 11 ########################\n",
      "{'lower-ILS': {'GTF': {'base': {'true_gene_cnt': 310.74999999999994, 'species_cnt': 311.2, 'true_gene_pct': 94.16666666666664, 'species_pct': 94.30303030303031}}, 'GTF-boot': {'base': {'true_gene_cnt': 311.6, 'species_cnt': 310.09999999999997, 'true_gene_pct': 94.42424242424242, 'species_pct': 93.96969696969697}}, 'GTF-bucky-boot': {'base': {'true_gene_cnt': 172.55, 'species_cnt': 173.1, 'true_gene_pct': 52.28787878787878, 'species_pct': 52.454545454545446}}}}\n",
      "################ lower-ILS GTF-bucky-boot 12 ########################\n",
      "{'lower-ILS': {'GTF': {'base': {'true_gene_cnt': 310.74999999999994, 'species_cnt': 311.2, 'true_gene_pct': 94.16666666666664, 'species_pct': 94.30303030303031}}, 'GTF-boot': {'base': {'true_gene_cnt': 311.6, 'species_cnt': 310.09999999999997, 'true_gene_pct': 94.42424242424242, 'species_pct': 93.96969696969697}}, 'GTF-bucky-boot': {'base': {'true_gene_cnt': 188.60000000000002, 'species_cnt': 189.15, 'true_gene_pct': 57.15151515151514, 'species_pct': 57.31818181818181}}}}\n",
      "################ lower-ILS GTF-bucky-boot 13 ########################\n",
      "{'lower-ILS': {'GTF': {'base': {'true_gene_cnt': 310.74999999999994, 'species_cnt': 311.2, 'true_gene_pct': 94.16666666666664, 'species_pct': 94.30303030303031}}, 'GTF-boot': {'base': {'true_gene_cnt': 311.6, 'species_cnt': 310.09999999999997, 'true_gene_pct': 94.42424242424242, 'species_pct': 93.96969696969697}}, 'GTF-bucky-boot': {'base': {'true_gene_cnt': 204.20000000000002, 'species_cnt': 204.4, 'true_gene_pct': 61.87878787878787, 'species_pct': 61.93939393939394}}}}\n",
      "################ lower-ILS GTF-bucky-boot 14 ########################\n",
      "{'lower-ILS': {'GTF': {'base': {'true_gene_cnt': 310.74999999999994, 'species_cnt': 311.2, 'true_gene_pct': 94.16666666666664, 'species_pct': 94.30303030303031}}, 'GTF-boot': {'base': {'true_gene_cnt': 311.6, 'species_cnt': 310.09999999999997, 'true_gene_pct': 94.42424242424242, 'species_pct': 93.96969696969697}}, 'GTF-bucky-boot': {'base': {'true_gene_cnt': 220.70000000000002, 'species_cnt': 220.9, 'true_gene_pct': 66.87878787878788, 'species_pct': 66.93939393939394}}}}\n",
      "################ lower-ILS GTF-bucky-boot 15 ########################\n",
      "{'lower-ILS': {'GTF': {'base': {'true_gene_cnt': 310.74999999999994, 'species_cnt': 311.2, 'true_gene_pct': 94.16666666666664, 'species_pct': 94.30303030303031}}, 'GTF-boot': {'base': {'true_gene_cnt': 311.6, 'species_cnt': 310.09999999999997, 'true_gene_pct': 94.42424242424242, 'species_pct': 93.96969696969697}}, 'GTF-bucky-boot': {'base': {'true_gene_cnt': 236.35000000000002, 'species_cnt': 236.5, 'true_gene_pct': 71.62121212121212, 'species_pct': 71.66666666666667}}}}\n",
      "################ lower-ILS GTF-bucky-boot 16 ########################\n",
      "{'lower-ILS': {'GTF': {'base': {'true_gene_cnt': 310.74999999999994, 'species_cnt': 311.2, 'true_gene_pct': 94.16666666666664, 'species_pct': 94.30303030303031}}, 'GTF-boot': {'base': {'true_gene_cnt': 311.6, 'species_cnt': 310.09999999999997, 'true_gene_pct': 94.42424242424242, 'species_pct': 93.96969696969697}}, 'GTF-bucky-boot': {'base': {'true_gene_cnt': 251.65000000000003, 'species_cnt': 251.8, 'true_gene_pct': 76.25757575757576, 'species_pct': 76.30303030303031}}}}\n",
      "################ lower-ILS GTF-bucky-boot 17 ########################\n",
      "{'lower-ILS': {'GTF': {'base': {'true_gene_cnt': 310.74999999999994, 'species_cnt': 311.2, 'true_gene_pct': 94.16666666666664, 'species_pct': 94.30303030303031}}, 'GTF-boot': {'base': {'true_gene_cnt': 311.6, 'species_cnt': 310.09999999999997, 'true_gene_pct': 94.42424242424242, 'species_pct': 93.96969696969697}}, 'GTF-bucky-boot': {'base': {'true_gene_cnt': 268.00000000000006, 'species_cnt': 267.05, 'true_gene_pct': 81.21212121212122, 'species_pct': 80.92424242424244}}}}\n",
      "################ lower-ILS GTF-bucky-boot 18 ########################\n",
      "{'lower-ILS': {'GTF': {'base': {'true_gene_cnt': 310.74999999999994, 'species_cnt': 311.2, 'true_gene_pct': 94.16666666666664, 'species_pct': 94.30303030303031}}, 'GTF-boot': {'base': {'true_gene_cnt': 311.6, 'species_cnt': 310.09999999999997, 'true_gene_pct': 94.42424242424242, 'species_pct': 93.96969696969697}}, 'GTF-bucky-boot': {'base': {'true_gene_cnt': 284.50000000000006, 'species_cnt': 283.55, 'true_gene_pct': 86.21212121212122, 'species_pct': 85.92424242424244}}}}\n",
      "################ lower-ILS GTF-bucky-boot 19 ########################\n",
      "{'lower-ILS': {'GTF': {'base': {'true_gene_cnt': 310.74999999999994, 'species_cnt': 311.2, 'true_gene_pct': 94.16666666666664, 'species_pct': 94.30303030303031}}, 'GTF-boot': {'base': {'true_gene_cnt': 311.6, 'species_cnt': 310.09999999999997, 'true_gene_pct': 94.42424242424242, 'species_pct': 93.96969696969697}}, 'GTF-bucky-boot': {'base': {'true_gene_cnt': 300.15000000000003, 'species_cnt': 299.45, 'true_gene_pct': 90.95454545454547, 'species_pct': 90.74242424242425}}}}\n",
      "################ lower-ILS GTF-bucky-boot 20 ########################\n",
      "{'lower-ILS': {'GTF': {'base': {'true_gene_cnt': 310.74999999999994, 'species_cnt': 311.2, 'true_gene_pct': 94.16666666666664, 'species_pct': 94.30303030303031}}, 'GTF-boot': {'base': {'true_gene_cnt': 311.6, 'species_cnt': 310.09999999999997, 'true_gene_pct': 94.42424242424242, 'species_pct': 93.96969696969697}}, 'GTF-bucky-boot': {'base': {'true_gene_cnt': 316.65000000000003, 'species_cnt': 315.95, 'true_gene_pct': 95.95454545454547, 'species_pct': 95.74242424242425}}}}\n",
      "################ higher-ILS GTF 1 ########################\n",
      "{'lower-ILS': {'GTF': {'base': {'true_gene_cnt': 310.74999999999994, 'species_cnt': 311.2, 'true_gene_pct': 94.16666666666664, 'species_pct': 94.30303030303031}}, 'GTF-boot': {'base': {'true_gene_cnt': 311.6, 'species_cnt': 310.09999999999997, 'true_gene_pct': 94.42424242424242, 'species_pct': 93.96969696969697}}, 'GTF-bucky-boot': {'base': {'true_gene_cnt': 316.65000000000003, 'species_cnt': 315.95, 'true_gene_pct': 95.95454545454547, 'species_pct': 95.74242424242425}}}, 'higher-ILS': {'GTF': {'base': {'true_gene_cnt': 15.0, 'species_cnt': 14.2, 'true_gene_pct': 4.545454545454546, 'species_pct': 4.303030303030303}}}}\n",
      "################ higher-ILS GTF 2 ########################\n",
      "{'lower-ILS': {'GTF': {'base': {'true_gene_cnt': 310.74999999999994, 'species_cnt': 311.2, 'true_gene_pct': 94.16666666666664, 'species_pct': 94.30303030303031}}, 'GTF-boot': {'base': {'true_gene_cnt': 311.6, 'species_cnt': 310.09999999999997, 'true_gene_pct': 94.42424242424242, 'species_pct': 93.96969696969697}}, 'GTF-bucky-boot': {'base': {'true_gene_cnt': 316.65000000000003, 'species_cnt': 315.95, 'true_gene_pct': 95.95454545454547, 'species_pct': 95.74242424242425}}}, 'higher-ILS': {'GTF': {'base': {'true_gene_cnt': 28.4, 'species_cnt': 27.35, 'true_gene_pct': 8.606060606060606, 'species_pct': 8.287878787878787}}}}\n",
      "################ higher-ILS GTF 3 ########################\n",
      "{'lower-ILS': {'GTF': {'base': {'true_gene_cnt': 310.74999999999994, 'species_cnt': 311.2, 'true_gene_pct': 94.16666666666664, 'species_pct': 94.30303030303031}}, 'GTF-boot': {'base': {'true_gene_cnt': 311.6, 'species_cnt': 310.09999999999997, 'true_gene_pct': 94.42424242424242, 'species_pct': 93.96969696969697}}, 'GTF-bucky-boot': {'base': {'true_gene_cnt': 316.65000000000003, 'species_cnt': 315.95, 'true_gene_pct': 95.95454545454547, 'species_pct': 95.74242424242425}}}, 'higher-ILS': {'GTF': {'base': {'true_gene_cnt': 43.099999999999994, 'species_cnt': 41.3, 'true_gene_pct': 13.060606060606059, 'species_pct': 12.515151515151516}}}}\n",
      "################ higher-ILS GTF 4 ########################\n",
      "{'lower-ILS': {'GTF': {'base': {'true_gene_cnt': 310.74999999999994, 'species_cnt': 311.2, 'true_gene_pct': 94.16666666666664, 'species_pct': 94.30303030303031}}, 'GTF-boot': {'base': {'true_gene_cnt': 311.6, 'species_cnt': 310.09999999999997, 'true_gene_pct': 94.42424242424242, 'species_pct': 93.96969696969697}}, 'GTF-bucky-boot': {'base': {'true_gene_cnt': 316.65000000000003, 'species_cnt': 315.95, 'true_gene_pct': 95.95454545454547, 'species_pct': 95.74242424242425}}}, 'higher-ILS': {'GTF': {'base': {'true_gene_cnt': 55.74999999999999, 'species_cnt': 51.699999999999996, 'true_gene_pct': 16.89393939393939, 'species_pct': 15.666666666666668}}}}\n",
      "################ higher-ILS GTF 5 ########################\n",
      "{'lower-ILS': {'GTF': {'base': {'true_gene_cnt': 310.74999999999994, 'species_cnt': 311.2, 'true_gene_pct': 94.16666666666664, 'species_pct': 94.30303030303031}}, 'GTF-boot': {'base': {'true_gene_cnt': 311.6, 'species_cnt': 310.09999999999997, 'true_gene_pct': 94.42424242424242, 'species_pct': 93.96969696969697}}, 'GTF-bucky-boot': {'base': {'true_gene_cnt': 316.65000000000003, 'species_cnt': 315.95, 'true_gene_pct': 95.95454545454547, 'species_pct': 95.74242424242425}}}, 'higher-ILS': {'GTF': {'base': {'true_gene_cnt': 68.94999999999999, 'species_cnt': 64.39999999999999, 'true_gene_pct': 20.89393939393939, 'species_pct': 19.515151515151516}}}}\n",
      "################ higher-ILS GTF 6 ########################\n",
      "{'lower-ILS': {'GTF': {'base': {'true_gene_cnt': 310.74999999999994, 'species_cnt': 311.2, 'true_gene_pct': 94.16666666666664, 'species_pct': 94.30303030303031}}, 'GTF-boot': {'base': {'true_gene_cnt': 311.6, 'species_cnt': 310.09999999999997, 'true_gene_pct': 94.42424242424242, 'species_pct': 93.96969696969697}}, 'GTF-bucky-boot': {'base': {'true_gene_cnt': 316.65000000000003, 'species_cnt': 315.95, 'true_gene_pct': 95.95454545454547, 'species_pct': 95.74242424242425}}}, 'higher-ILS': {'GTF': {'base': {'true_gene_cnt': 83.74999999999999, 'species_cnt': 78.39999999999999, 'true_gene_pct': 25.378787878787875, 'species_pct': 23.757575757575758}}}}\n",
      "################ higher-ILS GTF 7 ########################\n",
      "{'lower-ILS': {'GTF': {'base': {'true_gene_cnt': 310.74999999999994, 'species_cnt': 311.2, 'true_gene_pct': 94.16666666666664, 'species_pct': 94.30303030303031}}, 'GTF-boot': {'base': {'true_gene_cnt': 311.6, 'species_cnt': 310.09999999999997, 'true_gene_pct': 94.42424242424242, 'species_pct': 93.96969696969697}}, 'GTF-bucky-boot': {'base': {'true_gene_cnt': 316.65000000000003, 'species_cnt': 315.95, 'true_gene_pct': 95.95454545454547, 'species_pct': 95.74242424242425}}}, 'higher-ILS': {'GTF': {'base': {'true_gene_cnt': 97.89999999999999, 'species_cnt': 93.19999999999999, 'true_gene_pct': 29.666666666666664, 'species_pct': 28.242424242424242}}}}\n",
      "################ higher-ILS GTF 8 ########################\n",
      "{'lower-ILS': {'GTF': {'base': {'true_gene_cnt': 310.74999999999994, 'species_cnt': 311.2, 'true_gene_pct': 94.16666666666664, 'species_pct': 94.30303030303031}}, 'GTF-boot': {'base': {'true_gene_cnt': 311.6, 'species_cnt': 310.09999999999997, 'true_gene_pct': 94.42424242424242, 'species_pct': 93.96969696969697}}, 'GTF-bucky-boot': {'base': {'true_gene_cnt': 316.65000000000003, 'species_cnt': 315.95, 'true_gene_pct': 95.95454545454547, 'species_pct': 95.74242424242425}}}, 'higher-ILS': {'GTF': {'base': {'true_gene_cnt': 112.6, 'species_cnt': 107.14999999999999, 'true_gene_pct': 34.12121212121212, 'species_pct': 32.46969696969697}}}}\n",
      "################ higher-ILS GTF 9 ########################\n",
      "{'lower-ILS': {'GTF': {'base': {'true_gene_cnt': 310.74999999999994, 'species_cnt': 311.2, 'true_gene_pct': 94.16666666666664, 'species_pct': 94.30303030303031}}, 'GTF-boot': {'base': {'true_gene_cnt': 311.6, 'species_cnt': 310.09999999999997, 'true_gene_pct': 94.42424242424242, 'species_pct': 93.96969696969697}}, 'GTF-bucky-boot': {'base': {'true_gene_cnt': 316.65000000000003, 'species_cnt': 315.95, 'true_gene_pct': 95.95454545454547, 'species_pct': 95.74242424242425}}}, 'higher-ILS': {'GTF': {'base': {'true_gene_cnt': 127.19999999999999, 'species_cnt': 121.3, 'true_gene_pct': 38.54545454545454, 'species_pct': 36.75757575757576}}}}\n",
      "################ higher-ILS GTF 10 ########################\n",
      "{'lower-ILS': {'GTF': {'base': {'true_gene_cnt': 310.74999999999994, 'species_cnt': 311.2, 'true_gene_pct': 94.16666666666664, 'species_pct': 94.30303030303031}}, 'GTF-boot': {'base': {'true_gene_cnt': 311.6, 'species_cnt': 310.09999999999997, 'true_gene_pct': 94.42424242424242, 'species_pct': 93.96969696969697}}, 'GTF-bucky-boot': {'base': {'true_gene_cnt': 316.65000000000003, 'species_cnt': 315.95, 'true_gene_pct': 95.95454545454547, 'species_pct': 95.74242424242425}}}, 'higher-ILS': {'GTF': {'base': {'true_gene_cnt': 140.45, 'species_cnt': 134.35, 'true_gene_pct': 42.560606060606055, 'species_pct': 40.71212121212121}}}}\n",
      "################ higher-ILS GTF 11 ########################\n",
      "{'lower-ILS': {'GTF': {'base': {'true_gene_cnt': 310.74999999999994, 'species_cnt': 311.2, 'true_gene_pct': 94.16666666666664, 'species_pct': 94.30303030303031}}, 'GTF-boot': {'base': {'true_gene_cnt': 311.6, 'species_cnt': 310.09999999999997, 'true_gene_pct': 94.42424242424242, 'species_pct': 93.96969696969697}}, 'GTF-bucky-boot': {'base': {'true_gene_cnt': 316.65000000000003, 'species_cnt': 315.95, 'true_gene_pct': 95.95454545454547, 'species_pct': 95.74242424242425}}}, 'higher-ILS': {'GTF': {'base': {'true_gene_cnt': 155.39999999999998, 'species_cnt': 149.2, 'true_gene_pct': 47.090909090909086, 'species_pct': 45.21212121212121}}}}\n",
      "################ higher-ILS GTF 12 ########################\n",
      "{'lower-ILS': {'GTF': {'base': {'true_gene_cnt': 310.74999999999994, 'species_cnt': 311.2, 'true_gene_pct': 94.16666666666664, 'species_pct': 94.30303030303031}}, 'GTF-boot': {'base': {'true_gene_cnt': 311.6, 'species_cnt': 310.09999999999997, 'true_gene_pct': 94.42424242424242, 'species_pct': 93.96969696969697}}, 'GTF-bucky-boot': {'base': {'true_gene_cnt': 316.65000000000003, 'species_cnt': 315.95, 'true_gene_pct': 95.95454545454547, 'species_pct': 95.74242424242425}}}, 'higher-ILS': {'GTF': {'base': {'true_gene_cnt': 168.09999999999997, 'species_cnt': 162.2, 'true_gene_pct': 50.93939393939394, 'species_pct': 49.15151515151515}}}}\n",
      "################ higher-ILS GTF 13 ########################\n",
      "{'lower-ILS': {'GTF': {'base': {'true_gene_cnt': 310.74999999999994, 'species_cnt': 311.2, 'true_gene_pct': 94.16666666666664, 'species_pct': 94.30303030303031}}, 'GTF-boot': {'base': {'true_gene_cnt': 311.6, 'species_cnt': 310.09999999999997, 'true_gene_pct': 94.42424242424242, 'species_pct': 93.96969696969697}}, 'GTF-bucky-boot': {'base': {'true_gene_cnt': 316.65000000000003, 'species_cnt': 315.95, 'true_gene_pct': 95.95454545454547, 'species_pct': 95.74242424242425}}}, 'higher-ILS': {'GTF': {'base': {'true_gene_cnt': 178.64999999999998, 'species_cnt': 172.6, 'true_gene_pct': 54.13636363636363, 'species_pct': 52.3030303030303}}}}\n",
      "################ higher-ILS GTF 14 ########################\n",
      "{'lower-ILS': {'GTF': {'base': {'true_gene_cnt': 310.74999999999994, 'species_cnt': 311.2, 'true_gene_pct': 94.16666666666664, 'species_pct': 94.30303030303031}}, 'GTF-boot': {'base': {'true_gene_cnt': 311.6, 'species_cnt': 310.09999999999997, 'true_gene_pct': 94.42424242424242, 'species_pct': 93.96969696969697}}, 'GTF-bucky-boot': {'base': {'true_gene_cnt': 316.65000000000003, 'species_cnt': 315.95, 'true_gene_pct': 95.95454545454547, 'species_pct': 95.74242424242425}}}, 'higher-ILS': {'GTF': {'base': {'true_gene_cnt': 185.39999999999998, 'species_cnt': 179.5, 'true_gene_pct': 56.18181818181818, 'species_pct': 54.39393939393939}}}}\n",
      "################ higher-ILS GTF 15 ########################\n"
     ]
    },
    {
     "name": "stdout",
     "output_type": "stream",
     "text": [
      "{'lower-ILS': {'GTF': {'base': {'true_gene_cnt': 310.74999999999994, 'species_cnt': 311.2, 'true_gene_pct': 94.16666666666664, 'species_pct': 94.30303030303031}}, 'GTF-boot': {'base': {'true_gene_cnt': 311.6, 'species_cnt': 310.09999999999997, 'true_gene_pct': 94.42424242424242, 'species_pct': 93.96969696969697}}, 'GTF-bucky-boot': {'base': {'true_gene_cnt': 316.65000000000003, 'species_cnt': 315.95, 'true_gene_pct': 95.95454545454547, 'species_pct': 95.74242424242425}}}, 'higher-ILS': {'GTF': {'base': {'true_gene_cnt': 198.64999999999998, 'species_cnt': 191.95, 'true_gene_pct': 60.196969696969695, 'species_pct': 58.166666666666664}}}}\n",
      "################ higher-ILS GTF 16 ########################\n",
      "{'lower-ILS': {'GTF': {'base': {'true_gene_cnt': 310.74999999999994, 'species_cnt': 311.2, 'true_gene_pct': 94.16666666666664, 'species_pct': 94.30303030303031}}, 'GTF-boot': {'base': {'true_gene_cnt': 311.6, 'species_cnt': 310.09999999999997, 'true_gene_pct': 94.42424242424242, 'species_pct': 93.96969696969697}}, 'GTF-bucky-boot': {'base': {'true_gene_cnt': 316.65000000000003, 'species_cnt': 315.95, 'true_gene_pct': 95.95454545454547, 'species_pct': 95.74242424242425}}}, 'higher-ILS': {'GTF': {'base': {'true_gene_cnt': 209.39999999999998, 'species_cnt': 202.7, 'true_gene_pct': 63.45454545454545, 'species_pct': 61.42424242424242}}}}\n",
      "################ higher-ILS GTF 17 ########################\n",
      "{'lower-ILS': {'GTF': {'base': {'true_gene_cnt': 310.74999999999994, 'species_cnt': 311.2, 'true_gene_pct': 94.16666666666664, 'species_pct': 94.30303030303031}}, 'GTF-boot': {'base': {'true_gene_cnt': 311.6, 'species_cnt': 310.09999999999997, 'true_gene_pct': 94.42424242424242, 'species_pct': 93.96969696969697}}, 'GTF-bucky-boot': {'base': {'true_gene_cnt': 316.65000000000003, 'species_cnt': 315.95, 'true_gene_pct': 95.95454545454547, 'species_pct': 95.74242424242425}}}, 'higher-ILS': {'GTF': {'base': {'true_gene_cnt': 221.04999999999998, 'species_cnt': 214.39999999999998, 'true_gene_pct': 66.98484848484848, 'species_pct': 64.96969696969697}}}}\n",
      "################ higher-ILS GTF 18 ########################\n",
      "{'lower-ILS': {'GTF': {'base': {'true_gene_cnt': 310.74999999999994, 'species_cnt': 311.2, 'true_gene_pct': 94.16666666666664, 'species_pct': 94.30303030303031}}, 'GTF-boot': {'base': {'true_gene_cnt': 311.6, 'species_cnt': 310.09999999999997, 'true_gene_pct': 94.42424242424242, 'species_pct': 93.96969696969697}}, 'GTF-bucky-boot': {'base': {'true_gene_cnt': 316.65000000000003, 'species_cnt': 315.95, 'true_gene_pct': 95.95454545454547, 'species_pct': 95.74242424242425}}}, 'higher-ILS': {'GTF': {'base': {'true_gene_cnt': 230.99999999999997, 'species_cnt': 224.24999999999997, 'true_gene_pct': 70.0, 'species_pct': 67.95454545454545}}}}\n",
      "################ higher-ILS GTF 19 ########################\n",
      "{'lower-ILS': {'GTF': {'base': {'true_gene_cnt': 310.74999999999994, 'species_cnt': 311.2, 'true_gene_pct': 94.16666666666664, 'species_pct': 94.30303030303031}}, 'GTF-boot': {'base': {'true_gene_cnt': 311.6, 'species_cnt': 310.09999999999997, 'true_gene_pct': 94.42424242424242, 'species_pct': 93.96969696969697}}, 'GTF-bucky-boot': {'base': {'true_gene_cnt': 316.65000000000003, 'species_cnt': 315.95, 'true_gene_pct': 95.95454545454547, 'species_pct': 95.74242424242425}}}, 'higher-ILS': {'GTF': {'base': {'true_gene_cnt': 244.19999999999996, 'species_cnt': 237.39999999999998, 'true_gene_pct': 74.0, 'species_pct': 71.93939393939394}}}}\n",
      "################ higher-ILS GTF 20 ########################\n",
      "{'lower-ILS': {'GTF': {'base': {'true_gene_cnt': 310.74999999999994, 'species_cnt': 311.2, 'true_gene_pct': 94.16666666666664, 'species_pct': 94.30303030303031}}, 'GTF-boot': {'base': {'true_gene_cnt': 311.6, 'species_cnt': 310.09999999999997, 'true_gene_pct': 94.42424242424242, 'species_pct': 93.96969696969697}}, 'GTF-bucky-boot': {'base': {'true_gene_cnt': 316.65000000000003, 'species_cnt': 315.95, 'true_gene_pct': 95.95454545454547, 'species_pct': 95.74242424242425}}}, 'higher-ILS': {'GTF': {'base': {'true_gene_cnt': 252.69999999999996, 'species_cnt': 245.45, 'true_gene_pct': 76.57575757575758, 'species_pct': 74.37878787878788}}}}\n",
      "################ higher-ILS GTF-boot 1 ########################\n",
      "{'lower-ILS': {'GTF': {'base': {'true_gene_cnt': 310.74999999999994, 'species_cnt': 311.2, 'true_gene_pct': 94.16666666666664, 'species_pct': 94.30303030303031}}, 'GTF-boot': {'base': {'true_gene_cnt': 311.6, 'species_cnt': 310.09999999999997, 'true_gene_pct': 94.42424242424242, 'species_pct': 93.96969696969697}}, 'GTF-bucky-boot': {'base': {'true_gene_cnt': 316.65000000000003, 'species_cnt': 315.95, 'true_gene_pct': 95.95454545454547, 'species_pct': 95.74242424242425}}}, 'higher-ILS': {'GTF': {'base': {'true_gene_cnt': 252.69999999999996, 'species_cnt': 245.45, 'true_gene_pct': 76.57575757575758, 'species_pct': 74.37878787878788}}, 'GTF-boot': {'base': {'true_gene_cnt': 15.25, 'species_cnt': 14.2, 'true_gene_pct': 4.621212121212121, 'species_pct': 4.303030303030303}}}}\n",
      "################ higher-ILS GTF-boot 2 ########################\n",
      "{'lower-ILS': {'GTF': {'base': {'true_gene_cnt': 310.74999999999994, 'species_cnt': 311.2, 'true_gene_pct': 94.16666666666664, 'species_pct': 94.30303030303031}}, 'GTF-boot': {'base': {'true_gene_cnt': 311.6, 'species_cnt': 310.09999999999997, 'true_gene_pct': 94.42424242424242, 'species_pct': 93.96969696969697}}, 'GTF-bucky-boot': {'base': {'true_gene_cnt': 316.65000000000003, 'species_cnt': 315.95, 'true_gene_pct': 95.95454545454547, 'species_pct': 95.74242424242425}}}, 'higher-ILS': {'GTF': {'base': {'true_gene_cnt': 252.69999999999996, 'species_cnt': 245.45, 'true_gene_pct': 76.57575757575758, 'species_pct': 74.37878787878788}}, 'GTF-boot': {'base': {'true_gene_cnt': 29.75, 'species_cnt': 28.6, 'true_gene_pct': 9.015151515151516, 'species_pct': 8.666666666666666}}}}\n",
      "################ higher-ILS GTF-boot 3 ########################\n",
      "{'lower-ILS': {'GTF': {'base': {'true_gene_cnt': 310.74999999999994, 'species_cnt': 311.2, 'true_gene_pct': 94.16666666666664, 'species_pct': 94.30303030303031}}, 'GTF-boot': {'base': {'true_gene_cnt': 311.6, 'species_cnt': 310.09999999999997, 'true_gene_pct': 94.42424242424242, 'species_pct': 93.96969696969697}}, 'GTF-bucky-boot': {'base': {'true_gene_cnt': 316.65000000000003, 'species_cnt': 315.95, 'true_gene_pct': 95.95454545454547, 'species_pct': 95.74242424242425}}}, 'higher-ILS': {'GTF': {'base': {'true_gene_cnt': 252.69999999999996, 'species_cnt': 245.45, 'true_gene_pct': 76.57575757575758, 'species_pct': 74.37878787878788}}, 'GTF-boot': {'base': {'true_gene_cnt': 44.9, 'species_cnt': 43.1, 'true_gene_pct': 13.606060606060606, 'species_pct': 13.060606060606059}}}}\n",
      "################ higher-ILS GTF-boot 4 ########################\n",
      "{'lower-ILS': {'GTF': {'base': {'true_gene_cnt': 310.74999999999994, 'species_cnt': 311.2, 'true_gene_pct': 94.16666666666664, 'species_pct': 94.30303030303031}}, 'GTF-boot': {'base': {'true_gene_cnt': 311.6, 'species_cnt': 310.09999999999997, 'true_gene_pct': 94.42424242424242, 'species_pct': 93.96969696969697}}, 'GTF-bucky-boot': {'base': {'true_gene_cnt': 316.65000000000003, 'species_cnt': 315.95, 'true_gene_pct': 95.95454545454547, 'species_pct': 95.74242424242425}}}, 'higher-ILS': {'GTF': {'base': {'true_gene_cnt': 252.69999999999996, 'species_cnt': 245.45, 'true_gene_pct': 76.57575757575758, 'species_pct': 74.37878787878788}}, 'GTF-boot': {'base': {'true_gene_cnt': 58.0, 'species_cnt': 53.85, 'true_gene_pct': 17.575757575757574, 'species_pct': 16.318181818181817}}}}\n",
      "################ higher-ILS GTF-boot 5 ########################\n",
      "{'lower-ILS': {'GTF': {'base': {'true_gene_cnt': 310.74999999999994, 'species_cnt': 311.2, 'true_gene_pct': 94.16666666666664, 'species_pct': 94.30303030303031}}, 'GTF-boot': {'base': {'true_gene_cnt': 311.6, 'species_cnt': 310.09999999999997, 'true_gene_pct': 94.42424242424242, 'species_pct': 93.96969696969697}}, 'GTF-bucky-boot': {'base': {'true_gene_cnt': 316.65000000000003, 'species_cnt': 315.95, 'true_gene_pct': 95.95454545454547, 'species_pct': 95.74242424242425}}}, 'higher-ILS': {'GTF': {'base': {'true_gene_cnt': 252.69999999999996, 'species_cnt': 245.45, 'true_gene_pct': 76.57575757575758, 'species_pct': 74.37878787878788}}, 'GTF-boot': {'base': {'true_gene_cnt': 72.2, 'species_cnt': 67.65, 'true_gene_pct': 21.878787878787875, 'species_pct': 20.5}}}}\n",
      "################ higher-ILS GTF-boot 6 ########################\n",
      "{'lower-ILS': {'GTF': {'base': {'true_gene_cnt': 310.74999999999994, 'species_cnt': 311.2, 'true_gene_pct': 94.16666666666664, 'species_pct': 94.30303030303031}}, 'GTF-boot': {'base': {'true_gene_cnt': 311.6, 'species_cnt': 310.09999999999997, 'true_gene_pct': 94.42424242424242, 'species_pct': 93.96969696969697}}, 'GTF-bucky-boot': {'base': {'true_gene_cnt': 316.65000000000003, 'species_cnt': 315.95, 'true_gene_pct': 95.95454545454547, 'species_pct': 95.74242424242425}}}, 'higher-ILS': {'GTF': {'base': {'true_gene_cnt': 252.69999999999996, 'species_cnt': 245.45, 'true_gene_pct': 76.57575757575758, 'species_pct': 74.37878787878788}}, 'GTF-boot': {'base': {'true_gene_cnt': 87.05, 'species_cnt': 82.35000000000001, 'true_gene_pct': 26.378787878787875, 'species_pct': 24.954545454545453}}}}\n",
      "################ higher-ILS GTF-boot 7 ########################\n",
      "{'lower-ILS': {'GTF': {'base': {'true_gene_cnt': 310.74999999999994, 'species_cnt': 311.2, 'true_gene_pct': 94.16666666666664, 'species_pct': 94.30303030303031}}, 'GTF-boot': {'base': {'true_gene_cnt': 311.6, 'species_cnt': 310.09999999999997, 'true_gene_pct': 94.42424242424242, 'species_pct': 93.96969696969697}}, 'GTF-bucky-boot': {'base': {'true_gene_cnt': 316.65000000000003, 'species_cnt': 315.95, 'true_gene_pct': 95.95454545454547, 'species_pct': 95.74242424242425}}}, 'higher-ILS': {'GTF': {'base': {'true_gene_cnt': 252.69999999999996, 'species_cnt': 245.45, 'true_gene_pct': 76.57575757575758, 'species_pct': 74.37878787878788}}, 'GTF-boot': {'base': {'true_gene_cnt': 101.8, 'species_cnt': 97.95, 'true_gene_pct': 30.848484848484844, 'species_pct': 29.68181818181818}}}}\n",
      "################ higher-ILS GTF-boot 8 ########################\n",
      "{'lower-ILS': {'GTF': {'base': {'true_gene_cnt': 310.74999999999994, 'species_cnt': 311.2, 'true_gene_pct': 94.16666666666664, 'species_pct': 94.30303030303031}}, 'GTF-boot': {'base': {'true_gene_cnt': 311.6, 'species_cnt': 310.09999999999997, 'true_gene_pct': 94.42424242424242, 'species_pct': 93.96969696969697}}, 'GTF-bucky-boot': {'base': {'true_gene_cnt': 316.65000000000003, 'species_cnt': 315.95, 'true_gene_pct': 95.95454545454547, 'species_pct': 95.74242424242425}}}, 'higher-ILS': {'GTF': {'base': {'true_gene_cnt': 252.69999999999996, 'species_cnt': 245.45, 'true_gene_pct': 76.57575757575758, 'species_pct': 74.37878787878788}}, 'GTF-boot': {'base': {'true_gene_cnt': 117.14999999999999, 'species_cnt': 112.60000000000001, 'true_gene_pct': 35.49999999999999, 'species_pct': 34.12121212121212}}}}\n",
      "################ higher-ILS GTF-boot 9 ########################\n",
      "{'lower-ILS': {'GTF': {'base': {'true_gene_cnt': 310.74999999999994, 'species_cnt': 311.2, 'true_gene_pct': 94.16666666666664, 'species_pct': 94.30303030303031}}, 'GTF-boot': {'base': {'true_gene_cnt': 311.6, 'species_cnt': 310.09999999999997, 'true_gene_pct': 94.42424242424242, 'species_pct': 93.96969696969697}}, 'GTF-bucky-boot': {'base': {'true_gene_cnt': 316.65000000000003, 'species_cnt': 315.95, 'true_gene_pct': 95.95454545454547, 'species_pct': 95.74242424242425}}}, 'higher-ILS': {'GTF': {'base': {'true_gene_cnt': 252.69999999999996, 'species_cnt': 245.45, 'true_gene_pct': 76.57575757575758, 'species_pct': 74.37878787878788}}, 'GTF-boot': {'base': {'true_gene_cnt': 131.6, 'species_cnt': 126.25000000000001, 'true_gene_pct': 39.878787878787875, 'species_pct': 38.25757575757575}}}}\n",
      "################ higher-ILS GTF-boot 10 ########################\n",
      "{'lower-ILS': {'GTF': {'base': {'true_gene_cnt': 310.74999999999994, 'species_cnt': 311.2, 'true_gene_pct': 94.16666666666664, 'species_pct': 94.30303030303031}}, 'GTF-boot': {'base': {'true_gene_cnt': 311.6, 'species_cnt': 310.09999999999997, 'true_gene_pct': 94.42424242424242, 'species_pct': 93.96969696969697}}, 'GTF-bucky-boot': {'base': {'true_gene_cnt': 316.65000000000003, 'species_cnt': 315.95, 'true_gene_pct': 95.95454545454547, 'species_pct': 95.74242424242425}}}, 'higher-ILS': {'GTF': {'base': {'true_gene_cnt': 252.69999999999996, 'species_cnt': 245.45, 'true_gene_pct': 76.57575757575758, 'species_pct': 74.37878787878788}}, 'GTF-boot': {'base': {'true_gene_cnt': 145.04999999999998, 'species_cnt': 139.3, 'true_gene_pct': 43.95454545454545, 'species_pct': 42.212121212121204}}}}\n",
      "################ higher-ILS GTF-boot 11 ########################\n",
      "{'lower-ILS': {'GTF': {'base': {'true_gene_cnt': 310.74999999999994, 'species_cnt': 311.2, 'true_gene_pct': 94.16666666666664, 'species_pct': 94.30303030303031}}, 'GTF-boot': {'base': {'true_gene_cnt': 311.6, 'species_cnt': 310.09999999999997, 'true_gene_pct': 94.42424242424242, 'species_pct': 93.96969696969697}}, 'GTF-bucky-boot': {'base': {'true_gene_cnt': 316.65000000000003, 'species_cnt': 315.95, 'true_gene_pct': 95.95454545454547, 'species_pct': 95.74242424242425}}}, 'higher-ILS': {'GTF': {'base': {'true_gene_cnt': 252.69999999999996, 'species_cnt': 245.45, 'true_gene_pct': 76.57575757575758, 'species_pct': 74.37878787878788}}, 'GTF-boot': {'base': {'true_gene_cnt': 160.2, 'species_cnt': 154.05, 'true_gene_pct': 48.54545454545455, 'species_pct': 46.68181818181817}}}}\n",
      "################ higher-ILS GTF-boot 12 ########################\n",
      "{'lower-ILS': {'GTF': {'base': {'true_gene_cnt': 310.74999999999994, 'species_cnt': 311.2, 'true_gene_pct': 94.16666666666664, 'species_pct': 94.30303030303031}}, 'GTF-boot': {'base': {'true_gene_cnt': 311.6, 'species_cnt': 310.09999999999997, 'true_gene_pct': 94.42424242424242, 'species_pct': 93.96969696969697}}, 'GTF-bucky-boot': {'base': {'true_gene_cnt': 316.65000000000003, 'species_cnt': 315.95, 'true_gene_pct': 95.95454545454547, 'species_pct': 95.74242424242425}}}, 'higher-ILS': {'GTF': {'base': {'true_gene_cnt': 252.69999999999996, 'species_cnt': 245.45, 'true_gene_pct': 76.57575757575758, 'species_pct': 74.37878787878788}}, 'GTF-boot': {'base': {'true_gene_cnt': 173.39999999999998, 'species_cnt': 167.0, 'true_gene_pct': 52.54545454545455, 'species_pct': 50.606060606060595}}}}\n",
      "################ higher-ILS GTF-boot 13 ########################\n",
      "{'lower-ILS': {'GTF': {'base': {'true_gene_cnt': 310.74999999999994, 'species_cnt': 311.2, 'true_gene_pct': 94.16666666666664, 'species_pct': 94.30303030303031}}, 'GTF-boot': {'base': {'true_gene_cnt': 311.6, 'species_cnt': 310.09999999999997, 'true_gene_pct': 94.42424242424242, 'species_pct': 93.96969696969697}}, 'GTF-bucky-boot': {'base': {'true_gene_cnt': 316.65000000000003, 'species_cnt': 315.95, 'true_gene_pct': 95.95454545454547, 'species_pct': 95.74242424242425}}}, 'higher-ILS': {'GTF': {'base': {'true_gene_cnt': 252.69999999999996, 'species_cnt': 245.45, 'true_gene_pct': 76.57575757575758, 'species_pct': 74.37878787878788}}, 'GTF-boot': {'base': {'true_gene_cnt': 186.34999999999997, 'species_cnt': 179.6, 'true_gene_pct': 56.46969696969697, 'species_pct': 54.424242424242415}}}}\n",
      "################ higher-ILS GTF-boot 14 ########################\n",
      "{'lower-ILS': {'GTF': {'base': {'true_gene_cnt': 310.74999999999994, 'species_cnt': 311.2, 'true_gene_pct': 94.16666666666664, 'species_pct': 94.30303030303031}}, 'GTF-boot': {'base': {'true_gene_cnt': 311.6, 'species_cnt': 310.09999999999997, 'true_gene_pct': 94.42424242424242, 'species_pct': 93.96969696969697}}, 'GTF-bucky-boot': {'base': {'true_gene_cnt': 316.65000000000003, 'species_cnt': 315.95, 'true_gene_pct': 95.95454545454547, 'species_pct': 95.74242424242425}}}, 'higher-ILS': {'GTF': {'base': {'true_gene_cnt': 252.69999999999996, 'species_cnt': 245.45, 'true_gene_pct': 76.57575757575758, 'species_pct': 74.37878787878788}}, 'GTF-boot': {'base': {'true_gene_cnt': 197.04999999999995, 'species_cnt': 190.35, 'true_gene_pct': 59.71212121212121, 'species_pct': 57.68181818181817}}}}\n",
      "################ higher-ILS GTF-boot 15 ########################\n",
      "{'lower-ILS': {'GTF': {'base': {'true_gene_cnt': 310.74999999999994, 'species_cnt': 311.2, 'true_gene_pct': 94.16666666666664, 'species_pct': 94.30303030303031}}, 'GTF-boot': {'base': {'true_gene_cnt': 311.6, 'species_cnt': 310.09999999999997, 'true_gene_pct': 94.42424242424242, 'species_pct': 93.96969696969697}}, 'GTF-bucky-boot': {'base': {'true_gene_cnt': 316.65000000000003, 'species_cnt': 315.95, 'true_gene_pct': 95.95454545454547, 'species_pct': 95.74242424242425}}}, 'higher-ILS': {'GTF': {'base': {'true_gene_cnt': 252.69999999999996, 'species_cnt': 245.45, 'true_gene_pct': 76.57575757575758, 'species_pct': 74.37878787878788}}, 'GTF-boot': {'base': {'true_gene_cnt': 210.84999999999997, 'species_cnt': 204.15, 'true_gene_pct': 63.89393939393939, 'species_pct': 61.86363636363635}}}}\n",
      "################ higher-ILS GTF-boot 16 ########################\n",
      "{'lower-ILS': {'GTF': {'base': {'true_gene_cnt': 310.74999999999994, 'species_cnt': 311.2, 'true_gene_pct': 94.16666666666664, 'species_pct': 94.30303030303031}}, 'GTF-boot': {'base': {'true_gene_cnt': 311.6, 'species_cnt': 310.09999999999997, 'true_gene_pct': 94.42424242424242, 'species_pct': 93.96969696969697}}, 'GTF-bucky-boot': {'base': {'true_gene_cnt': 316.65000000000003, 'species_cnt': 315.95, 'true_gene_pct': 95.95454545454547, 'species_pct': 95.74242424242425}}}, 'higher-ILS': {'GTF': {'base': {'true_gene_cnt': 252.69999999999996, 'species_cnt': 245.45, 'true_gene_pct': 76.57575757575758, 'species_pct': 74.37878787878788}}, 'GTF-boot': {'base': {'true_gene_cnt': 223.44999999999996, 'species_cnt': 217.05, 'true_gene_pct': 67.7121212121212, 'species_pct': 65.77272727272727}}}}\n",
      "################ higher-ILS GTF-boot 17 ########################\n",
      "{'lower-ILS': {'GTF': {'base': {'true_gene_cnt': 310.74999999999994, 'species_cnt': 311.2, 'true_gene_pct': 94.16666666666664, 'species_pct': 94.30303030303031}}, 'GTF-boot': {'base': {'true_gene_cnt': 311.6, 'species_cnt': 310.09999999999997, 'true_gene_pct': 94.42424242424242, 'species_pct': 93.96969696969697}}, 'GTF-bucky-boot': {'base': {'true_gene_cnt': 316.65000000000003, 'species_cnt': 315.95, 'true_gene_pct': 95.95454545454547, 'species_pct': 95.74242424242425}}}, 'higher-ILS': {'GTF': {'base': {'true_gene_cnt': 252.69999999999996, 'species_cnt': 245.45, 'true_gene_pct': 76.57575757575758, 'species_pct': 74.37878787878788}}, 'GTF-boot': {'base': {'true_gene_cnt': 237.49999999999997, 'species_cnt': 231.0, 'true_gene_pct': 71.96969696969697, 'species_pct': 70.0}}}}\n",
      "################ higher-ILS GTF-boot 18 ########################\n",
      "{'lower-ILS': {'GTF': {'base': {'true_gene_cnt': 310.74999999999994, 'species_cnt': 311.2, 'true_gene_pct': 94.16666666666664, 'species_pct': 94.30303030303031}}, 'GTF-boot': {'base': {'true_gene_cnt': 311.6, 'species_cnt': 310.09999999999997, 'true_gene_pct': 94.42424242424242, 'species_pct': 93.96969696969697}}, 'GTF-bucky-boot': {'base': {'true_gene_cnt': 316.65000000000003, 'species_cnt': 315.95, 'true_gene_pct': 95.95454545454547, 'species_pct': 95.74242424242425}}}, 'higher-ILS': {'GTF': {'base': {'true_gene_cnt': 252.69999999999996, 'species_cnt': 245.45, 'true_gene_pct': 76.57575757575758, 'species_pct': 74.37878787878788}}, 'GTF-boot': {'base': {'true_gene_cnt': 249.39999999999998, 'species_cnt': 242.05, 'true_gene_pct': 75.57575757575758, 'species_pct': 73.34848484848484}}}}\n",
      "################ higher-ILS GTF-boot 19 ########################\n",
      "{'lower-ILS': {'GTF': {'base': {'true_gene_cnt': 310.74999999999994, 'species_cnt': 311.2, 'true_gene_pct': 94.16666666666664, 'species_pct': 94.30303030303031}}, 'GTF-boot': {'base': {'true_gene_cnt': 311.6, 'species_cnt': 310.09999999999997, 'true_gene_pct': 94.42424242424242, 'species_pct': 93.96969696969697}}, 'GTF-bucky-boot': {'base': {'true_gene_cnt': 316.65000000000003, 'species_cnt': 315.95, 'true_gene_pct': 95.95454545454547, 'species_pct': 95.74242424242425}}}, 'higher-ILS': {'GTF': {'base': {'true_gene_cnt': 252.69999999999996, 'species_cnt': 245.45, 'true_gene_pct': 76.57575757575758, 'species_pct': 74.37878787878788}}, 'GTF-boot': {'base': {'true_gene_cnt': 263.59999999999997, 'species_cnt': 255.65, 'true_gene_pct': 79.87878787878788, 'species_pct': 77.46969696969697}}}}\n",
      "################ higher-ILS GTF-boot 20 ########################\n",
      "{'lower-ILS': {'GTF': {'base': {'true_gene_cnt': 310.74999999999994, 'species_cnt': 311.2, 'true_gene_pct': 94.16666666666664, 'species_pct': 94.30303030303031}}, 'GTF-boot': {'base': {'true_gene_cnt': 311.6, 'species_cnt': 310.09999999999997, 'true_gene_pct': 94.42424242424242, 'species_pct': 93.96969696969697}}, 'GTF-bucky-boot': {'base': {'true_gene_cnt': 316.65000000000003, 'species_cnt': 315.95, 'true_gene_pct': 95.95454545454547, 'species_pct': 95.74242424242425}}}, 'higher-ILS': {'GTF': {'base': {'true_gene_cnt': 252.69999999999996, 'species_cnt': 245.45, 'true_gene_pct': 76.57575757575758, 'species_pct': 74.37878787878788}}, 'GTF-boot': {'base': {'true_gene_cnt': 276.2, 'species_cnt': 267.85, 'true_gene_pct': 83.69696969696969, 'species_pct': 81.16666666666667}}}}\n",
      "################ higher-ILS GTF-bucky-boot 1 ########################\n",
      "{'lower-ILS': {'GTF': {'base': {'true_gene_cnt': 310.74999999999994, 'species_cnt': 311.2, 'true_gene_pct': 94.16666666666664, 'species_pct': 94.30303030303031}}, 'GTF-boot': {'base': {'true_gene_cnt': 311.6, 'species_cnt': 310.09999999999997, 'true_gene_pct': 94.42424242424242, 'species_pct': 93.96969696969697}}, 'GTF-bucky-boot': {'base': {'true_gene_cnt': 316.65000000000003, 'species_cnt': 315.95, 'true_gene_pct': 95.95454545454547, 'species_pct': 95.74242424242425}}}, 'higher-ILS': {'GTF': {'base': {'true_gene_cnt': 252.69999999999996, 'species_cnt': 245.45, 'true_gene_pct': 76.57575757575758, 'species_pct': 74.37878787878788}}, 'GTF-boot': {'base': {'true_gene_cnt': 276.2, 'species_cnt': 267.85, 'true_gene_pct': 83.69696969696969, 'species_pct': 81.16666666666667}}, 'GTF-bucky-boot': {'base': {'true_gene_cnt': 15.15, 'species_cnt': 14.1, 'true_gene_pct': 4.590909090909091, 'species_pct': 4.2727272727272725}}}}\n",
      "################ higher-ILS GTF-bucky-boot 2 ########################\n",
      "{'lower-ILS': {'GTF': {'base': {'true_gene_cnt': 310.74999999999994, 'species_cnt': 311.2, 'true_gene_pct': 94.16666666666664, 'species_pct': 94.30303030303031}}, 'GTF-boot': {'base': {'true_gene_cnt': 311.6, 'species_cnt': 310.09999999999997, 'true_gene_pct': 94.42424242424242, 'species_pct': 93.96969696969697}}, 'GTF-bucky-boot': {'base': {'true_gene_cnt': 316.65000000000003, 'species_cnt': 315.95, 'true_gene_pct': 95.95454545454547, 'species_pct': 95.74242424242425}}}, 'higher-ILS': {'GTF': {'base': {'true_gene_cnt': 252.69999999999996, 'species_cnt': 245.45, 'true_gene_pct': 76.57575757575758, 'species_pct': 74.37878787878788}}, 'GTF-boot': {'base': {'true_gene_cnt': 276.2, 'species_cnt': 267.85, 'true_gene_pct': 83.69696969696969, 'species_pct': 81.16666666666667}}, 'GTF-bucky-boot': {'base': {'true_gene_cnt': 29.9, 'species_cnt': 28.6, 'true_gene_pct': 9.06060606060606, 'species_pct': 8.666666666666666}}}}\n",
      "################ higher-ILS GTF-bucky-boot 3 ########################\n",
      "{'lower-ILS': {'GTF': {'base': {'true_gene_cnt': 310.74999999999994, 'species_cnt': 311.2, 'true_gene_pct': 94.16666666666664, 'species_pct': 94.30303030303031}}, 'GTF-boot': {'base': {'true_gene_cnt': 311.6, 'species_cnt': 310.09999999999997, 'true_gene_pct': 94.42424242424242, 'species_pct': 93.96969696969697}}, 'GTF-bucky-boot': {'base': {'true_gene_cnt': 316.65000000000003, 'species_cnt': 315.95, 'true_gene_pct': 95.95454545454547, 'species_pct': 95.74242424242425}}}, 'higher-ILS': {'GTF': {'base': {'true_gene_cnt': 252.69999999999996, 'species_cnt': 245.45, 'true_gene_pct': 76.57575757575758, 'species_pct': 74.37878787878788}}, 'GTF-boot': {'base': {'true_gene_cnt': 276.2, 'species_cnt': 267.85, 'true_gene_pct': 83.69696969696969, 'species_pct': 81.16666666666667}}, 'GTF-bucky-boot': {'base': {'true_gene_cnt': 45.349999999999994, 'species_cnt': 43.25, 'true_gene_pct': 13.742424242424242, 'species_pct': 13.106060606060606}}}}\n",
      "################ higher-ILS GTF-bucky-boot 4 ########################\n",
      "{'lower-ILS': {'GTF': {'base': {'true_gene_cnt': 310.74999999999994, 'species_cnt': 311.2, 'true_gene_pct': 94.16666666666664, 'species_pct': 94.30303030303031}}, 'GTF-boot': {'base': {'true_gene_cnt': 311.6, 'species_cnt': 310.09999999999997, 'true_gene_pct': 94.42424242424242, 'species_pct': 93.96969696969697}}, 'GTF-bucky-boot': {'base': {'true_gene_cnt': 316.65000000000003, 'species_cnt': 315.95, 'true_gene_pct': 95.95454545454547, 'species_pct': 95.74242424242425}}}, 'higher-ILS': {'GTF': {'base': {'true_gene_cnt': 252.69999999999996, 'species_cnt': 245.45, 'true_gene_pct': 76.57575757575758, 'species_pct': 74.37878787878788}}, 'GTF-boot': {'base': {'true_gene_cnt': 276.2, 'species_cnt': 267.85, 'true_gene_pct': 83.69696969696969, 'species_pct': 81.16666666666667}}, 'GTF-bucky-boot': {'base': {'true_gene_cnt': 58.199999999999996, 'species_cnt': 54.2, 'true_gene_pct': 17.636363636363637, 'species_pct': 16.424242424242422}}}}\n",
      "################ higher-ILS GTF-bucky-boot 5 ########################\n",
      "{'lower-ILS': {'GTF': {'base': {'true_gene_cnt': 310.74999999999994, 'species_cnt': 311.2, 'true_gene_pct': 94.16666666666664, 'species_pct': 94.30303030303031}}, 'GTF-boot': {'base': {'true_gene_cnt': 311.6, 'species_cnt': 310.09999999999997, 'true_gene_pct': 94.42424242424242, 'species_pct': 93.96969696969697}}, 'GTF-bucky-boot': {'base': {'true_gene_cnt': 316.65000000000003, 'species_cnt': 315.95, 'true_gene_pct': 95.95454545454547, 'species_pct': 95.74242424242425}}}, 'higher-ILS': {'GTF': {'base': {'true_gene_cnt': 252.69999999999996, 'species_cnt': 245.45, 'true_gene_pct': 76.57575757575758, 'species_pct': 74.37878787878788}}, 'GTF-boot': {'base': {'true_gene_cnt': 276.2, 'species_cnt': 267.85, 'true_gene_pct': 83.69696969696969, 'species_pct': 81.16666666666667}}, 'GTF-bucky-boot': {'base': {'true_gene_cnt': 72.14999999999999, 'species_cnt': 67.8, 'true_gene_pct': 21.863636363636363, 'species_pct': 20.545454545454543}}}}\n",
      "################ higher-ILS GTF-bucky-boot 6 ########################\n",
      "{'lower-ILS': {'GTF': {'base': {'true_gene_cnt': 310.74999999999994, 'species_cnt': 311.2, 'true_gene_pct': 94.16666666666664, 'species_pct': 94.30303030303031}}, 'GTF-boot': {'base': {'true_gene_cnt': 311.6, 'species_cnt': 310.09999999999997, 'true_gene_pct': 94.42424242424242, 'species_pct': 93.96969696969697}}, 'GTF-bucky-boot': {'base': {'true_gene_cnt': 316.65000000000003, 'species_cnt': 315.95, 'true_gene_pct': 95.95454545454547, 'species_pct': 95.74242424242425}}}, 'higher-ILS': {'GTF': {'base': {'true_gene_cnt': 252.69999999999996, 'species_cnt': 245.45, 'true_gene_pct': 76.57575757575758, 'species_pct': 74.37878787878788}}, 'GTF-boot': {'base': {'true_gene_cnt': 276.2, 'species_cnt': 267.85, 'true_gene_pct': 83.69696969696969, 'species_pct': 81.16666666666667}}, 'GTF-bucky-boot': {'base': {'true_gene_cnt': 87.3, 'species_cnt': 82.8, 'true_gene_pct': 26.454545454545453, 'species_pct': 25.09090909090909}}}}\n",
      "################ higher-ILS GTF-bucky-boot 7 ########################\n",
      "{'lower-ILS': {'GTF': {'base': {'true_gene_cnt': 310.74999999999994, 'species_cnt': 311.2, 'true_gene_pct': 94.16666666666664, 'species_pct': 94.30303030303031}}, 'GTF-boot': {'base': {'true_gene_cnt': 311.6, 'species_cnt': 310.09999999999997, 'true_gene_pct': 94.42424242424242, 'species_pct': 93.96969696969697}}, 'GTF-bucky-boot': {'base': {'true_gene_cnt': 316.65000000000003, 'species_cnt': 315.95, 'true_gene_pct': 95.95454545454547, 'species_pct': 95.74242424242425}}}, 'higher-ILS': {'GTF': {'base': {'true_gene_cnt': 252.69999999999996, 'species_cnt': 245.45, 'true_gene_pct': 76.57575757575758, 'species_pct': 74.37878787878788}}, 'GTF-boot': {'base': {'true_gene_cnt': 276.2, 'species_cnt': 267.85, 'true_gene_pct': 83.69696969696969, 'species_pct': 81.16666666666667}}, 'GTF-bucky-boot': {'base': {'true_gene_cnt': 101.7, 'species_cnt': 97.95, 'true_gene_pct': 30.818181818181817, 'species_pct': 29.68181818181818}}}}\n",
      "################ higher-ILS GTF-bucky-boot 8 ########################\n",
      "{'lower-ILS': {'GTF': {'base': {'true_gene_cnt': 310.74999999999994, 'species_cnt': 311.2, 'true_gene_pct': 94.16666666666664, 'species_pct': 94.30303030303031}}, 'GTF-boot': {'base': {'true_gene_cnt': 311.6, 'species_cnt': 310.09999999999997, 'true_gene_pct': 94.42424242424242, 'species_pct': 93.96969696969697}}, 'GTF-bucky-boot': {'base': {'true_gene_cnt': 316.65000000000003, 'species_cnt': 315.95, 'true_gene_pct': 95.95454545454547, 'species_pct': 95.74242424242425}}}, 'higher-ILS': {'GTF': {'base': {'true_gene_cnt': 252.69999999999996, 'species_cnt': 245.45, 'true_gene_pct': 76.57575757575758, 'species_pct': 74.37878787878788}}, 'GTF-boot': {'base': {'true_gene_cnt': 276.2, 'species_cnt': 267.85, 'true_gene_pct': 83.69696969696969, 'species_pct': 81.16666666666667}}, 'GTF-bucky-boot': {'base': {'true_gene_cnt': 117.05, 'species_cnt': 112.60000000000001, 'true_gene_pct': 35.46969696969697, 'species_pct': 34.12121212121212}}}}\n",
      "################ higher-ILS GTF-bucky-boot 9 ########################\n",
      "{'lower-ILS': {'GTF': {'base': {'true_gene_cnt': 310.74999999999994, 'species_cnt': 311.2, 'true_gene_pct': 94.16666666666664, 'species_pct': 94.30303030303031}}, 'GTF-boot': {'base': {'true_gene_cnt': 311.6, 'species_cnt': 310.09999999999997, 'true_gene_pct': 94.42424242424242, 'species_pct': 93.96969696969697}}, 'GTF-bucky-boot': {'base': {'true_gene_cnt': 316.65000000000003, 'species_cnt': 315.95, 'true_gene_pct': 95.95454545454547, 'species_pct': 95.74242424242425}}}, 'higher-ILS': {'GTF': {'base': {'true_gene_cnt': 252.69999999999996, 'species_cnt': 245.45, 'true_gene_pct': 76.57575757575758, 'species_pct': 74.37878787878788}}, 'GTF-boot': {'base': {'true_gene_cnt': 276.2, 'species_cnt': 267.85, 'true_gene_pct': 83.69696969696969, 'species_pct': 81.16666666666667}}, 'GTF-bucky-boot': {'base': {'true_gene_cnt': 131.85, 'species_cnt': 126.50000000000001, 'true_gene_pct': 39.95454545454545, 'species_pct': 38.33333333333333}}}}\n",
      "################ higher-ILS GTF-bucky-boot 10 ########################\n",
      "{'lower-ILS': {'GTF': {'base': {'true_gene_cnt': 310.74999999999994, 'species_cnt': 311.2, 'true_gene_pct': 94.16666666666664, 'species_pct': 94.30303030303031}}, 'GTF-boot': {'base': {'true_gene_cnt': 311.6, 'species_cnt': 310.09999999999997, 'true_gene_pct': 94.42424242424242, 'species_pct': 93.96969696969697}}, 'GTF-bucky-boot': {'base': {'true_gene_cnt': 316.65000000000003, 'species_cnt': 315.95, 'true_gene_pct': 95.95454545454547, 'species_pct': 95.74242424242425}}}, 'higher-ILS': {'GTF': {'base': {'true_gene_cnt': 252.69999999999996, 'species_cnt': 245.45, 'true_gene_pct': 76.57575757575758, 'species_pct': 74.37878787878788}}, 'GTF-boot': {'base': {'true_gene_cnt': 276.2, 'species_cnt': 267.85, 'true_gene_pct': 83.69696969696969, 'species_pct': 81.16666666666667}}, 'GTF-bucky-boot': {'base': {'true_gene_cnt': 145.85, 'species_cnt': 140.05, 'true_gene_pct': 44.196969696969695, 'species_pct': 42.43939393939394}}}}\n",
      "################ higher-ILS GTF-bucky-boot 11 ########################\n",
      "{'lower-ILS': {'GTF': {'base': {'true_gene_cnt': 310.74999999999994, 'species_cnt': 311.2, 'true_gene_pct': 94.16666666666664, 'species_pct': 94.30303030303031}}, 'GTF-boot': {'base': {'true_gene_cnt': 311.6, 'species_cnt': 310.09999999999997, 'true_gene_pct': 94.42424242424242, 'species_pct': 93.96969696969697}}, 'GTF-bucky-boot': {'base': {'true_gene_cnt': 316.65000000000003, 'species_cnt': 315.95, 'true_gene_pct': 95.95454545454547, 'species_pct': 95.74242424242425}}}, 'higher-ILS': {'GTF': {'base': {'true_gene_cnt': 252.69999999999996, 'species_cnt': 245.45, 'true_gene_pct': 76.57575757575758, 'species_pct': 74.37878787878788}}, 'GTF-boot': {'base': {'true_gene_cnt': 276.2, 'species_cnt': 267.85, 'true_gene_pct': 83.69696969696969, 'species_pct': 81.16666666666667}}, 'GTF-bucky-boot': {'base': {'true_gene_cnt': 160.95, 'species_cnt': 154.8, 'true_gene_pct': 48.77272727272727, 'species_pct': 46.90909090909091}}}}\n",
      "################ higher-ILS GTF-bucky-boot 12 ########################\n",
      "{'lower-ILS': {'GTF': {'base': {'true_gene_cnt': 310.74999999999994, 'species_cnt': 311.2, 'true_gene_pct': 94.16666666666664, 'species_pct': 94.30303030303031}}, 'GTF-boot': {'base': {'true_gene_cnt': 311.6, 'species_cnt': 310.09999999999997, 'true_gene_pct': 94.42424242424242, 'species_pct': 93.96969696969697}}, 'GTF-bucky-boot': {'base': {'true_gene_cnt': 316.65000000000003, 'species_cnt': 315.95, 'true_gene_pct': 95.95454545454547, 'species_pct': 95.74242424242425}}}, 'higher-ILS': {'GTF': {'base': {'true_gene_cnt': 252.69999999999996, 'species_cnt': 245.45, 'true_gene_pct': 76.57575757575758, 'species_pct': 74.37878787878788}}, 'GTF-boot': {'base': {'true_gene_cnt': 276.2, 'species_cnt': 267.85, 'true_gene_pct': 83.69696969696969, 'species_pct': 81.16666666666667}}, 'GTF-bucky-boot': {'base': {'true_gene_cnt': 174.1, 'species_cnt': 167.85000000000002, 'true_gene_pct': 52.75757575757576, 'species_pct': 50.86363636363636}}}}\n",
      "################ higher-ILS GTF-bucky-boot 13 ########################\n",
      "{'lower-ILS': {'GTF': {'base': {'true_gene_cnt': 310.74999999999994, 'species_cnt': 311.2, 'true_gene_pct': 94.16666666666664, 'species_pct': 94.30303030303031}}, 'GTF-boot': {'base': {'true_gene_cnt': 311.6, 'species_cnt': 310.09999999999997, 'true_gene_pct': 94.42424242424242, 'species_pct': 93.96969696969697}}, 'GTF-bucky-boot': {'base': {'true_gene_cnt': 316.65000000000003, 'species_cnt': 315.95, 'true_gene_pct': 95.95454545454547, 'species_pct': 95.74242424242425}}}, 'higher-ILS': {'GTF': {'base': {'true_gene_cnt': 252.69999999999996, 'species_cnt': 245.45, 'true_gene_pct': 76.57575757575758, 'species_pct': 74.37878787878788}}, 'GTF-boot': {'base': {'true_gene_cnt': 276.2, 'species_cnt': 267.85, 'true_gene_pct': 83.69696969696969, 'species_pct': 81.16666666666667}}, 'GTF-bucky-boot': {'base': {'true_gene_cnt': 186.6, 'species_cnt': 180.20000000000002, 'true_gene_pct': 56.54545454545455, 'species_pct': 54.6060606060606}}}}\n",
      "################ higher-ILS GTF-bucky-boot 14 ########################\n",
      "{'lower-ILS': {'GTF': {'base': {'true_gene_cnt': 310.74999999999994, 'species_cnt': 311.2, 'true_gene_pct': 94.16666666666664, 'species_pct': 94.30303030303031}}, 'GTF-boot': {'base': {'true_gene_cnt': 311.6, 'species_cnt': 310.09999999999997, 'true_gene_pct': 94.42424242424242, 'species_pct': 93.96969696969697}}, 'GTF-bucky-boot': {'base': {'true_gene_cnt': 316.65000000000003, 'species_cnt': 315.95, 'true_gene_pct': 95.95454545454547, 'species_pct': 95.74242424242425}}}, 'higher-ILS': {'GTF': {'base': {'true_gene_cnt': 252.69999999999996, 'species_cnt': 245.45, 'true_gene_pct': 76.57575757575758, 'species_pct': 74.37878787878788}}, 'GTF-boot': {'base': {'true_gene_cnt': 276.2, 'species_cnt': 267.85, 'true_gene_pct': 83.69696969696969, 'species_pct': 81.16666666666667}}, 'GTF-bucky-boot': {'base': {'true_gene_cnt': 196.25, 'species_cnt': 189.8, 'true_gene_pct': 59.46969696969697, 'species_pct': 57.51515151515151}}}}\n",
      "################ higher-ILS GTF-bucky-boot 15 ########################\n",
      "{'lower-ILS': {'GTF': {'base': {'true_gene_cnt': 310.74999999999994, 'species_cnt': 311.2, 'true_gene_pct': 94.16666666666664, 'species_pct': 94.30303030303031}}, 'GTF-boot': {'base': {'true_gene_cnt': 311.6, 'species_cnt': 310.09999999999997, 'true_gene_pct': 94.42424242424242, 'species_pct': 93.96969696969697}}, 'GTF-bucky-boot': {'base': {'true_gene_cnt': 316.65000000000003, 'species_cnt': 315.95, 'true_gene_pct': 95.95454545454547, 'species_pct': 95.74242424242425}}}, 'higher-ILS': {'GTF': {'base': {'true_gene_cnt': 252.69999999999996, 'species_cnt': 245.45, 'true_gene_pct': 76.57575757575758, 'species_pct': 74.37878787878788}}, 'GTF-boot': {'base': {'true_gene_cnt': 276.2, 'species_cnt': 267.85, 'true_gene_pct': 83.69696969696969, 'species_pct': 81.16666666666667}}, 'GTF-bucky-boot': {'base': {'true_gene_cnt': 210.3, 'species_cnt': 203.8, 'true_gene_pct': 63.72727272727273, 'species_pct': 61.75757575757575}}}}\n",
      "################ higher-ILS GTF-bucky-boot 16 ########################\n",
      "{'lower-ILS': {'GTF': {'base': {'true_gene_cnt': 310.74999999999994, 'species_cnt': 311.2, 'true_gene_pct': 94.16666666666664, 'species_pct': 94.30303030303031}}, 'GTF-boot': {'base': {'true_gene_cnt': 311.6, 'species_cnt': 310.09999999999997, 'true_gene_pct': 94.42424242424242, 'species_pct': 93.96969696969697}}, 'GTF-bucky-boot': {'base': {'true_gene_cnt': 316.65000000000003, 'species_cnt': 315.95, 'true_gene_pct': 95.95454545454547, 'species_pct': 95.74242424242425}}}, 'higher-ILS': {'GTF': {'base': {'true_gene_cnt': 252.69999999999996, 'species_cnt': 245.45, 'true_gene_pct': 76.57575757575758, 'species_pct': 74.37878787878788}}, 'GTF-boot': {'base': {'true_gene_cnt': 276.2, 'species_cnt': 267.85, 'true_gene_pct': 83.69696969696969, 'species_pct': 81.16666666666667}}, 'GTF-bucky-boot': {'base': {'true_gene_cnt': 222.5, 'species_cnt': 217.15, 'true_gene_pct': 67.42424242424242, 'species_pct': 65.8030303030303}}}}\n",
      "################ higher-ILS GTF-bucky-boot 17 ########################\n",
      "{'lower-ILS': {'GTF': {'base': {'true_gene_cnt': 310.74999999999994, 'species_cnt': 311.2, 'true_gene_pct': 94.16666666666664, 'species_pct': 94.30303030303031}}, 'GTF-boot': {'base': {'true_gene_cnt': 311.6, 'species_cnt': 310.09999999999997, 'true_gene_pct': 94.42424242424242, 'species_pct': 93.96969696969697}}, 'GTF-bucky-boot': {'base': {'true_gene_cnt': 316.65000000000003, 'species_cnt': 315.95, 'true_gene_pct': 95.95454545454547, 'species_pct': 95.74242424242425}}}, 'higher-ILS': {'GTF': {'base': {'true_gene_cnt': 252.69999999999996, 'species_cnt': 245.45, 'true_gene_pct': 76.57575757575758, 'species_pct': 74.37878787878788}}, 'GTF-boot': {'base': {'true_gene_cnt': 276.2, 'species_cnt': 267.85, 'true_gene_pct': 83.69696969696969, 'species_pct': 81.16666666666667}}, 'GTF-bucky-boot': {'base': {'true_gene_cnt': 237.35, 'species_cnt': 231.70000000000002, 'true_gene_pct': 71.92424242424242, 'species_pct': 70.2121212121212}}}}\n",
      "################ higher-ILS GTF-bucky-boot 18 ########################\n",
      "{'lower-ILS': {'GTF': {'base': {'true_gene_cnt': 310.74999999999994, 'species_cnt': 311.2, 'true_gene_pct': 94.16666666666664, 'species_pct': 94.30303030303031}}, 'GTF-boot': {'base': {'true_gene_cnt': 311.6, 'species_cnt': 310.09999999999997, 'true_gene_pct': 94.42424242424242, 'species_pct': 93.96969696969697}}, 'GTF-bucky-boot': {'base': {'true_gene_cnt': 316.65000000000003, 'species_cnt': 315.95, 'true_gene_pct': 95.95454545454547, 'species_pct': 95.74242424242425}}}, 'higher-ILS': {'GTF': {'base': {'true_gene_cnt': 252.69999999999996, 'species_cnt': 245.45, 'true_gene_pct': 76.57575757575758, 'species_pct': 74.37878787878788}}, 'GTF-boot': {'base': {'true_gene_cnt': 276.2, 'species_cnt': 267.85, 'true_gene_pct': 83.69696969696969, 'species_pct': 81.16666666666667}}, 'GTF-bucky-boot': {'base': {'true_gene_cnt': 250.5, 'species_cnt': 244.20000000000002, 'true_gene_pct': 75.9090909090909, 'species_pct': 73.99999999999999}}}}\n",
      "################ higher-ILS GTF-bucky-boot 19 ########################\n",
      "{'lower-ILS': {'GTF': {'base': {'true_gene_cnt': 310.74999999999994, 'species_cnt': 311.2, 'true_gene_pct': 94.16666666666664, 'species_pct': 94.30303030303031}}, 'GTF-boot': {'base': {'true_gene_cnt': 311.6, 'species_cnt': 310.09999999999997, 'true_gene_pct': 94.42424242424242, 'species_pct': 93.96969696969697}}, 'GTF-bucky-boot': {'base': {'true_gene_cnt': 316.65000000000003, 'species_cnt': 315.95, 'true_gene_pct': 95.95454545454547, 'species_pct': 95.74242424242425}}}, 'higher-ILS': {'GTF': {'base': {'true_gene_cnt': 252.69999999999996, 'species_cnt': 245.45, 'true_gene_pct': 76.57575757575758, 'species_pct': 74.37878787878788}}, 'GTF-boot': {'base': {'true_gene_cnt': 276.2, 'species_cnt': 267.85, 'true_gene_pct': 83.69696969696969, 'species_pct': 81.16666666666667}}, 'GTF-bucky-boot': {'base': {'true_gene_cnt': 264.6, 'species_cnt': 257.6, 'true_gene_pct': 80.18181818181817, 'species_pct': 78.06060606060605}}}}\n",
      "################ higher-ILS GTF-bucky-boot 20 ########################\n",
      "{'lower-ILS': {'GTF': {'base': {'true_gene_cnt': 310.74999999999994, 'species_cnt': 311.2, 'true_gene_pct': 94.16666666666664, 'species_pct': 94.30303030303031}}, 'GTF-boot': {'base': {'true_gene_cnt': 311.6, 'species_cnt': 310.09999999999997, 'true_gene_pct': 94.42424242424242, 'species_pct': 93.96969696969697}}, 'GTF-bucky-boot': {'base': {'true_gene_cnt': 316.65000000000003, 'species_cnt': 315.95, 'true_gene_pct': 95.95454545454547, 'species_pct': 95.74242424242425}}}, 'higher-ILS': {'GTF': {'base': {'true_gene_cnt': 252.69999999999996, 'species_cnt': 245.45, 'true_gene_pct': 76.57575757575758, 'species_pct': 74.37878787878788}}, 'GTF-boot': {'base': {'true_gene_cnt': 276.2, 'species_cnt': 267.85, 'true_gene_pct': 83.69696969696969, 'species_pct': 81.16666666666667}}, 'GTF-bucky-boot': {'base': {'true_gene_cnt': 276.5, 'species_cnt': 269.0, 'true_gene_pct': 83.78787878787878, 'species_pct': 81.5151515151515}}}}\n"
     ]
    }
   ],
   "source": [
    "results = {}\n",
    "for configuration in configs:\n",
    "    results[configuration] = {}\n",
    "    true_config = configuration\n",
    "    \n",
    "    for input_wqrt in input_wqrts:\n",
    "        results[configuration][input_wqrt] = {}\n",
    "        GENES = 200\n",
    "        for replicate_num in range(1, REPLICATES+1):\n",
    "            print(f\"################ {configuration} {input_wqrt} {replicate_num} ########################\")\n",
    "            species_qfile = f\"{base_folder}/10-taxon/{configuration}/true-speciestrees/R{replicate_num}.true.qrts\"\n",
    "            if not os.path.exists(species_qfile):\n",
    "                print(\"$$$$$$$$$$$$$$ Error: sqrts not found $$$$$$$$$$$$$$$\")\n",
    "                continue\n",
    "            \n",
    "            sq = get_quartet_set(species_qfile)\n",
    "            \n",
    "            true_qfile = f\"{base_folder}/10-taxon/Output/true_gt/{true_config}/R{replicate_num}-GTF-true.dqrts\"\n",
    "            if not os.path.exists(true_qfile):\n",
    "                print(\"$$$$$$$$$$$$$$ Error: tqrts not found $$$$$$$$$$$$$$$\")\n",
    "                continue\n",
    "                \n",
    "            tq = get_quartet_set(true_qfile)\n",
    "            \n",
    "            original_qfile = f\"{base_folder}/10-taxon/Output/{configuration}/R{replicate_num}-{input_wqrt}.dqrts\"\n",
    "            \n",
    "            if not os.path.exists(original_qfile):\n",
    "                print(\"$$$$$$$$$$$$$$ Error: eqrts not found $$$$$$$$$$$$$$$\")\n",
    "                continue\n",
    "                    \n",
    "            oq = get_quartet_set(original_qfile)\n",
    "            \n",
    "            if \"base\" not in results[configuration][input_wqrt]:\n",
    "                results[configuration][input_wqrt][\"base\"] = {}\n",
    "                results[configuration][input_wqrt][\"base\"][\"true_gene_cnt\"] = 0\n",
    "                results[configuration][input_wqrt][\"base\"][\"species_cnt\"] = 0\n",
    "                results[configuration][input_wqrt][\"base\"][\"true_gene_pct\"] = 0\n",
    "                results[configuration][input_wqrt][\"base\"][\"species_pct\"] = 0\n",
    "            \n",
    "            results[configuration][input_wqrt][\"base\"][\"true_gene_cnt\"] += len(oq.intersection(tq)) / REPLICATES\n",
    "            results[configuration][input_wqrt][\"base\"][\"species_cnt\"] += len(oq.intersection(sq)) / REPLICATES\n",
    "            results[configuration][input_wqrt][\"base\"][\"true_gene_pct\"] += len(oq.intersection(tq)) * 100.0 / (len(oq) * REPLICATES)\n",
    "            results[configuration][input_wqrt][\"base\"][\"species_pct\"] += len(oq.intersection(sq)) * 100.0 / (len(oq) * REPLICATES)\n",
    "            \n",
    "            print(results)\n",
    "                "
   ]
  },
  {
   "cell_type": "code",
   "execution_count": 27,
   "metadata": {},
   "outputs": [
    {
     "name": "stdout",
     "output_type": "stream",
     "text": [
      "{'lower-ILS': {'GTF': {'base': {'true_gene_cnt': 310.74999999999994, 'species_cnt': 311.2, 'true_gene_pct': 94.16666666666664, 'species_pct': 94.30303030303031}}, 'GTF-boot': {'base': {'true_gene_cnt': 311.6, 'species_cnt': 310.09999999999997, 'true_gene_pct': 94.42424242424242, 'species_pct': 93.96969696969697}}, 'GTF-bucky-boot': {'base': {'true_gene_cnt': 316.65000000000003, 'species_cnt': 315.95, 'true_gene_pct': 95.95454545454547, 'species_pct': 95.74242424242425}}}, 'higher-ILS': {'GTF': {'base': {'true_gene_cnt': 252.69999999999996, 'species_cnt': 245.45, 'true_gene_pct': 76.57575757575758, 'species_pct': 74.37878787878788}}, 'GTF-boot': {'base': {'true_gene_cnt': 276.2, 'species_cnt': 267.85, 'true_gene_pct': 83.69696969696969, 'species_pct': 81.16666666666667}}, 'GTF-bucky-boot': {'base': {'true_gene_cnt': 276.5, 'species_cnt': 269.0, 'true_gene_pct': 83.78787878787878, 'species_pct': 81.5151515151515}}}}\n"
     ]
    }
   ],
   "source": [
    "print(results)"
   ]
  },
  {
   "cell_type": "code",
   "execution_count": 28,
   "metadata": {},
   "outputs": [],
   "source": [
    "# import json\n",
    "# with open(result_file, \"w\") as fp:\n",
    "#     fp.write(json.dumps(results))"
   ]
  },
  {
   "cell_type": "code",
   "execution_count": 29,
   "metadata": {},
   "outputs": [],
   "source": [
    "import json\n",
    "with open(result_file, \"r\") as fp:\n",
    "    results = json.load(fp)"
   ]
  },
  {
   "cell_type": "code",
   "execution_count": 30,
   "metadata": {},
   "outputs": [
    {
     "data": {
      "text/plain": [
       "{'lower-ILS': {'GTF': {'base': {'true_gene_cnt': 310.74999999999994,\n",
       "    'species_cnt': 311.2,\n",
       "    'true_gene_pct': 94.16666666666664,\n",
       "    'species_pct': 94.30303030303031}},\n",
       "  'GTF-boot': {'base': {'true_gene_cnt': 311.6,\n",
       "    'species_cnt': 310.09999999999997,\n",
       "    'true_gene_pct': 94.42424242424242,\n",
       "    'species_pct': 93.96969696969697}},\n",
       "  'GTF-bucky-boot': {'base': {'true_gene_cnt': 316.65000000000003,\n",
       "    'species_cnt': 315.95,\n",
       "    'true_gene_pct': 95.95454545454547,\n",
       "    'species_pct': 95.74242424242425}}},\n",
       " 'higher-ILS': {'GTF': {'base': {'true_gene_cnt': 252.69999999999996,\n",
       "    'species_cnt': 245.45,\n",
       "    'true_gene_pct': 76.57575757575758,\n",
       "    'species_pct': 74.37878787878788}},\n",
       "  'GTF-boot': {'base': {'true_gene_cnt': 276.2,\n",
       "    'species_cnt': 267.85,\n",
       "    'true_gene_pct': 83.69696969696969,\n",
       "    'species_pct': 81.16666666666667}},\n",
       "  'GTF-bucky-boot': {'base': {'true_gene_cnt': 276.5,\n",
       "    'species_cnt': 269.0,\n",
       "    'true_gene_pct': 83.78787878787878,\n",
       "    'species_pct': 81.5151515151515}}}}"
      ]
     },
     "execution_count": 30,
     "metadata": {},
     "output_type": "execute_result"
    }
   ],
   "source": [
    "results"
   ]
  },
  {
   "cell_type": "code",
   "execution_count": 31,
   "metadata": {},
   "outputs": [],
   "source": [
    "# make a dataframe\n",
    "import pandas as pd"
   ]
  },
  {
   "cell_type": "code",
   "execution_count": 32,
   "metadata": {},
   "outputs": [],
   "source": [
    "def get_val(dct, keys):\n",
    "    for key in keys:\n",
    "        if key in dct:\n",
    "            dct = dct[key]\n",
    "        else:\n",
    "            return -1\n",
    "    return dct"
   ]
  },
  {
   "cell_type": "markdown",
   "metadata": {},
   "source": [
    "## Pct of matches"
   ]
  },
  {
   "cell_type": "code",
   "execution_count": 33,
   "metadata": {},
   "outputs": [],
   "source": [
    "data = []\n",
    "for configuration in configs:\n",
    "    for ref in [\"true_gene\", \"species\"]:\n",
    "        tmp = [configuration, ref]\n",
    "        for input_wqrt in input_wqrts:\n",
    "            c = results[configuration][input_wqrt][\"base\"]\n",
    "#             tmp.extend([c[ref+\"_cnt\"], c[ref+\"_pct\"]])\n",
    "            tmp.append(c[ref+\"_pct\"])\n",
    "        data.append(tmp)"
   ]
  },
  {
   "cell_type": "code",
   "execution_count": 34,
   "metadata": {},
   "outputs": [],
   "source": [
    "columns = [\"config\", \"reference\"] + input_wqrts\n",
    "df = pd.DataFrame(data, columns=columns)"
   ]
  },
  {
   "cell_type": "code",
   "execution_count": 35,
   "metadata": {},
   "outputs": [
    {
     "data": {
      "text/html": [
       "<div>\n",
       "<style scoped>\n",
       "    .dataframe tbody tr th:only-of-type {\n",
       "        vertical-align: middle;\n",
       "    }\n",
       "\n",
       "    .dataframe tbody tr th {\n",
       "        vertical-align: top;\n",
       "    }\n",
       "\n",
       "    .dataframe thead th {\n",
       "        text-align: right;\n",
       "    }\n",
       "</style>\n",
       "<table border=\"1\" class=\"dataframe\">\n",
       "  <thead>\n",
       "    <tr style=\"text-align: right;\">\n",
       "      <th></th>\n",
       "      <th>config</th>\n",
       "      <th>reference</th>\n",
       "      <th>GTF</th>\n",
       "      <th>GTF-boot</th>\n",
       "      <th>GTF-bucky-boot</th>\n",
       "    </tr>\n",
       "  </thead>\n",
       "  <tbody>\n",
       "    <tr>\n",
       "      <th>0</th>\n",
       "      <td>lower-ILS</td>\n",
       "      <td>true_gene</td>\n",
       "      <td>94.166667</td>\n",
       "      <td>94.424242</td>\n",
       "      <td>95.954545</td>\n",
       "    </tr>\n",
       "    <tr>\n",
       "      <th>1</th>\n",
       "      <td>lower-ILS</td>\n",
       "      <td>species</td>\n",
       "      <td>94.303030</td>\n",
       "      <td>93.969697</td>\n",
       "      <td>95.742424</td>\n",
       "    </tr>\n",
       "    <tr>\n",
       "      <th>2</th>\n",
       "      <td>higher-ILS</td>\n",
       "      <td>true_gene</td>\n",
       "      <td>76.575758</td>\n",
       "      <td>83.696970</td>\n",
       "      <td>83.787879</td>\n",
       "    </tr>\n",
       "    <tr>\n",
       "      <th>3</th>\n",
       "      <td>higher-ILS</td>\n",
       "      <td>species</td>\n",
       "      <td>74.378788</td>\n",
       "      <td>81.166667</td>\n",
       "      <td>81.515152</td>\n",
       "    </tr>\n",
       "  </tbody>\n",
       "</table>\n",
       "</div>"
      ],
      "text/plain": [
       "       config  reference        GTF   GTF-boot  GTF-bucky-boot\n",
       "0   lower-ILS  true_gene  94.166667  94.424242       95.954545\n",
       "1   lower-ILS    species  94.303030  93.969697       95.742424\n",
       "2  higher-ILS  true_gene  76.575758  83.696970       83.787879\n",
       "3  higher-ILS    species  74.378788  81.166667       81.515152"
      ]
     },
     "execution_count": 35,
     "metadata": {},
     "output_type": "execute_result"
    }
   ],
   "source": [
    "df"
   ]
  },
  {
   "cell_type": "code",
   "execution_count": 44,
   "metadata": {},
   "outputs": [],
   "source": [
    "df.to_excel(result_df_file, index=False)"
   ]
  },
  {
   "cell_type": "code",
   "execution_count": 45,
   "metadata": {},
   "outputs": [],
   "source": [
    "df.query(\"reference == 'true_gene'\").to_excel(result_df_file_2, index=False)"
   ]
  },
  {
   "cell_type": "markdown",
   "metadata": {},
   "source": [
    "## Count of mismatches"
   ]
  },
  {
   "cell_type": "code",
   "execution_count": 38,
   "metadata": {},
   "outputs": [],
   "source": [
    "total = len(sq)"
   ]
  },
  {
   "cell_type": "code",
   "execution_count": 39,
   "metadata": {},
   "outputs": [
    {
     "data": {
      "text/plain": [
       "330"
      ]
     },
     "execution_count": 39,
     "metadata": {},
     "output_type": "execute_result"
    }
   ],
   "source": [
    "total"
   ]
  },
  {
   "cell_type": "code",
   "execution_count": 40,
   "metadata": {},
   "outputs": [],
   "source": [
    "data = []\n",
    "for configuration in configs:\n",
    "    for ref in [\"true_gene\", \"species\"]:\n",
    "        tmp = [configuration, ref]\n",
    "        for input_wqrt in input_wqrts:\n",
    "            c = results[configuration][input_wqrt][\"base\"]\n",
    "            tmp.append(total - c[ref+\"_cnt\"])\n",
    "        data.append(tmp)"
   ]
  },
  {
   "cell_type": "code",
   "execution_count": 41,
   "metadata": {},
   "outputs": [],
   "source": [
    "columns = [\"config\", \"reference\"] + input_wqrts\n",
    "df2 = pd.DataFrame(data, columns=columns)"
   ]
  },
  {
   "cell_type": "code",
   "execution_count": 42,
   "metadata": {},
   "outputs": [],
   "source": [
    "df2.to_excel(mismatch_df_file, index=False)\n",
    "df2.query(\"reference == 'true_gene'\").to_excel(mismatch_df_file_2, index=False)"
   ]
  },
  {
   "cell_type": "code",
   "execution_count": null,
   "metadata": {},
   "outputs": [],
   "source": []
  }
 ],
 "metadata": {
  "kernelspec": {
   "display_name": "Python 3 (ipykernel)",
   "language": "python",
   "name": "python3"
  },
  "language_info": {
   "codemirror_mode": {
    "name": "ipython",
    "version": 3
   },
   "file_extension": ".py",
   "mimetype": "text/x-python",
   "name": "python",
   "nbconvert_exporter": "python",
   "pygments_lexer": "ipython3",
   "version": "3.7.10"
  }
 },
 "nbformat": 4,
 "nbformat_minor": 2
}
