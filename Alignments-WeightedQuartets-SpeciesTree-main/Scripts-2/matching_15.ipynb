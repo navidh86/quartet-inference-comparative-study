{
 "cells": [
  {
   "cell_type": "markdown",
   "metadata": {},
   "source": [
    "# For each version of gene trees, I will try to find the matching number of dominant quartets wrt the true gene trees"
   ]
  },
  {
   "cell_type": "code",
   "execution_count": 1,
   "metadata": {},
   "outputs": [],
   "source": [
    "from Quartet import Quartet\n",
    "import os"
   ]
  },
  {
   "cell_type": "code",
   "execution_count": 2,
   "metadata": {},
   "outputs": [],
   "source": [
    "base_folder = \"/home/navid/comparative_study/Alignments-WeightedQuartets-SpeciesTree-main\""
   ]
  },
  {
   "cell_type": "code",
   "execution_count": 3,
   "metadata": {},
   "outputs": [],
   "source": [
    "input_wqrts = [\"GTF\", \"GTF-boot\", \"GTF-bucky-boot\"]\n",
    "REPLICATES = 10\n",
    "configs = [\"100gene-100bp\", \"100gene-1000bp\", \"1000gene-100bp\", \"1000gene-1000bp\"]\n",
    "result_file = f\"{base_folder}/Results/data/Quartet-Match/15-taxon/matches.json\"\n",
    "result_df_file = f\"{base_folder}/Results/data/Quartet-Match/15-taxon/match-pct.xlsx\"\n",
    "result_df_file_2 = f\"{base_folder}/Results/data/Quartet-Match/15-taxon/match-pct-truegt-only.xlsx\"\n",
    "mismatch_df_file = f\"{base_folder}/Results/data/Quartet-Match/15-taxon/mismatch-count.xlsx\"\n",
    "mismatch_df_file_2 = f\"{base_folder}/Results/data/Quartet-Match/15-taxon/mismatch-count-truegt-only.xlsx\""
   ]
  },
  {
   "cell_type": "code",
   "execution_count": 4,
   "metadata": {},
   "outputs": [],
   "source": [
    "def get_quartet_set(quartets_file):\n",
    "    quartets = set()\n",
    "    with open(quartets_file, \"r\") as fp:\n",
    "        lines = fp.readlines()\n",
    "        for line in lines:\n",
    "            l = line.split()\n",
    "            quartets.add(Quartet(l[0]))\n",
    "    \n",
    "    return quartets            "
   ]
  },
  {
   "cell_type": "code",
   "execution_count": 5,
   "metadata": {},
   "outputs": [],
   "source": [
    "# generate the set for species tree quartets first\n",
    "\n",
    "quartets_file = f\"{base_folder}/15-taxon/true-species.qrts\"\n",
    "sq = get_quartet_set(quartets_file)"
   ]
  },
  {
   "cell_type": "code",
   "execution_count": 6,
   "metadata": {},
   "outputs": [
    {
     "name": "stdout",
     "output_type": "stream",
     "text": [
      "1365\n"
     ]
    }
   ],
   "source": [
    "print(len(sq))"
   ]
  },
  {
   "cell_type": "code",
   "execution_count": 9,
   "metadata": {},
   "outputs": [
    {
     "name": "stdout",
     "output_type": "stream",
     "text": [
      "################ 100gene-100bp GTF 1 ########################\n",
      "{'100gene-100bp': {'GTF': {'base': {'true_gene_cnt': 118.8, 'species_cnt': 118.6, 'true_gene_pct': 8.703296703296703, 'species_pct': 8.688644688644688}}}}\n",
      "################ 100gene-100bp GTF 2 ########################\n",
      "{'100gene-100bp': {'GTF': {'base': {'true_gene_cnt': 236.8, 'species_cnt': 235.7, 'true_gene_pct': 17.347985347985347, 'species_pct': 17.267399267399266}}}}\n",
      "################ 100gene-100bp GTF 3 ########################\n",
      "{'100gene-100bp': {'GTF': {'base': {'true_gene_cnt': 358.70000000000005, 'species_cnt': 356.29999999999995, 'true_gene_pct': 26.278388278388277, 'species_pct': 26.102564102564102}}}}\n",
      "################ 100gene-100bp GTF 4 ########################\n",
      "{'100gene-100bp': {'GTF': {'base': {'true_gene_cnt': 483.1, 'species_cnt': 480.09999999999997, 'true_gene_pct': 35.39194139194139, 'species_pct': 35.17216117216117}}}}\n",
      "################ 100gene-100bp GTF 5 ########################\n",
      "{'100gene-100bp': {'GTF': {'base': {'true_gene_cnt': 602.4, 'species_cnt': 599.4, 'true_gene_pct': 44.131868131868124, 'species_pct': 43.912087912087905}}}}\n",
      "################ 100gene-100bp GTF 6 ########################\n",
      "{'100gene-100bp': {'GTF': {'base': {'true_gene_cnt': 733.7, 'species_cnt': 730.7, 'true_gene_pct': 53.750915750915745, 'species_pct': 53.531135531135526}}}}\n",
      "################ 100gene-100bp GTF 7 ########################\n",
      "{'100gene-100bp': {'GTF': {'base': {'true_gene_cnt': 850.0, 'species_cnt': 846.7, 'true_gene_pct': 62.27106227106226, 'species_pct': 62.02930402930402}}}}\n",
      "################ 100gene-100bp GTF 8 ########################\n",
      "{'100gene-100bp': {'GTF': {'base': {'true_gene_cnt': 964.1, 'species_cnt': 960.8000000000001, 'true_gene_pct': 70.63003663003663, 'species_pct': 70.38827838827838}}}}\n",
      "################ 100gene-100bp GTF 9 ########################\n",
      "{'100gene-100bp': {'GTF': {'base': {'true_gene_cnt': 1088.2, 'species_cnt': 1085.2, 'true_gene_pct': 79.72161172161172, 'species_pct': 79.50183150183149}}}}\n",
      "################ 100gene-100bp GTF 10 ########################\n",
      "{'100gene-100bp': {'GTF': {'base': {'true_gene_cnt': 1212.8, 'species_cnt': 1209.9, 'true_gene_pct': 88.84981684981685, 'species_pct': 88.63736263736263}}}}\n",
      "################ 100gene-100bp GTF-boot 1 ########################\n",
      "{'100gene-100bp': {'GTF': {'base': {'true_gene_cnt': 1212.8, 'species_cnt': 1209.9, 'true_gene_pct': 88.84981684981685, 'species_pct': 88.63736263736263}}, 'GTF-boot': {'base': {'true_gene_cnt': 125.7, 'species_cnt': 125.2, 'true_gene_pct': 9.208791208791208, 'species_pct': 9.172161172161172}}}}\n",
      "################ 100gene-100bp GTF-boot 2 ########################\n",
      "{'100gene-100bp': {'GTF': {'base': {'true_gene_cnt': 1212.8, 'species_cnt': 1209.9, 'true_gene_pct': 88.84981684981685, 'species_pct': 88.63736263736263}}, 'GTF-boot': {'base': {'true_gene_cnt': 249.3, 'species_cnt': 247.8, 'true_gene_pct': 18.263736263736263, 'species_pct': 18.153846153846153}}}}\n",
      "################ 100gene-100bp GTF-boot 3 ########################\n",
      "{'100gene-100bp': {'GTF': {'base': {'true_gene_cnt': 1212.8, 'species_cnt': 1209.9, 'true_gene_pct': 88.84981684981685, 'species_pct': 88.63736263736263}}, 'GTF-boot': {'base': {'true_gene_cnt': 376.4, 'species_cnt': 374.5, 'true_gene_pct': 27.575091575091577, 'species_pct': 27.435897435897438}}}}\n",
      "################ 100gene-100bp GTF-boot 4 ########################\n",
      "{'100gene-100bp': {'GTF': {'base': {'true_gene_cnt': 1212.8, 'species_cnt': 1209.9, 'true_gene_pct': 88.84981684981685, 'species_pct': 88.63736263736263}}, 'GTF-boot': {'base': {'true_gene_cnt': 505.29999999999995, 'species_cnt': 502.1, 'true_gene_pct': 37.01831501831502, 'species_pct': 36.78388278388279}}}}\n",
      "################ 100gene-100bp GTF-boot 5 ########################\n",
      "{'100gene-100bp': {'GTF': {'base': {'true_gene_cnt': 1212.8, 'species_cnt': 1209.9, 'true_gene_pct': 88.84981684981685, 'species_pct': 88.63736263736263}}, 'GTF-boot': {'base': {'true_gene_cnt': 628.3, 'species_cnt': 625.1, 'true_gene_pct': 46.02930402930403, 'species_pct': 45.794871794871796}}}}\n",
      "################ 100gene-100bp GTF-boot 6 ########################\n",
      "{'100gene-100bp': {'GTF': {'base': {'true_gene_cnt': 1212.8, 'species_cnt': 1209.9, 'true_gene_pct': 88.84981684981685, 'species_pct': 88.63736263736263}}, 'GTF-boot': {'base': {'true_gene_cnt': 761.0, 'species_cnt': 757.8, 'true_gene_pct': 55.75091575091575, 'species_pct': 55.51648351648352}}}}\n",
      "################ 100gene-100bp GTF-boot 7 ########################\n",
      "{'100gene-100bp': {'GTF': {'base': {'true_gene_cnt': 1212.8, 'species_cnt': 1209.9, 'true_gene_pct': 88.84981684981685, 'species_pct': 88.63736263736263}}, 'GTF-boot': {'base': {'true_gene_cnt': 885.3, 'species_cnt': 881.9, 'true_gene_pct': 64.85714285714286, 'species_pct': 64.60805860805861}}}}\n",
      "################ 100gene-100bp GTF-boot 8 ########################\n",
      "{'100gene-100bp': {'GTF': {'base': {'true_gene_cnt': 1212.8, 'species_cnt': 1209.9, 'true_gene_pct': 88.84981684981685, 'species_pct': 88.63736263736263}}, 'GTF-boot': {'base': {'true_gene_cnt': 1003.1999999999999, 'species_cnt': 999.8, 'true_gene_pct': 73.4945054945055, 'species_pct': 73.24542124542126}}}}\n",
      "################ 100gene-100bp GTF-boot 9 ########################\n",
      "{'100gene-100bp': {'GTF': {'base': {'true_gene_cnt': 1212.8, 'species_cnt': 1209.9, 'true_gene_pct': 88.84981684981685, 'species_pct': 88.63736263736263}}, 'GTF-boot': {'base': {'true_gene_cnt': 1131.3999999999999, 'species_cnt': 1128.6, 'true_gene_pct': 82.88644688644689, 'species_pct': 82.68131868131869}}}}\n",
      "################ 100gene-100bp GTF-boot 10 ########################\n",
      "{'100gene-100bp': {'GTF': {'base': {'true_gene_cnt': 1212.8, 'species_cnt': 1209.9, 'true_gene_pct': 88.84981684981685, 'species_pct': 88.63736263736263}}, 'GTF-boot': {'base': {'true_gene_cnt': 1256.3, 'species_cnt': 1253.6, 'true_gene_pct': 92.03663003663004, 'species_pct': 91.83882783882784}}}}\n",
      "################ 100gene-100bp GTF-bucky-boot 1 ########################\n",
      "{'100gene-100bp': {'GTF': {'base': {'true_gene_cnt': 1212.8, 'species_cnt': 1209.9, 'true_gene_pct': 88.84981684981685, 'species_pct': 88.63736263736263}}, 'GTF-boot': {'base': {'true_gene_cnt': 1256.3, 'species_cnt': 1253.6, 'true_gene_pct': 92.03663003663004, 'species_pct': 91.83882783882784}}, 'GTF-bucky-boot': {'base': {'true_gene_cnt': 123.5, 'species_cnt': 122.6, 'true_gene_pct': 9.047619047619047, 'species_pct': 8.981684981684982}}}}\n",
      "################ 100gene-100bp GTF-bucky-boot 2 ########################\n",
      "{'100gene-100bp': {'GTF': {'base': {'true_gene_cnt': 1212.8, 'species_cnt': 1209.9, 'true_gene_pct': 88.84981684981685, 'species_pct': 88.63736263736263}}, 'GTF-boot': {'base': {'true_gene_cnt': 1256.3, 'species_cnt': 1253.6, 'true_gene_pct': 92.03663003663004, 'species_pct': 91.83882783882784}}, 'GTF-bucky-boot': {'base': {'true_gene_cnt': 247.3, 'species_cnt': 245.39999999999998, 'true_gene_pct': 18.117216117216117, 'species_pct': 17.978021978021978}}}}\n",
      "################ 100gene-100bp GTF-bucky-boot 3 ########################\n",
      "{'100gene-100bp': {'GTF': {'base': {'true_gene_cnt': 1212.8, 'species_cnt': 1209.9, 'true_gene_pct': 88.84981684981685, 'species_pct': 88.63736263736263}}, 'GTF-boot': {'base': {'true_gene_cnt': 1256.3, 'species_cnt': 1253.6, 'true_gene_pct': 92.03663003663004, 'species_pct': 91.83882783882784}}, 'GTF-bucky-boot': {'base': {'true_gene_cnt': 374.70000000000005, 'species_cnt': 372.5, 'true_gene_pct': 27.450549450549453, 'species_pct': 27.289377289377292}}}}\n",
      "################ 100gene-100bp GTF-bucky-boot 4 ########################\n",
      "{'100gene-100bp': {'GTF': {'base': {'true_gene_cnt': 1212.8, 'species_cnt': 1209.9, 'true_gene_pct': 88.84981684981685, 'species_pct': 88.63736263736263}}, 'GTF-boot': {'base': {'true_gene_cnt': 1256.3, 'species_cnt': 1253.6, 'true_gene_pct': 92.03663003663004, 'species_pct': 91.83882783882784}}, 'GTF-bucky-boot': {'base': {'true_gene_cnt': 503.80000000000007, 'species_cnt': 500.2, 'true_gene_pct': 36.90842490842491, 'species_pct': 36.64468864468865}}}}\n",
      "################ 100gene-100bp GTF-bucky-boot 5 ########################\n",
      "{'100gene-100bp': {'GTF': {'base': {'true_gene_cnt': 1212.8, 'species_cnt': 1209.9, 'true_gene_pct': 88.84981684981685, 'species_pct': 88.63736263736263}}, 'GTF-boot': {'base': {'true_gene_cnt': 1256.3, 'species_cnt': 1253.6, 'true_gene_pct': 92.03663003663004, 'species_pct': 91.83882783882784}}, 'GTF-bucky-boot': {'base': {'true_gene_cnt': 631.9000000000001, 'species_cnt': 628.3, 'true_gene_pct': 46.2930402930403, 'species_pct': 46.029304029304036}}}}\n",
      "################ 100gene-100bp GTF-bucky-boot 6 ########################\n",
      "{'100gene-100bp': {'GTF': {'base': {'true_gene_cnt': 1212.8, 'species_cnt': 1209.9, 'true_gene_pct': 88.84981684981685, 'species_pct': 88.63736263736263}}, 'GTF-boot': {'base': {'true_gene_cnt': 1256.3, 'species_cnt': 1253.6, 'true_gene_pct': 92.03663003663004, 'species_pct': 91.83882783882784}}, 'GTF-bucky-boot': {'base': {'true_gene_cnt': 764.8000000000001, 'species_cnt': 761.1999999999999, 'true_gene_pct': 56.029304029304036, 'species_pct': 55.76556776556777}}}}\n",
      "################ 100gene-100bp GTF-bucky-boot 7 ########################\n",
      "{'100gene-100bp': {'GTF': {'base': {'true_gene_cnt': 1212.8, 'species_cnt': 1209.9, 'true_gene_pct': 88.84981684981685, 'species_pct': 88.63736263736263}}, 'GTF-boot': {'base': {'true_gene_cnt': 1256.3, 'species_cnt': 1253.6, 'true_gene_pct': 92.03663003663004, 'species_pct': 91.83882783882784}}, 'GTF-bucky-boot': {'base': {'true_gene_cnt': 889.8000000000001, 'species_cnt': 886.0999999999999, 'true_gene_pct': 65.1868131868132, 'species_pct': 64.91575091575092}}}}\n",
      "################ 100gene-100bp GTF-bucky-boot 8 ########################\n"
     ]
    },
    {
     "name": "stdout",
     "output_type": "stream",
     "text": [
      "{'100gene-100bp': {'GTF': {'base': {'true_gene_cnt': 1212.8, 'species_cnt': 1209.9, 'true_gene_pct': 88.84981684981685, 'species_pct': 88.63736263736263}}, 'GTF-boot': {'base': {'true_gene_cnt': 1256.3, 'species_cnt': 1253.6, 'true_gene_pct': 92.03663003663004, 'species_pct': 91.83882783882784}}, 'GTF-bucky-boot': {'base': {'true_gene_cnt': 1009.5000000000001, 'species_cnt': 1005.8, 'true_gene_pct': 73.95604395604397, 'species_pct': 73.6849816849817}}}}\n",
      "################ 100gene-100bp GTF-bucky-boot 9 ########################\n",
      "{'100gene-100bp': {'GTF': {'base': {'true_gene_cnt': 1212.8, 'species_cnt': 1209.9, 'true_gene_pct': 88.84981684981685, 'species_pct': 88.63736263736263}}, 'GTF-boot': {'base': {'true_gene_cnt': 1256.3, 'species_cnt': 1253.6, 'true_gene_pct': 92.03663003663004, 'species_pct': 91.83882783882784}}, 'GTF-bucky-boot': {'base': {'true_gene_cnt': 1139.0, 'species_cnt': 1136.1, 'true_gene_pct': 83.44322344322346, 'species_pct': 83.23076923076924}}}}\n",
      "################ 100gene-100bp GTF-bucky-boot 10 ########################\n",
      "{'100gene-100bp': {'GTF': {'base': {'true_gene_cnt': 1212.8, 'species_cnt': 1209.9, 'true_gene_pct': 88.84981684981685, 'species_pct': 88.63736263736263}}, 'GTF-boot': {'base': {'true_gene_cnt': 1256.3, 'species_cnt': 1253.6, 'true_gene_pct': 92.03663003663004, 'species_pct': 91.83882783882784}}, 'GTF-bucky-boot': {'base': {'true_gene_cnt': 1265.5, 'species_cnt': 1262.6999999999998, 'true_gene_pct': 92.71062271062273, 'species_pct': 92.50549450549451}}}}\n",
      "################ 100gene-1000bp GTF 1 ########################\n",
      "{'100gene-100bp': {'GTF': {'base': {'true_gene_cnt': 1212.8, 'species_cnt': 1209.9, 'true_gene_pct': 88.84981684981685, 'species_pct': 88.63736263736263}}, 'GTF-boot': {'base': {'true_gene_cnt': 1256.3, 'species_cnt': 1253.6, 'true_gene_pct': 92.03663003663004, 'species_pct': 91.83882783882784}}, 'GTF-bucky-boot': {'base': {'true_gene_cnt': 1265.5, 'species_cnt': 1262.6999999999998, 'true_gene_pct': 92.71062271062273, 'species_pct': 92.50549450549451}}}, '100gene-1000bp': {'GTF': {'base': {'true_gene_cnt': 132.0, 'species_cnt': 131.5, 'true_gene_pct': 9.67032967032967, 'species_pct': 9.633699633699633}}}}\n",
      "################ 100gene-1000bp GTF 2 ########################\n",
      "{'100gene-100bp': {'GTF': {'base': {'true_gene_cnt': 1212.8, 'species_cnt': 1209.9, 'true_gene_pct': 88.84981684981685, 'species_pct': 88.63736263736263}}, 'GTF-boot': {'base': {'true_gene_cnt': 1256.3, 'species_cnt': 1253.6, 'true_gene_pct': 92.03663003663004, 'species_pct': 91.83882783882784}}, 'GTF-bucky-boot': {'base': {'true_gene_cnt': 1265.5, 'species_cnt': 1262.6999999999998, 'true_gene_pct': 92.71062271062273, 'species_pct': 92.50549450549451}}}, '100gene-1000bp': {'GTF': {'base': {'true_gene_cnt': 262.7, 'species_cnt': 262.1, 'true_gene_pct': 19.245421245421245, 'species_pct': 19.2014652014652}}}}\n",
      "################ 100gene-1000bp GTF 3 ########################\n",
      "{'100gene-100bp': {'GTF': {'base': {'true_gene_cnt': 1212.8, 'species_cnt': 1209.9, 'true_gene_pct': 88.84981684981685, 'species_pct': 88.63736263736263}}, 'GTF-boot': {'base': {'true_gene_cnt': 1256.3, 'species_cnt': 1253.6, 'true_gene_pct': 92.03663003663004, 'species_pct': 91.83882783882784}}, 'GTF-bucky-boot': {'base': {'true_gene_cnt': 1265.5, 'species_cnt': 1262.6999999999998, 'true_gene_pct': 92.71062271062273, 'species_pct': 92.50549450549451}}}, '100gene-1000bp': {'GTF': {'base': {'true_gene_cnt': 395.29999999999995, 'species_cnt': 393.6, 'true_gene_pct': 28.959706959706956, 'species_pct': 28.835164835164832}}}}\n",
      "################ 100gene-1000bp GTF 4 ########################\n",
      "{'100gene-100bp': {'GTF': {'base': {'true_gene_cnt': 1212.8, 'species_cnt': 1209.9, 'true_gene_pct': 88.84981684981685, 'species_pct': 88.63736263736263}}, 'GTF-boot': {'base': {'true_gene_cnt': 1256.3, 'species_cnt': 1253.6, 'true_gene_pct': 92.03663003663004, 'species_pct': 91.83882783882784}}, 'GTF-bucky-boot': {'base': {'true_gene_cnt': 1265.5, 'species_cnt': 1262.6999999999998, 'true_gene_pct': 92.71062271062273, 'species_pct': 92.50549450549451}}}, '100gene-1000bp': {'GTF': {'base': {'true_gene_cnt': 530.0999999999999, 'species_cnt': 527.1, 'true_gene_pct': 38.83516483516483, 'species_pct': 38.61538461538461}}}}\n",
      "################ 100gene-1000bp GTF 5 ########################\n",
      "{'100gene-100bp': {'GTF': {'base': {'true_gene_cnt': 1212.8, 'species_cnt': 1209.9, 'true_gene_pct': 88.84981684981685, 'species_pct': 88.63736263736263}}, 'GTF-boot': {'base': {'true_gene_cnt': 1256.3, 'species_cnt': 1253.6, 'true_gene_pct': 92.03663003663004, 'species_pct': 91.83882783882784}}, 'GTF-bucky-boot': {'base': {'true_gene_cnt': 1265.5, 'species_cnt': 1262.6999999999998, 'true_gene_pct': 92.71062271062273, 'species_pct': 92.50549450549451}}}, '100gene-1000bp': {'GTF': {'base': {'true_gene_cnt': 665.3999999999999, 'species_cnt': 662.4000000000001, 'true_gene_pct': 48.747252747252745, 'species_pct': 48.527472527472526}}}}\n",
      "################ 100gene-1000bp GTF 6 ########################\n",
      "{'100gene-100bp': {'GTF': {'base': {'true_gene_cnt': 1212.8, 'species_cnt': 1209.9, 'true_gene_pct': 88.84981684981685, 'species_pct': 88.63736263736263}}, 'GTF-boot': {'base': {'true_gene_cnt': 1256.3, 'species_cnt': 1253.6, 'true_gene_pct': 92.03663003663004, 'species_pct': 91.83882783882784}}, 'GTF-bucky-boot': {'base': {'true_gene_cnt': 1265.5, 'species_cnt': 1262.6999999999998, 'true_gene_pct': 92.71062271062273, 'species_pct': 92.50549450549451}}}, '100gene-1000bp': {'GTF': {'base': {'true_gene_cnt': 801.4999999999999, 'species_cnt': 798.5000000000001, 'true_gene_pct': 58.717948717948715, 'species_pct': 58.498168498168496}}}}\n",
      "################ 100gene-1000bp GTF 7 ########################\n",
      "{'100gene-100bp': {'GTF': {'base': {'true_gene_cnt': 1212.8, 'species_cnt': 1209.9, 'true_gene_pct': 88.84981684981685, 'species_pct': 88.63736263736263}}, 'GTF-boot': {'base': {'true_gene_cnt': 1256.3, 'species_cnt': 1253.6, 'true_gene_pct': 92.03663003663004, 'species_pct': 91.83882783882784}}, 'GTF-bucky-boot': {'base': {'true_gene_cnt': 1265.5, 'species_cnt': 1262.6999999999998, 'true_gene_pct': 92.71062271062273, 'species_pct': 92.50549450549451}}}, '100gene-1000bp': {'GTF': {'base': {'true_gene_cnt': 932.9999999999999, 'species_cnt': 929.8000000000002, 'true_gene_pct': 68.35164835164835, 'species_pct': 68.11721611721612}}}}\n",
      "################ 100gene-1000bp GTF 8 ########################\n",
      "{'100gene-100bp': {'GTF': {'base': {'true_gene_cnt': 1212.8, 'species_cnt': 1209.9, 'true_gene_pct': 88.84981684981685, 'species_pct': 88.63736263736263}}, 'GTF-boot': {'base': {'true_gene_cnt': 1256.3, 'species_cnt': 1253.6, 'true_gene_pct': 92.03663003663004, 'species_pct': 91.83882783882784}}, 'GTF-bucky-boot': {'base': {'true_gene_cnt': 1265.5, 'species_cnt': 1262.6999999999998, 'true_gene_pct': 92.71062271062273, 'species_pct': 92.50549450549451}}}, '100gene-1000bp': {'GTF': {'base': {'true_gene_cnt': 1065.0, 'species_cnt': 1062.0000000000002, 'true_gene_pct': 78.02197802197801, 'species_pct': 77.8021978021978}}}}\n",
      "################ 100gene-1000bp GTF 9 ########################\n",
      "{'100gene-100bp': {'GTF': {'base': {'true_gene_cnt': 1212.8, 'species_cnt': 1209.9, 'true_gene_pct': 88.84981684981685, 'species_pct': 88.63736263736263}}, 'GTF-boot': {'base': {'true_gene_cnt': 1256.3, 'species_cnt': 1253.6, 'true_gene_pct': 92.03663003663004, 'species_pct': 91.83882783882784}}, 'GTF-bucky-boot': {'base': {'true_gene_cnt': 1265.5, 'species_cnt': 1262.6999999999998, 'true_gene_pct': 92.71062271062273, 'species_pct': 92.50549450549451}}}, '100gene-1000bp': {'GTF': {'base': {'true_gene_cnt': 1199.9, 'species_cnt': 1195.9000000000003, 'true_gene_pct': 87.9047619047619, 'species_pct': 87.6117216117216}}}}\n",
      "################ 100gene-1000bp GTF 10 ########################\n",
      "{'100gene-100bp': {'GTF': {'base': {'true_gene_cnt': 1212.8, 'species_cnt': 1209.9, 'true_gene_pct': 88.84981684981685, 'species_pct': 88.63736263736263}}, 'GTF-boot': {'base': {'true_gene_cnt': 1256.3, 'species_cnt': 1253.6, 'true_gene_pct': 92.03663003663004, 'species_pct': 91.83882783882784}}, 'GTF-bucky-boot': {'base': {'true_gene_cnt': 1265.5, 'species_cnt': 1262.6999999999998, 'true_gene_pct': 92.71062271062273, 'species_pct': 92.50549450549451}}}, '100gene-1000bp': {'GTF': {'base': {'true_gene_cnt': 1335.3000000000002, 'species_cnt': 1331.4000000000003, 'true_gene_pct': 97.82417582417582, 'species_pct': 97.53846153846153}}}}\n",
      "################ 100gene-1000bp GTF-boot 1 ########################\n",
      "{'100gene-100bp': {'GTF': {'base': {'true_gene_cnt': 1212.8, 'species_cnt': 1209.9, 'true_gene_pct': 88.84981684981685, 'species_pct': 88.63736263736263}}, 'GTF-boot': {'base': {'true_gene_cnt': 1256.3, 'species_cnt': 1253.6, 'true_gene_pct': 92.03663003663004, 'species_pct': 91.83882783882784}}, 'GTF-bucky-boot': {'base': {'true_gene_cnt': 1265.5, 'species_cnt': 1262.6999999999998, 'true_gene_pct': 92.71062271062273, 'species_pct': 92.50549450549451}}}, '100gene-1000bp': {'GTF': {'base': {'true_gene_cnt': 1335.3000000000002, 'species_cnt': 1331.4000000000003, 'true_gene_pct': 97.82417582417582, 'species_pct': 97.53846153846153}}, 'GTF-boot': {'base': {'true_gene_cnt': 131.3, 'species_cnt': 131.0, 'true_gene_pct': 9.619047619047619, 'species_pct': 9.597069597069597}}}}\n",
      "################ 100gene-1000bp GTF-boot 2 ########################\n",
      "{'100gene-100bp': {'GTF': {'base': {'true_gene_cnt': 1212.8, 'species_cnt': 1209.9, 'true_gene_pct': 88.84981684981685, 'species_pct': 88.63736263736263}}, 'GTF-boot': {'base': {'true_gene_cnt': 1256.3, 'species_cnt': 1253.6, 'true_gene_pct': 92.03663003663004, 'species_pct': 91.83882783882784}}, 'GTF-bucky-boot': {'base': {'true_gene_cnt': 1265.5, 'species_cnt': 1262.6999999999998, 'true_gene_pct': 92.71062271062273, 'species_pct': 92.50549450549451}}}, '100gene-1000bp': {'GTF': {'base': {'true_gene_cnt': 1335.3000000000002, 'species_cnt': 1331.4000000000003, 'true_gene_pct': 97.82417582417582, 'species_pct': 97.53846153846153}}, 'GTF-boot': {'base': {'true_gene_cnt': 260.8, 'species_cnt': 260.3, 'true_gene_pct': 19.106227106227106, 'species_pct': 19.06959706959707}}}}\n",
      "################ 100gene-1000bp GTF-boot 3 ########################\n",
      "{'100gene-100bp': {'GTF': {'base': {'true_gene_cnt': 1212.8, 'species_cnt': 1209.9, 'true_gene_pct': 88.84981684981685, 'species_pct': 88.63736263736263}}, 'GTF-boot': {'base': {'true_gene_cnt': 1256.3, 'species_cnt': 1253.6, 'true_gene_pct': 92.03663003663004, 'species_pct': 91.83882783882784}}, 'GTF-bucky-boot': {'base': {'true_gene_cnt': 1265.5, 'species_cnt': 1262.6999999999998, 'true_gene_pct': 92.71062271062273, 'species_pct': 92.50549450549451}}}, '100gene-1000bp': {'GTF': {'base': {'true_gene_cnt': 1335.3000000000002, 'species_cnt': 1331.4000000000003, 'true_gene_pct': 97.82417582417582, 'species_pct': 97.53846153846153}}, 'GTF-boot': {'base': {'true_gene_cnt': 391.0, 'species_cnt': 389.8, 'true_gene_pct': 28.644688644688642, 'species_pct': 28.556776556776555}}}}\n",
      "################ 100gene-1000bp GTF-boot 4 ########################\n",
      "{'100gene-100bp': {'GTF': {'base': {'true_gene_cnt': 1212.8, 'species_cnt': 1209.9, 'true_gene_pct': 88.84981684981685, 'species_pct': 88.63736263736263}}, 'GTF-boot': {'base': {'true_gene_cnt': 1256.3, 'species_cnt': 1253.6, 'true_gene_pct': 92.03663003663004, 'species_pct': 91.83882783882784}}, 'GTF-bucky-boot': {'base': {'true_gene_cnt': 1265.5, 'species_cnt': 1262.6999999999998, 'true_gene_pct': 92.71062271062273, 'species_pct': 92.50549450549451}}}, '100gene-1000bp': {'GTF': {'base': {'true_gene_cnt': 1335.3000000000002, 'species_cnt': 1331.4000000000003, 'true_gene_pct': 97.82417582417582, 'species_pct': 97.53846153846153}}, 'GTF-boot': {'base': {'true_gene_cnt': 524.2, 'species_cnt': 522.1, 'true_gene_pct': 38.4029304029304, 'species_pct': 38.24908424908425}}}}\n",
      "################ 100gene-1000bp GTF-boot 5 ########################\n",
      "{'100gene-100bp': {'GTF': {'base': {'true_gene_cnt': 1212.8, 'species_cnt': 1209.9, 'true_gene_pct': 88.84981684981685, 'species_pct': 88.63736263736263}}, 'GTF-boot': {'base': {'true_gene_cnt': 1256.3, 'species_cnt': 1253.6, 'true_gene_pct': 92.03663003663004, 'species_pct': 91.83882783882784}}, 'GTF-bucky-boot': {'base': {'true_gene_cnt': 1265.5, 'species_cnt': 1262.6999999999998, 'true_gene_pct': 92.71062271062273, 'species_pct': 92.50549450549451}}}, '100gene-1000bp': {'GTF': {'base': {'true_gene_cnt': 1335.3000000000002, 'species_cnt': 1331.4000000000003, 'true_gene_pct': 97.82417582417582, 'species_pct': 97.53846153846153}}, 'GTF-boot': {'base': {'true_gene_cnt': 659.0, 'species_cnt': 656.9000000000001, 'true_gene_pct': 48.27838827838828, 'species_pct': 48.124542124542124}}}}\n",
      "################ 100gene-1000bp GTF-boot 6 ########################\n",
      "{'100gene-100bp': {'GTF': {'base': {'true_gene_cnt': 1212.8, 'species_cnt': 1209.9, 'true_gene_pct': 88.84981684981685, 'species_pct': 88.63736263736263}}, 'GTF-boot': {'base': {'true_gene_cnt': 1256.3, 'species_cnt': 1253.6, 'true_gene_pct': 92.03663003663004, 'species_pct': 91.83882783882784}}, 'GTF-bucky-boot': {'base': {'true_gene_cnt': 1265.5, 'species_cnt': 1262.6999999999998, 'true_gene_pct': 92.71062271062273, 'species_pct': 92.50549450549451}}}, '100gene-1000bp': {'GTF': {'base': {'true_gene_cnt': 1335.3000000000002, 'species_cnt': 1331.4000000000003, 'true_gene_pct': 97.82417582417582, 'species_pct': 97.53846153846153}}, 'GTF-boot': {'base': {'true_gene_cnt': 794.2, 'species_cnt': 792.1000000000001, 'true_gene_pct': 58.18315018315018, 'species_pct': 58.02930402930403}}}}\n",
      "################ 100gene-1000bp GTF-boot 7 ########################\n",
      "{'100gene-100bp': {'GTF': {'base': {'true_gene_cnt': 1212.8, 'species_cnt': 1209.9, 'true_gene_pct': 88.84981684981685, 'species_pct': 88.63736263736263}}, 'GTF-boot': {'base': {'true_gene_cnt': 1256.3, 'species_cnt': 1253.6, 'true_gene_pct': 92.03663003663004, 'species_pct': 91.83882783882784}}, 'GTF-bucky-boot': {'base': {'true_gene_cnt': 1265.5, 'species_cnt': 1262.6999999999998, 'true_gene_pct': 92.71062271062273, 'species_pct': 92.50549450549451}}}, '100gene-1000bp': {'GTF': {'base': {'true_gene_cnt': 1335.3000000000002, 'species_cnt': 1331.4000000000003, 'true_gene_pct': 97.82417582417582, 'species_pct': 97.53846153846153}}, 'GTF-boot': {'base': {'true_gene_cnt': 925.3000000000001, 'species_cnt': 923.2000000000002, 'true_gene_pct': 67.78754578754578, 'species_pct': 67.63369963369964}}}}\n",
      "################ 100gene-1000bp GTF-boot 8 ########################\n",
      "{'100gene-100bp': {'GTF': {'base': {'true_gene_cnt': 1212.8, 'species_cnt': 1209.9, 'true_gene_pct': 88.84981684981685, 'species_pct': 88.63736263736263}}, 'GTF-boot': {'base': {'true_gene_cnt': 1256.3, 'species_cnt': 1253.6, 'true_gene_pct': 92.03663003663004, 'species_pct': 91.83882783882784}}, 'GTF-bucky-boot': {'base': {'true_gene_cnt': 1265.5, 'species_cnt': 1262.6999999999998, 'true_gene_pct': 92.71062271062273, 'species_pct': 92.50549450549451}}}, '100gene-1000bp': {'GTF': {'base': {'true_gene_cnt': 1335.3000000000002, 'species_cnt': 1331.4000000000003, 'true_gene_pct': 97.82417582417582, 'species_pct': 97.53846153846153}}, 'GTF-boot': {'base': {'true_gene_cnt': 1055.9, 'species_cnt': 1054.0000000000002, 'true_gene_pct': 77.35531135531134, 'species_pct': 77.21611721611721}}}}\n",
      "################ 100gene-1000bp GTF-boot 9 ########################\n",
      "{'100gene-100bp': {'GTF': {'base': {'true_gene_cnt': 1212.8, 'species_cnt': 1209.9, 'true_gene_pct': 88.84981684981685, 'species_pct': 88.63736263736263}}, 'GTF-boot': {'base': {'true_gene_cnt': 1256.3, 'species_cnt': 1253.6, 'true_gene_pct': 92.03663003663004, 'species_pct': 91.83882783882784}}, 'GTF-bucky-boot': {'base': {'true_gene_cnt': 1265.5, 'species_cnt': 1262.6999999999998, 'true_gene_pct': 92.71062271062273, 'species_pct': 92.50549450549451}}}, '100gene-1000bp': {'GTF': {'base': {'true_gene_cnt': 1335.3000000000002, 'species_cnt': 1331.4000000000003, 'true_gene_pct': 97.82417582417582, 'species_pct': 97.53846153846153}}, 'GTF-boot': {'base': {'true_gene_cnt': 1189.8000000000002, 'species_cnt': 1188.5000000000002, 'true_gene_pct': 87.16483516483515, 'species_pct': 87.06959706959707}}}}\n",
      "################ 100gene-1000bp GTF-boot 10 ########################\n",
      "{'100gene-100bp': {'GTF': {'base': {'true_gene_cnt': 1212.8, 'species_cnt': 1209.9, 'true_gene_pct': 88.84981684981685, 'species_pct': 88.63736263736263}}, 'GTF-boot': {'base': {'true_gene_cnt': 1256.3, 'species_cnt': 1253.6, 'true_gene_pct': 92.03663003663004, 'species_pct': 91.83882783882784}}, 'GTF-bucky-boot': {'base': {'true_gene_cnt': 1265.5, 'species_cnt': 1262.6999999999998, 'true_gene_pct': 92.71062271062273, 'species_pct': 92.50549450549451}}}, '100gene-1000bp': {'GTF': {'base': {'true_gene_cnt': 1335.3000000000002, 'species_cnt': 1331.4000000000003, 'true_gene_pct': 97.82417582417582, 'species_pct': 97.53846153846153}}, 'GTF-boot': {'base': {'true_gene_cnt': 1324.3000000000002, 'species_cnt': 1323.1000000000001, 'true_gene_pct': 97.01831501831501, 'species_pct': 96.93040293040292}}}}\n",
      "################ 100gene-1000bp GTF-bucky-boot 1 ########################\n"
     ]
    },
    {
     "name": "stdout",
     "output_type": "stream",
     "text": [
      "{'100gene-100bp': {'GTF': {'base': {'true_gene_cnt': 1212.8, 'species_cnt': 1209.9, 'true_gene_pct': 88.84981684981685, 'species_pct': 88.63736263736263}}, 'GTF-boot': {'base': {'true_gene_cnt': 1256.3, 'species_cnt': 1253.6, 'true_gene_pct': 92.03663003663004, 'species_pct': 91.83882783882784}}, 'GTF-bucky-boot': {'base': {'true_gene_cnt': 1265.5, 'species_cnt': 1262.6999999999998, 'true_gene_pct': 92.71062271062273, 'species_pct': 92.50549450549451}}}, '100gene-1000bp': {'GTF': {'base': {'true_gene_cnt': 1335.3000000000002, 'species_cnt': 1331.4000000000003, 'true_gene_pct': 97.82417582417582, 'species_pct': 97.53846153846153}}, 'GTF-boot': {'base': {'true_gene_cnt': 1324.3000000000002, 'species_cnt': 1323.1000000000001, 'true_gene_pct': 97.01831501831501, 'species_pct': 96.93040293040292}}, 'GTF-bucky-boot': {'base': {'true_gene_cnt': 134.8, 'species_cnt': 134.3, 'true_gene_pct': 9.875457875457876, 'species_pct': 9.83882783882784}}}}\n",
      "################ 100gene-1000bp GTF-bucky-boot 2 ########################\n",
      "{'100gene-100bp': {'GTF': {'base': {'true_gene_cnt': 1212.8, 'species_cnt': 1209.9, 'true_gene_pct': 88.84981684981685, 'species_pct': 88.63736263736263}}, 'GTF-boot': {'base': {'true_gene_cnt': 1256.3, 'species_cnt': 1253.6, 'true_gene_pct': 92.03663003663004, 'species_pct': 91.83882783882784}}, 'GTF-bucky-boot': {'base': {'true_gene_cnt': 1265.5, 'species_cnt': 1262.6999999999998, 'true_gene_pct': 92.71062271062273, 'species_pct': 92.50549450549451}}}, '100gene-1000bp': {'GTF': {'base': {'true_gene_cnt': 1335.3000000000002, 'species_cnt': 1331.4000000000003, 'true_gene_pct': 97.82417582417582, 'species_pct': 97.53846153846153}}, 'GTF-boot': {'base': {'true_gene_cnt': 1324.3000000000002, 'species_cnt': 1323.1000000000001, 'true_gene_pct': 97.01831501831501, 'species_pct': 96.93040293040292}}, 'GTF-bucky-boot': {'base': {'true_gene_cnt': 267.9, 'species_cnt': 267.4, 'true_gene_pct': 19.626373626373628, 'species_pct': 19.58974358974359}}}}\n",
      "################ 100gene-1000bp GTF-bucky-boot 3 ########################\n",
      "{'100gene-100bp': {'GTF': {'base': {'true_gene_cnt': 1212.8, 'species_cnt': 1209.9, 'true_gene_pct': 88.84981684981685, 'species_pct': 88.63736263736263}}, 'GTF-boot': {'base': {'true_gene_cnt': 1256.3, 'species_cnt': 1253.6, 'true_gene_pct': 92.03663003663004, 'species_pct': 91.83882783882784}}, 'GTF-bucky-boot': {'base': {'true_gene_cnt': 1265.5, 'species_cnt': 1262.6999999999998, 'true_gene_pct': 92.71062271062273, 'species_pct': 92.50549450549451}}}, '100gene-1000bp': {'GTF': {'base': {'true_gene_cnt': 1335.3000000000002, 'species_cnt': 1331.4000000000003, 'true_gene_pct': 97.82417582417582, 'species_pct': 97.53846153846153}}, 'GTF-boot': {'base': {'true_gene_cnt': 1324.3000000000002, 'species_cnt': 1323.1000000000001, 'true_gene_pct': 97.01831501831501, 'species_pct': 96.93040293040292}}, 'GTF-bucky-boot': {'base': {'true_gene_cnt': 402.9, 'species_cnt': 401.7, 'true_gene_pct': 29.516483516483518, 'species_pct': 29.42857142857143}}}}\n",
      "################ 100gene-1000bp GTF-bucky-boot 4 ########################\n",
      "{'100gene-100bp': {'GTF': {'base': {'true_gene_cnt': 1212.8, 'species_cnt': 1209.9, 'true_gene_pct': 88.84981684981685, 'species_pct': 88.63736263736263}}, 'GTF-boot': {'base': {'true_gene_cnt': 1256.3, 'species_cnt': 1253.6, 'true_gene_pct': 92.03663003663004, 'species_pct': 91.83882783882784}}, 'GTF-bucky-boot': {'base': {'true_gene_cnt': 1265.5, 'species_cnt': 1262.6999999999998, 'true_gene_pct': 92.71062271062273, 'species_pct': 92.50549450549451}}}, '100gene-1000bp': {'GTF': {'base': {'true_gene_cnt': 1335.3000000000002, 'species_cnt': 1331.4000000000003, 'true_gene_pct': 97.82417582417582, 'species_pct': 97.53846153846153}}, 'GTF-boot': {'base': {'true_gene_cnt': 1324.3000000000002, 'species_cnt': 1323.1000000000001, 'true_gene_pct': 97.01831501831501, 'species_pct': 96.93040293040292}}, 'GTF-bucky-boot': {'base': {'true_gene_cnt': 538.0999999999999, 'species_cnt': 536.0, 'true_gene_pct': 39.42124542124542, 'species_pct': 39.26739926739927}}}}\n",
      "################ 100gene-1000bp GTF-bucky-boot 5 ########################\n",
      "{'100gene-100bp': {'GTF': {'base': {'true_gene_cnt': 1212.8, 'species_cnt': 1209.9, 'true_gene_pct': 88.84981684981685, 'species_pct': 88.63736263736263}}, 'GTF-boot': {'base': {'true_gene_cnt': 1256.3, 'species_cnt': 1253.6, 'true_gene_pct': 92.03663003663004, 'species_pct': 91.83882783882784}}, 'GTF-bucky-boot': {'base': {'true_gene_cnt': 1265.5, 'species_cnt': 1262.6999999999998, 'true_gene_pct': 92.71062271062273, 'species_pct': 92.50549450549451}}}, '100gene-1000bp': {'GTF': {'base': {'true_gene_cnt': 1335.3000000000002, 'species_cnt': 1331.4000000000003, 'true_gene_pct': 97.82417582417582, 'species_pct': 97.53846153846153}}, 'GTF-boot': {'base': {'true_gene_cnt': 1324.3000000000002, 'species_cnt': 1323.1000000000001, 'true_gene_pct': 97.01831501831501, 'species_pct': 96.93040293040292}}, 'GTF-bucky-boot': {'base': {'true_gene_cnt': 674.5999999999999, 'species_cnt': 672.5, 'true_gene_pct': 49.42124542124542, 'species_pct': 49.26739926739927}}}}\n",
      "################ 100gene-1000bp GTF-bucky-boot 6 ########################\n",
      "{'100gene-100bp': {'GTF': {'base': {'true_gene_cnt': 1212.8, 'species_cnt': 1209.9, 'true_gene_pct': 88.84981684981685, 'species_pct': 88.63736263736263}}, 'GTF-boot': {'base': {'true_gene_cnt': 1256.3, 'species_cnt': 1253.6, 'true_gene_pct': 92.03663003663004, 'species_pct': 91.83882783882784}}, 'GTF-bucky-boot': {'base': {'true_gene_cnt': 1265.5, 'species_cnt': 1262.6999999999998, 'true_gene_pct': 92.71062271062273, 'species_pct': 92.50549450549451}}}, '100gene-1000bp': {'GTF': {'base': {'true_gene_cnt': 1335.3000000000002, 'species_cnt': 1331.4000000000003, 'true_gene_pct': 97.82417582417582, 'species_pct': 97.53846153846153}}, 'GTF-boot': {'base': {'true_gene_cnt': 1324.3000000000002, 'species_cnt': 1323.1000000000001, 'true_gene_pct': 97.01831501831501, 'species_pct': 96.93040293040292}}, 'GTF-bucky-boot': {'base': {'true_gene_cnt': 810.9999999999999, 'species_cnt': 808.9, 'true_gene_pct': 59.413919413919416, 'species_pct': 59.26007326007326}}}}\n",
      "################ 100gene-1000bp GTF-bucky-boot 7 ########################\n",
      "{'100gene-100bp': {'GTF': {'base': {'true_gene_cnt': 1212.8, 'species_cnt': 1209.9, 'true_gene_pct': 88.84981684981685, 'species_pct': 88.63736263736263}}, 'GTF-boot': {'base': {'true_gene_cnt': 1256.3, 'species_cnt': 1253.6, 'true_gene_pct': 92.03663003663004, 'species_pct': 91.83882783882784}}, 'GTF-bucky-boot': {'base': {'true_gene_cnt': 1265.5, 'species_cnt': 1262.6999999999998, 'true_gene_pct': 92.71062271062273, 'species_pct': 92.50549450549451}}}, '100gene-1000bp': {'GTF': {'base': {'true_gene_cnt': 1335.3000000000002, 'species_cnt': 1331.4000000000003, 'true_gene_pct': 97.82417582417582, 'species_pct': 97.53846153846153}}, 'GTF-boot': {'base': {'true_gene_cnt': 1324.3000000000002, 'species_cnt': 1323.1000000000001, 'true_gene_pct': 97.01831501831501, 'species_pct': 96.93040293040292}}, 'GTF-bucky-boot': {'base': {'true_gene_cnt': 945.0999999999999, 'species_cnt': 943.0, 'true_gene_pct': 69.23809523809524, 'species_pct': 69.08424908424908}}}}\n",
      "################ 100gene-1000bp GTF-bucky-boot 8 ########################\n",
      "{'100gene-100bp': {'GTF': {'base': {'true_gene_cnt': 1212.8, 'species_cnt': 1209.9, 'true_gene_pct': 88.84981684981685, 'species_pct': 88.63736263736263}}, 'GTF-boot': {'base': {'true_gene_cnt': 1256.3, 'species_cnt': 1253.6, 'true_gene_pct': 92.03663003663004, 'species_pct': 91.83882783882784}}, 'GTF-bucky-boot': {'base': {'true_gene_cnt': 1265.5, 'species_cnt': 1262.6999999999998, 'true_gene_pct': 92.71062271062273, 'species_pct': 92.50549450549451}}}, '100gene-1000bp': {'GTF': {'base': {'true_gene_cnt': 1335.3000000000002, 'species_cnt': 1331.4000000000003, 'true_gene_pct': 97.82417582417582, 'species_pct': 97.53846153846153}}, 'GTF-boot': {'base': {'true_gene_cnt': 1324.3000000000002, 'species_cnt': 1323.1000000000001, 'true_gene_pct': 97.01831501831501, 'species_pct': 96.93040293040292}}, 'GTF-bucky-boot': {'base': {'true_gene_cnt': 1078.3, 'species_cnt': 1076.4, 'true_gene_pct': 78.99633699633699, 'species_pct': 78.85714285714286}}}}\n",
      "################ 100gene-1000bp GTF-bucky-boot 9 ########################\n",
      "{'100gene-100bp': {'GTF': {'base': {'true_gene_cnt': 1212.8, 'species_cnt': 1209.9, 'true_gene_pct': 88.84981684981685, 'species_pct': 88.63736263736263}}, 'GTF-boot': {'base': {'true_gene_cnt': 1256.3, 'species_cnt': 1253.6, 'true_gene_pct': 92.03663003663004, 'species_pct': 91.83882783882784}}, 'GTF-bucky-boot': {'base': {'true_gene_cnt': 1265.5, 'species_cnt': 1262.6999999999998, 'true_gene_pct': 92.71062271062273, 'species_pct': 92.50549450549451}}}, '100gene-1000bp': {'GTF': {'base': {'true_gene_cnt': 1335.3000000000002, 'species_cnt': 1331.4000000000003, 'true_gene_pct': 97.82417582417582, 'species_pct': 97.53846153846153}}, 'GTF-boot': {'base': {'true_gene_cnt': 1324.3000000000002, 'species_cnt': 1323.1000000000001, 'true_gene_pct': 97.01831501831501, 'species_pct': 96.93040293040292}}, 'GTF-bucky-boot': {'base': {'true_gene_cnt': 1213.2, 'species_cnt': 1211.7, 'true_gene_pct': 88.87912087912088, 'species_pct': 88.76923076923077}}}}\n",
      "################ 100gene-1000bp GTF-bucky-boot 10 ########################\n",
      "{'100gene-100bp': {'GTF': {'base': {'true_gene_cnt': 1212.8, 'species_cnt': 1209.9, 'true_gene_pct': 88.84981684981685, 'species_pct': 88.63736263736263}}, 'GTF-boot': {'base': {'true_gene_cnt': 1256.3, 'species_cnt': 1253.6, 'true_gene_pct': 92.03663003663004, 'species_pct': 91.83882783882784}}, 'GTF-bucky-boot': {'base': {'true_gene_cnt': 1265.5, 'species_cnt': 1262.6999999999998, 'true_gene_pct': 92.71062271062273, 'species_pct': 92.50549450549451}}}, '100gene-1000bp': {'GTF': {'base': {'true_gene_cnt': 1335.3000000000002, 'species_cnt': 1331.4000000000003, 'true_gene_pct': 97.82417582417582, 'species_pct': 97.53846153846153}}, 'GTF-boot': {'base': {'true_gene_cnt': 1324.3000000000002, 'species_cnt': 1323.1000000000001, 'true_gene_pct': 97.01831501831501, 'species_pct': 96.93040293040292}}, 'GTF-bucky-boot': {'base': {'true_gene_cnt': 1349.4, 'species_cnt': 1348.0, 'true_gene_pct': 98.85714285714286, 'species_pct': 98.75457875457876}}}}\n",
      "################ 1000gene-100bp GTF 1 ########################\n",
      "{'100gene-100bp': {'GTF': {'base': {'true_gene_cnt': 1212.8, 'species_cnt': 1209.9, 'true_gene_pct': 88.84981684981685, 'species_pct': 88.63736263736263}}, 'GTF-boot': {'base': {'true_gene_cnt': 1256.3, 'species_cnt': 1253.6, 'true_gene_pct': 92.03663003663004, 'species_pct': 91.83882783882784}}, 'GTF-bucky-boot': {'base': {'true_gene_cnt': 1265.5, 'species_cnt': 1262.6999999999998, 'true_gene_pct': 92.71062271062273, 'species_pct': 92.50549450549451}}}, '100gene-1000bp': {'GTF': {'base': {'true_gene_cnt': 1335.3000000000002, 'species_cnt': 1331.4000000000003, 'true_gene_pct': 97.82417582417582, 'species_pct': 97.53846153846153}}, 'GTF-boot': {'base': {'true_gene_cnt': 1324.3000000000002, 'species_cnt': 1323.1000000000001, 'true_gene_pct': 97.01831501831501, 'species_pct': 96.93040293040292}}, 'GTF-bucky-boot': {'base': {'true_gene_cnt': 1349.4, 'species_cnt': 1348.0, 'true_gene_pct': 98.85714285714286, 'species_pct': 98.75457875457876}}}, '1000gene-100bp': {'GTF': {'base': {'true_gene_cnt': 125.9, 'species_cnt': 125.9, 'true_gene_pct': 9.223443223443223, 'species_pct': 9.223443223443223}}}}\n",
      "################ 1000gene-100bp GTF 2 ########################\n",
      "{'100gene-100bp': {'GTF': {'base': {'true_gene_cnt': 1212.8, 'species_cnt': 1209.9, 'true_gene_pct': 88.84981684981685, 'species_pct': 88.63736263736263}}, 'GTF-boot': {'base': {'true_gene_cnt': 1256.3, 'species_cnt': 1253.6, 'true_gene_pct': 92.03663003663004, 'species_pct': 91.83882783882784}}, 'GTF-bucky-boot': {'base': {'true_gene_cnt': 1265.5, 'species_cnt': 1262.6999999999998, 'true_gene_pct': 92.71062271062273, 'species_pct': 92.50549450549451}}}, '100gene-1000bp': {'GTF': {'base': {'true_gene_cnt': 1335.3000000000002, 'species_cnt': 1331.4000000000003, 'true_gene_pct': 97.82417582417582, 'species_pct': 97.53846153846153}}, 'GTF-boot': {'base': {'true_gene_cnt': 1324.3000000000002, 'species_cnt': 1323.1000000000001, 'true_gene_pct': 97.01831501831501, 'species_pct': 96.93040293040292}}, 'GTF-bucky-boot': {'base': {'true_gene_cnt': 1349.4, 'species_cnt': 1348.0, 'true_gene_pct': 98.85714285714286, 'species_pct': 98.75457875457876}}}, '1000gene-100bp': {'GTF': {'base': {'true_gene_cnt': 254.8, 'species_cnt': 254.8, 'true_gene_pct': 18.666666666666664, 'species_pct': 18.666666666666664}}}}\n",
      "################ 1000gene-100bp GTF 3 ########################\n",
      "{'100gene-100bp': {'GTF': {'base': {'true_gene_cnt': 1212.8, 'species_cnt': 1209.9, 'true_gene_pct': 88.84981684981685, 'species_pct': 88.63736263736263}}, 'GTF-boot': {'base': {'true_gene_cnt': 1256.3, 'species_cnt': 1253.6, 'true_gene_pct': 92.03663003663004, 'species_pct': 91.83882783882784}}, 'GTF-bucky-boot': {'base': {'true_gene_cnt': 1265.5, 'species_cnt': 1262.6999999999998, 'true_gene_pct': 92.71062271062273, 'species_pct': 92.50549450549451}}}, '100gene-1000bp': {'GTF': {'base': {'true_gene_cnt': 1335.3000000000002, 'species_cnt': 1331.4000000000003, 'true_gene_pct': 97.82417582417582, 'species_pct': 97.53846153846153}}, 'GTF-boot': {'base': {'true_gene_cnt': 1324.3000000000002, 'species_cnt': 1323.1000000000001, 'true_gene_pct': 97.01831501831501, 'species_pct': 96.93040293040292}}, 'GTF-bucky-boot': {'base': {'true_gene_cnt': 1349.4, 'species_cnt': 1348.0, 'true_gene_pct': 98.85714285714286, 'species_pct': 98.75457875457876}}}, '1000gene-100bp': {'GTF': {'base': {'true_gene_cnt': 383.0, 'species_cnt': 383.0, 'true_gene_pct': 28.05860805860806, 'species_pct': 28.05860805860806}}}}\n",
      "################ 1000gene-100bp GTF 4 ########################\n"
     ]
    },
    {
     "name": "stdout",
     "output_type": "stream",
     "text": [
      "{'100gene-100bp': {'GTF': {'base': {'true_gene_cnt': 1212.8, 'species_cnt': 1209.9, 'true_gene_pct': 88.84981684981685, 'species_pct': 88.63736263736263}}, 'GTF-boot': {'base': {'true_gene_cnt': 1256.3, 'species_cnt': 1253.6, 'true_gene_pct': 92.03663003663004, 'species_pct': 91.83882783882784}}, 'GTF-bucky-boot': {'base': {'true_gene_cnt': 1265.5, 'species_cnt': 1262.6999999999998, 'true_gene_pct': 92.71062271062273, 'species_pct': 92.50549450549451}}}, '100gene-1000bp': {'GTF': {'base': {'true_gene_cnt': 1335.3000000000002, 'species_cnt': 1331.4000000000003, 'true_gene_pct': 97.82417582417582, 'species_pct': 97.53846153846153}}, 'GTF-boot': {'base': {'true_gene_cnt': 1324.3000000000002, 'species_cnt': 1323.1000000000001, 'true_gene_pct': 97.01831501831501, 'species_pct': 96.93040293040292}}, 'GTF-bucky-boot': {'base': {'true_gene_cnt': 1349.4, 'species_cnt': 1348.0, 'true_gene_pct': 98.85714285714286, 'species_pct': 98.75457875457876}}}, '1000gene-100bp': {'GTF': {'base': {'true_gene_cnt': 511.4, 'species_cnt': 511.4, 'true_gene_pct': 37.46520146520147, 'species_pct': 37.46520146520147}}}}\n",
      "################ 1000gene-100bp GTF 5 ########################\n",
      "{'100gene-100bp': {'GTF': {'base': {'true_gene_cnt': 1212.8, 'species_cnt': 1209.9, 'true_gene_pct': 88.84981684981685, 'species_pct': 88.63736263736263}}, 'GTF-boot': {'base': {'true_gene_cnt': 1256.3, 'species_cnt': 1253.6, 'true_gene_pct': 92.03663003663004, 'species_pct': 91.83882783882784}}, 'GTF-bucky-boot': {'base': {'true_gene_cnt': 1265.5, 'species_cnt': 1262.6999999999998, 'true_gene_pct': 92.71062271062273, 'species_pct': 92.50549450549451}}}, '100gene-1000bp': {'GTF': {'base': {'true_gene_cnt': 1335.3000000000002, 'species_cnt': 1331.4000000000003, 'true_gene_pct': 97.82417582417582, 'species_pct': 97.53846153846153}}, 'GTF-boot': {'base': {'true_gene_cnt': 1324.3000000000002, 'species_cnt': 1323.1000000000001, 'true_gene_pct': 97.01831501831501, 'species_pct': 96.93040293040292}}, 'GTF-bucky-boot': {'base': {'true_gene_cnt': 1349.4, 'species_cnt': 1348.0, 'true_gene_pct': 98.85714285714286, 'species_pct': 98.75457875457876}}}, '1000gene-100bp': {'GTF': {'base': {'true_gene_cnt': 639.7, 'species_cnt': 639.7, 'true_gene_pct': 46.86446886446887, 'species_pct': 46.86446886446887}}}}\n",
      "################ 1000gene-100bp GTF 6 ########################\n",
      "{'100gene-100bp': {'GTF': {'base': {'true_gene_cnt': 1212.8, 'species_cnt': 1209.9, 'true_gene_pct': 88.84981684981685, 'species_pct': 88.63736263736263}}, 'GTF-boot': {'base': {'true_gene_cnt': 1256.3, 'species_cnt': 1253.6, 'true_gene_pct': 92.03663003663004, 'species_pct': 91.83882783882784}}, 'GTF-bucky-boot': {'base': {'true_gene_cnt': 1265.5, 'species_cnt': 1262.6999999999998, 'true_gene_pct': 92.71062271062273, 'species_pct': 92.50549450549451}}}, '100gene-1000bp': {'GTF': {'base': {'true_gene_cnt': 1335.3000000000002, 'species_cnt': 1331.4000000000003, 'true_gene_pct': 97.82417582417582, 'species_pct': 97.53846153846153}}, 'GTF-boot': {'base': {'true_gene_cnt': 1324.3000000000002, 'species_cnt': 1323.1000000000001, 'true_gene_pct': 97.01831501831501, 'species_pct': 96.93040293040292}}, 'GTF-bucky-boot': {'base': {'true_gene_cnt': 1349.4, 'species_cnt': 1348.0, 'true_gene_pct': 98.85714285714286, 'species_pct': 98.75457875457876}}}, '1000gene-100bp': {'GTF': {'base': {'true_gene_cnt': 770.8000000000001, 'species_cnt': 770.8000000000001, 'true_gene_pct': 56.468864468864474, 'species_pct': 56.468864468864474}}}}\n",
      "################ 1000gene-100bp GTF 7 ########################\n",
      "{'100gene-100bp': {'GTF': {'base': {'true_gene_cnt': 1212.8, 'species_cnt': 1209.9, 'true_gene_pct': 88.84981684981685, 'species_pct': 88.63736263736263}}, 'GTF-boot': {'base': {'true_gene_cnt': 1256.3, 'species_cnt': 1253.6, 'true_gene_pct': 92.03663003663004, 'species_pct': 91.83882783882784}}, 'GTF-bucky-boot': {'base': {'true_gene_cnt': 1265.5, 'species_cnt': 1262.6999999999998, 'true_gene_pct': 92.71062271062273, 'species_pct': 92.50549450549451}}}, '100gene-1000bp': {'GTF': {'base': {'true_gene_cnt': 1335.3000000000002, 'species_cnt': 1331.4000000000003, 'true_gene_pct': 97.82417582417582, 'species_pct': 97.53846153846153}}, 'GTF-boot': {'base': {'true_gene_cnt': 1324.3000000000002, 'species_cnt': 1323.1000000000001, 'true_gene_pct': 97.01831501831501, 'species_pct': 96.93040293040292}}, 'GTF-bucky-boot': {'base': {'true_gene_cnt': 1349.4, 'species_cnt': 1348.0, 'true_gene_pct': 98.85714285714286, 'species_pct': 98.75457875457876}}}, '1000gene-100bp': {'GTF': {'base': {'true_gene_cnt': 900.8000000000001, 'species_cnt': 900.8000000000001, 'true_gene_pct': 65.992673992674, 'species_pct': 65.992673992674}}}}\n",
      "################ 1000gene-100bp GTF 8 ########################\n",
      "{'100gene-100bp': {'GTF': {'base': {'true_gene_cnt': 1212.8, 'species_cnt': 1209.9, 'true_gene_pct': 88.84981684981685, 'species_pct': 88.63736263736263}}, 'GTF-boot': {'base': {'true_gene_cnt': 1256.3, 'species_cnt': 1253.6, 'true_gene_pct': 92.03663003663004, 'species_pct': 91.83882783882784}}, 'GTF-bucky-boot': {'base': {'true_gene_cnt': 1265.5, 'species_cnt': 1262.6999999999998, 'true_gene_pct': 92.71062271062273, 'species_pct': 92.50549450549451}}}, '100gene-1000bp': {'GTF': {'base': {'true_gene_cnt': 1335.3000000000002, 'species_cnt': 1331.4000000000003, 'true_gene_pct': 97.82417582417582, 'species_pct': 97.53846153846153}}, 'GTF-boot': {'base': {'true_gene_cnt': 1324.3000000000002, 'species_cnt': 1323.1000000000001, 'true_gene_pct': 97.01831501831501, 'species_pct': 96.93040293040292}}, 'GTF-bucky-boot': {'base': {'true_gene_cnt': 1349.4, 'species_cnt': 1348.0, 'true_gene_pct': 98.85714285714286, 'species_pct': 98.75457875457876}}}, '1000gene-100bp': {'GTF': {'base': {'true_gene_cnt': 1030.8000000000002, 'species_cnt': 1030.8000000000002, 'true_gene_pct': 75.51648351648352, 'species_pct': 75.51648351648352}}}}\n",
      "################ 1000gene-100bp GTF 9 ########################\n",
      "{'100gene-100bp': {'GTF': {'base': {'true_gene_cnt': 1212.8, 'species_cnt': 1209.9, 'true_gene_pct': 88.84981684981685, 'species_pct': 88.63736263736263}}, 'GTF-boot': {'base': {'true_gene_cnt': 1256.3, 'species_cnt': 1253.6, 'true_gene_pct': 92.03663003663004, 'species_pct': 91.83882783882784}}, 'GTF-bucky-boot': {'base': {'true_gene_cnt': 1265.5, 'species_cnt': 1262.6999999999998, 'true_gene_pct': 92.71062271062273, 'species_pct': 92.50549450549451}}}, '100gene-1000bp': {'GTF': {'base': {'true_gene_cnt': 1335.3000000000002, 'species_cnt': 1331.4000000000003, 'true_gene_pct': 97.82417582417582, 'species_pct': 97.53846153846153}}, 'GTF-boot': {'base': {'true_gene_cnt': 1324.3000000000002, 'species_cnt': 1323.1000000000001, 'true_gene_pct': 97.01831501831501, 'species_pct': 96.93040293040292}}, 'GTF-bucky-boot': {'base': {'true_gene_cnt': 1349.4, 'species_cnt': 1348.0, 'true_gene_pct': 98.85714285714286, 'species_pct': 98.75457875457876}}}, '1000gene-100bp': {'GTF': {'base': {'true_gene_cnt': 1160.0000000000002, 'species_cnt': 1160.0000000000002, 'true_gene_pct': 84.98168498168498, 'species_pct': 84.98168498168498}}}}\n",
      "################ 1000gene-100bp GTF 10 ########################\n",
      "{'100gene-100bp': {'GTF': {'base': {'true_gene_cnt': 1212.8, 'species_cnt': 1209.9, 'true_gene_pct': 88.84981684981685, 'species_pct': 88.63736263736263}}, 'GTF-boot': {'base': {'true_gene_cnt': 1256.3, 'species_cnt': 1253.6, 'true_gene_pct': 92.03663003663004, 'species_pct': 91.83882783882784}}, 'GTF-bucky-boot': {'base': {'true_gene_cnt': 1265.5, 'species_cnt': 1262.6999999999998, 'true_gene_pct': 92.71062271062273, 'species_pct': 92.50549450549451}}}, '100gene-1000bp': {'GTF': {'base': {'true_gene_cnt': 1335.3000000000002, 'species_cnt': 1331.4000000000003, 'true_gene_pct': 97.82417582417582, 'species_pct': 97.53846153846153}}, 'GTF-boot': {'base': {'true_gene_cnt': 1324.3000000000002, 'species_cnt': 1323.1000000000001, 'true_gene_pct': 97.01831501831501, 'species_pct': 96.93040293040292}}, 'GTF-bucky-boot': {'base': {'true_gene_cnt': 1349.4, 'species_cnt': 1348.0, 'true_gene_pct': 98.85714285714286, 'species_pct': 98.75457875457876}}}, '1000gene-100bp': {'GTF': {'base': {'true_gene_cnt': 1292.2000000000003, 'species_cnt': 1292.2000000000003, 'true_gene_pct': 94.66666666666666, 'species_pct': 94.66666666666666}}}}\n",
      "################ 1000gene-100bp GTF-boot 1 ########################\n",
      "{'100gene-100bp': {'GTF': {'base': {'true_gene_cnt': 1212.8, 'species_cnt': 1209.9, 'true_gene_pct': 88.84981684981685, 'species_pct': 88.63736263736263}}, 'GTF-boot': {'base': {'true_gene_cnt': 1256.3, 'species_cnt': 1253.6, 'true_gene_pct': 92.03663003663004, 'species_pct': 91.83882783882784}}, 'GTF-bucky-boot': {'base': {'true_gene_cnt': 1265.5, 'species_cnt': 1262.6999999999998, 'true_gene_pct': 92.71062271062273, 'species_pct': 92.50549450549451}}}, '100gene-1000bp': {'GTF': {'base': {'true_gene_cnt': 1335.3000000000002, 'species_cnt': 1331.4000000000003, 'true_gene_pct': 97.82417582417582, 'species_pct': 97.53846153846153}}, 'GTF-boot': {'base': {'true_gene_cnt': 1324.3000000000002, 'species_cnt': 1323.1000000000001, 'true_gene_pct': 97.01831501831501, 'species_pct': 96.93040293040292}}, 'GTF-bucky-boot': {'base': {'true_gene_cnt': 1349.4, 'species_cnt': 1348.0, 'true_gene_pct': 98.85714285714286, 'species_pct': 98.75457875457876}}}, '1000gene-100bp': {'GTF': {'base': {'true_gene_cnt': 1292.2000000000003, 'species_cnt': 1292.2000000000003, 'true_gene_pct': 94.66666666666666, 'species_pct': 94.66666666666666}}, 'GTF-boot': {'base': {'true_gene_cnt': 128.3, 'species_cnt': 128.3, 'true_gene_pct': 9.3992673992674, 'species_pct': 9.3992673992674}}}}\n",
      "################ 1000gene-100bp GTF-boot 2 ########################\n",
      "{'100gene-100bp': {'GTF': {'base': {'true_gene_cnt': 1212.8, 'species_cnt': 1209.9, 'true_gene_pct': 88.84981684981685, 'species_pct': 88.63736263736263}}, 'GTF-boot': {'base': {'true_gene_cnt': 1256.3, 'species_cnt': 1253.6, 'true_gene_pct': 92.03663003663004, 'species_pct': 91.83882783882784}}, 'GTF-bucky-boot': {'base': {'true_gene_cnt': 1265.5, 'species_cnt': 1262.6999999999998, 'true_gene_pct': 92.71062271062273, 'species_pct': 92.50549450549451}}}, '100gene-1000bp': {'GTF': {'base': {'true_gene_cnt': 1335.3000000000002, 'species_cnt': 1331.4000000000003, 'true_gene_pct': 97.82417582417582, 'species_pct': 97.53846153846153}}, 'GTF-boot': {'base': {'true_gene_cnt': 1324.3000000000002, 'species_cnt': 1323.1000000000001, 'true_gene_pct': 97.01831501831501, 'species_pct': 96.93040293040292}}, 'GTF-bucky-boot': {'base': {'true_gene_cnt': 1349.4, 'species_cnt': 1348.0, 'true_gene_pct': 98.85714285714286, 'species_pct': 98.75457875457876}}}, '1000gene-100bp': {'GTF': {'base': {'true_gene_cnt': 1292.2000000000003, 'species_cnt': 1292.2000000000003, 'true_gene_pct': 94.66666666666666, 'species_pct': 94.66666666666666}}, 'GTF-boot': {'base': {'true_gene_cnt': 257.70000000000005, 'species_cnt': 257.70000000000005, 'true_gene_pct': 18.87912087912088, 'species_pct': 18.87912087912088}}}}\n",
      "################ 1000gene-100bp GTF-boot 3 ########################\n",
      "{'100gene-100bp': {'GTF': {'base': {'true_gene_cnt': 1212.8, 'species_cnt': 1209.9, 'true_gene_pct': 88.84981684981685, 'species_pct': 88.63736263736263}}, 'GTF-boot': {'base': {'true_gene_cnt': 1256.3, 'species_cnt': 1253.6, 'true_gene_pct': 92.03663003663004, 'species_pct': 91.83882783882784}}, 'GTF-bucky-boot': {'base': {'true_gene_cnt': 1265.5, 'species_cnt': 1262.6999999999998, 'true_gene_pct': 92.71062271062273, 'species_pct': 92.50549450549451}}}, '100gene-1000bp': {'GTF': {'base': {'true_gene_cnt': 1335.3000000000002, 'species_cnt': 1331.4000000000003, 'true_gene_pct': 97.82417582417582, 'species_pct': 97.53846153846153}}, 'GTF-boot': {'base': {'true_gene_cnt': 1324.3000000000002, 'species_cnt': 1323.1000000000001, 'true_gene_pct': 97.01831501831501, 'species_pct': 96.93040293040292}}, 'GTF-bucky-boot': {'base': {'true_gene_cnt': 1349.4, 'species_cnt': 1348.0, 'true_gene_pct': 98.85714285714286, 'species_pct': 98.75457875457876}}}, '1000gene-100bp': {'GTF': {'base': {'true_gene_cnt': 1292.2000000000003, 'species_cnt': 1292.2000000000003, 'true_gene_pct': 94.66666666666666, 'species_pct': 94.66666666666666}}, 'GTF-boot': {'base': {'true_gene_cnt': 387.6, 'species_cnt': 387.6, 'true_gene_pct': 28.395604395604394, 'species_pct': 28.395604395604394}}}}\n",
      "################ 1000gene-100bp GTF-boot 4 ########################\n",
      "{'100gene-100bp': {'GTF': {'base': {'true_gene_cnt': 1212.8, 'species_cnt': 1209.9, 'true_gene_pct': 88.84981684981685, 'species_pct': 88.63736263736263}}, 'GTF-boot': {'base': {'true_gene_cnt': 1256.3, 'species_cnt': 1253.6, 'true_gene_pct': 92.03663003663004, 'species_pct': 91.83882783882784}}, 'GTF-bucky-boot': {'base': {'true_gene_cnt': 1265.5, 'species_cnt': 1262.6999999999998, 'true_gene_pct': 92.71062271062273, 'species_pct': 92.50549450549451}}}, '100gene-1000bp': {'GTF': {'base': {'true_gene_cnt': 1335.3000000000002, 'species_cnt': 1331.4000000000003, 'true_gene_pct': 97.82417582417582, 'species_pct': 97.53846153846153}}, 'GTF-boot': {'base': {'true_gene_cnt': 1324.3000000000002, 'species_cnt': 1323.1000000000001, 'true_gene_pct': 97.01831501831501, 'species_pct': 96.93040293040292}}, 'GTF-bucky-boot': {'base': {'true_gene_cnt': 1349.4, 'species_cnt': 1348.0, 'true_gene_pct': 98.85714285714286, 'species_pct': 98.75457875457876}}}, '1000gene-100bp': {'GTF': {'base': {'true_gene_cnt': 1292.2000000000003, 'species_cnt': 1292.2000000000003, 'true_gene_pct': 94.66666666666666, 'species_pct': 94.66666666666666}}, 'GTF-boot': {'base': {'true_gene_cnt': 517.9000000000001, 'species_cnt': 517.9000000000001, 'true_gene_pct': 37.94139194139194, 'species_pct': 37.94139194139194}}}}\n",
      "################ 1000gene-100bp GTF-boot 5 ########################\n"
     ]
    },
    {
     "name": "stdout",
     "output_type": "stream",
     "text": [
      "{'100gene-100bp': {'GTF': {'base': {'true_gene_cnt': 1212.8, 'species_cnt': 1209.9, 'true_gene_pct': 88.84981684981685, 'species_pct': 88.63736263736263}}, 'GTF-boot': {'base': {'true_gene_cnt': 1256.3, 'species_cnt': 1253.6, 'true_gene_pct': 92.03663003663004, 'species_pct': 91.83882783882784}}, 'GTF-bucky-boot': {'base': {'true_gene_cnt': 1265.5, 'species_cnt': 1262.6999999999998, 'true_gene_pct': 92.71062271062273, 'species_pct': 92.50549450549451}}}, '100gene-1000bp': {'GTF': {'base': {'true_gene_cnt': 1335.3000000000002, 'species_cnt': 1331.4000000000003, 'true_gene_pct': 97.82417582417582, 'species_pct': 97.53846153846153}}, 'GTF-boot': {'base': {'true_gene_cnt': 1324.3000000000002, 'species_cnt': 1323.1000000000001, 'true_gene_pct': 97.01831501831501, 'species_pct': 96.93040293040292}}, 'GTF-bucky-boot': {'base': {'true_gene_cnt': 1349.4, 'species_cnt': 1348.0, 'true_gene_pct': 98.85714285714286, 'species_pct': 98.75457875457876}}}, '1000gene-100bp': {'GTF': {'base': {'true_gene_cnt': 1292.2000000000003, 'species_cnt': 1292.2000000000003, 'true_gene_pct': 94.66666666666666, 'species_pct': 94.66666666666666}}, 'GTF-boot': {'base': {'true_gene_cnt': 646.7, 'species_cnt': 646.7, 'true_gene_pct': 47.37728937728938, 'species_pct': 47.37728937728938}}}}\n",
      "################ 1000gene-100bp GTF-boot 6 ########################\n",
      "{'100gene-100bp': {'GTF': {'base': {'true_gene_cnt': 1212.8, 'species_cnt': 1209.9, 'true_gene_pct': 88.84981684981685, 'species_pct': 88.63736263736263}}, 'GTF-boot': {'base': {'true_gene_cnt': 1256.3, 'species_cnt': 1253.6, 'true_gene_pct': 92.03663003663004, 'species_pct': 91.83882783882784}}, 'GTF-bucky-boot': {'base': {'true_gene_cnt': 1265.5, 'species_cnt': 1262.6999999999998, 'true_gene_pct': 92.71062271062273, 'species_pct': 92.50549450549451}}}, '100gene-1000bp': {'GTF': {'base': {'true_gene_cnt': 1335.3000000000002, 'species_cnt': 1331.4000000000003, 'true_gene_pct': 97.82417582417582, 'species_pct': 97.53846153846153}}, 'GTF-boot': {'base': {'true_gene_cnt': 1324.3000000000002, 'species_cnt': 1323.1000000000001, 'true_gene_pct': 97.01831501831501, 'species_pct': 96.93040293040292}}, 'GTF-bucky-boot': {'base': {'true_gene_cnt': 1349.4, 'species_cnt': 1348.0, 'true_gene_pct': 98.85714285714286, 'species_pct': 98.75457875457876}}}, '1000gene-100bp': {'GTF': {'base': {'true_gene_cnt': 1292.2000000000003, 'species_cnt': 1292.2000000000003, 'true_gene_pct': 94.66666666666666, 'species_pct': 94.66666666666666}}, 'GTF-boot': {'base': {'true_gene_cnt': 778.3000000000001, 'species_cnt': 778.3000000000001, 'true_gene_pct': 57.01831501831502, 'species_pct': 57.01831501831502}}}}\n",
      "################ 1000gene-100bp GTF-boot 7 ########################\n",
      "{'100gene-100bp': {'GTF': {'base': {'true_gene_cnt': 1212.8, 'species_cnt': 1209.9, 'true_gene_pct': 88.84981684981685, 'species_pct': 88.63736263736263}}, 'GTF-boot': {'base': {'true_gene_cnt': 1256.3, 'species_cnt': 1253.6, 'true_gene_pct': 92.03663003663004, 'species_pct': 91.83882783882784}}, 'GTF-bucky-boot': {'base': {'true_gene_cnt': 1265.5, 'species_cnt': 1262.6999999999998, 'true_gene_pct': 92.71062271062273, 'species_pct': 92.50549450549451}}}, '100gene-1000bp': {'GTF': {'base': {'true_gene_cnt': 1335.3000000000002, 'species_cnt': 1331.4000000000003, 'true_gene_pct': 97.82417582417582, 'species_pct': 97.53846153846153}}, 'GTF-boot': {'base': {'true_gene_cnt': 1324.3000000000002, 'species_cnt': 1323.1000000000001, 'true_gene_pct': 97.01831501831501, 'species_pct': 96.93040293040292}}, 'GTF-bucky-boot': {'base': {'true_gene_cnt': 1349.4, 'species_cnt': 1348.0, 'true_gene_pct': 98.85714285714286, 'species_pct': 98.75457875457876}}}, '1000gene-100bp': {'GTF': {'base': {'true_gene_cnt': 1292.2000000000003, 'species_cnt': 1292.2000000000003, 'true_gene_pct': 94.66666666666666, 'species_pct': 94.66666666666666}}, 'GTF-boot': {'base': {'true_gene_cnt': 909.0, 'species_cnt': 909.0, 'true_gene_pct': 66.5934065934066, 'species_pct': 66.5934065934066}}}}\n",
      "################ 1000gene-100bp GTF-boot 8 ########################\n",
      "{'100gene-100bp': {'GTF': {'base': {'true_gene_cnt': 1212.8, 'species_cnt': 1209.9, 'true_gene_pct': 88.84981684981685, 'species_pct': 88.63736263736263}}, 'GTF-boot': {'base': {'true_gene_cnt': 1256.3, 'species_cnt': 1253.6, 'true_gene_pct': 92.03663003663004, 'species_pct': 91.83882783882784}}, 'GTF-bucky-boot': {'base': {'true_gene_cnt': 1265.5, 'species_cnt': 1262.6999999999998, 'true_gene_pct': 92.71062271062273, 'species_pct': 92.50549450549451}}}, '100gene-1000bp': {'GTF': {'base': {'true_gene_cnt': 1335.3000000000002, 'species_cnt': 1331.4000000000003, 'true_gene_pct': 97.82417582417582, 'species_pct': 97.53846153846153}}, 'GTF-boot': {'base': {'true_gene_cnt': 1324.3000000000002, 'species_cnt': 1323.1000000000001, 'true_gene_pct': 97.01831501831501, 'species_pct': 96.93040293040292}}, 'GTF-bucky-boot': {'base': {'true_gene_cnt': 1349.4, 'species_cnt': 1348.0, 'true_gene_pct': 98.85714285714286, 'species_pct': 98.75457875457876}}}, '1000gene-100bp': {'GTF': {'base': {'true_gene_cnt': 1292.2000000000003, 'species_cnt': 1292.2000000000003, 'true_gene_pct': 94.66666666666666, 'species_pct': 94.66666666666666}}, 'GTF-boot': {'base': {'true_gene_cnt': 1039.4, 'species_cnt': 1039.4, 'true_gene_pct': 76.14652014652015, 'species_pct': 76.14652014652015}}}}\n",
      "################ 1000gene-100bp GTF-boot 9 ########################\n",
      "{'100gene-100bp': {'GTF': {'base': {'true_gene_cnt': 1212.8, 'species_cnt': 1209.9, 'true_gene_pct': 88.84981684981685, 'species_pct': 88.63736263736263}}, 'GTF-boot': {'base': {'true_gene_cnt': 1256.3, 'species_cnt': 1253.6, 'true_gene_pct': 92.03663003663004, 'species_pct': 91.83882783882784}}, 'GTF-bucky-boot': {'base': {'true_gene_cnt': 1265.5, 'species_cnt': 1262.6999999999998, 'true_gene_pct': 92.71062271062273, 'species_pct': 92.50549450549451}}}, '100gene-1000bp': {'GTF': {'base': {'true_gene_cnt': 1335.3000000000002, 'species_cnt': 1331.4000000000003, 'true_gene_pct': 97.82417582417582, 'species_pct': 97.53846153846153}}, 'GTF-boot': {'base': {'true_gene_cnt': 1324.3000000000002, 'species_cnt': 1323.1000000000001, 'true_gene_pct': 97.01831501831501, 'species_pct': 96.93040293040292}}, 'GTF-bucky-boot': {'base': {'true_gene_cnt': 1349.4, 'species_cnt': 1348.0, 'true_gene_pct': 98.85714285714286, 'species_pct': 98.75457875457876}}}, '1000gene-100bp': {'GTF': {'base': {'true_gene_cnt': 1292.2000000000003, 'species_cnt': 1292.2000000000003, 'true_gene_pct': 94.66666666666666, 'species_pct': 94.66666666666666}}, 'GTF-boot': {'base': {'true_gene_cnt': 1169.1000000000001, 'species_cnt': 1169.1000000000001, 'true_gene_pct': 85.64835164835165, 'species_pct': 85.64835164835165}}}}\n",
      "################ 1000gene-100bp GTF-boot 10 ########################\n",
      "{'100gene-100bp': {'GTF': {'base': {'true_gene_cnt': 1212.8, 'species_cnt': 1209.9, 'true_gene_pct': 88.84981684981685, 'species_pct': 88.63736263736263}}, 'GTF-boot': {'base': {'true_gene_cnt': 1256.3, 'species_cnt': 1253.6, 'true_gene_pct': 92.03663003663004, 'species_pct': 91.83882783882784}}, 'GTF-bucky-boot': {'base': {'true_gene_cnt': 1265.5, 'species_cnt': 1262.6999999999998, 'true_gene_pct': 92.71062271062273, 'species_pct': 92.50549450549451}}}, '100gene-1000bp': {'GTF': {'base': {'true_gene_cnt': 1335.3000000000002, 'species_cnt': 1331.4000000000003, 'true_gene_pct': 97.82417582417582, 'species_pct': 97.53846153846153}}, 'GTF-boot': {'base': {'true_gene_cnt': 1324.3000000000002, 'species_cnt': 1323.1000000000001, 'true_gene_pct': 97.01831501831501, 'species_pct': 96.93040293040292}}, 'GTF-bucky-boot': {'base': {'true_gene_cnt': 1349.4, 'species_cnt': 1348.0, 'true_gene_pct': 98.85714285714286, 'species_pct': 98.75457875457876}}}, '1000gene-100bp': {'GTF': {'base': {'true_gene_cnt': 1292.2000000000003, 'species_cnt': 1292.2000000000003, 'true_gene_pct': 94.66666666666666, 'species_pct': 94.66666666666666}}, 'GTF-boot': {'base': {'true_gene_cnt': 1299.4, 'species_cnt': 1299.4, 'true_gene_pct': 95.1941391941392, 'species_pct': 95.1941391941392}}}}\n",
      "################ 1000gene-100bp GTF-bucky-boot 1 ########################\n",
      "{'100gene-100bp': {'GTF': {'base': {'true_gene_cnt': 1212.8, 'species_cnt': 1209.9, 'true_gene_pct': 88.84981684981685, 'species_pct': 88.63736263736263}}, 'GTF-boot': {'base': {'true_gene_cnt': 1256.3, 'species_cnt': 1253.6, 'true_gene_pct': 92.03663003663004, 'species_pct': 91.83882783882784}}, 'GTF-bucky-boot': {'base': {'true_gene_cnt': 1265.5, 'species_cnt': 1262.6999999999998, 'true_gene_pct': 92.71062271062273, 'species_pct': 92.50549450549451}}}, '100gene-1000bp': {'GTF': {'base': {'true_gene_cnt': 1335.3000000000002, 'species_cnt': 1331.4000000000003, 'true_gene_pct': 97.82417582417582, 'species_pct': 97.53846153846153}}, 'GTF-boot': {'base': {'true_gene_cnt': 1324.3000000000002, 'species_cnt': 1323.1000000000001, 'true_gene_pct': 97.01831501831501, 'species_pct': 96.93040293040292}}, 'GTF-bucky-boot': {'base': {'true_gene_cnt': 1349.4, 'species_cnt': 1348.0, 'true_gene_pct': 98.85714285714286, 'species_pct': 98.75457875457876}}}, '1000gene-100bp': {'GTF': {'base': {'true_gene_cnt': 1292.2000000000003, 'species_cnt': 1292.2000000000003, 'true_gene_pct': 94.66666666666666, 'species_pct': 94.66666666666666}}, 'GTF-boot': {'base': {'true_gene_cnt': 1299.4, 'species_cnt': 1299.4, 'true_gene_pct': 95.1941391941392, 'species_pct': 95.1941391941392}}, 'GTF-bucky-boot': {'base': {'true_gene_cnt': 129.6, 'species_cnt': 129.6, 'true_gene_pct': 9.494505494505495, 'species_pct': 9.494505494505495}}}}\n",
      "################ 1000gene-100bp GTF-bucky-boot 2 ########################\n",
      "{'100gene-100bp': {'GTF': {'base': {'true_gene_cnt': 1212.8, 'species_cnt': 1209.9, 'true_gene_pct': 88.84981684981685, 'species_pct': 88.63736263736263}}, 'GTF-boot': {'base': {'true_gene_cnt': 1256.3, 'species_cnt': 1253.6, 'true_gene_pct': 92.03663003663004, 'species_pct': 91.83882783882784}}, 'GTF-bucky-boot': {'base': {'true_gene_cnt': 1265.5, 'species_cnt': 1262.6999999999998, 'true_gene_pct': 92.71062271062273, 'species_pct': 92.50549450549451}}}, '100gene-1000bp': {'GTF': {'base': {'true_gene_cnt': 1335.3000000000002, 'species_cnt': 1331.4000000000003, 'true_gene_pct': 97.82417582417582, 'species_pct': 97.53846153846153}}, 'GTF-boot': {'base': {'true_gene_cnt': 1324.3000000000002, 'species_cnt': 1323.1000000000001, 'true_gene_pct': 97.01831501831501, 'species_pct': 96.93040293040292}}, 'GTF-bucky-boot': {'base': {'true_gene_cnt': 1349.4, 'species_cnt': 1348.0, 'true_gene_pct': 98.85714285714286, 'species_pct': 98.75457875457876}}}, '1000gene-100bp': {'GTF': {'base': {'true_gene_cnt': 1292.2000000000003, 'species_cnt': 1292.2000000000003, 'true_gene_pct': 94.66666666666666, 'species_pct': 94.66666666666666}}, 'GTF-boot': {'base': {'true_gene_cnt': 1299.4, 'species_cnt': 1299.4, 'true_gene_pct': 95.1941391941392, 'species_pct': 95.1941391941392}}, 'GTF-bucky-boot': {'base': {'true_gene_cnt': 259.9, 'species_cnt': 259.9, 'true_gene_pct': 19.04029304029304, 'species_pct': 19.04029304029304}}}}\n",
      "################ 1000gene-100bp GTF-bucky-boot 3 ########################\n",
      "{'100gene-100bp': {'GTF': {'base': {'true_gene_cnt': 1212.8, 'species_cnt': 1209.9, 'true_gene_pct': 88.84981684981685, 'species_pct': 88.63736263736263}}, 'GTF-boot': {'base': {'true_gene_cnt': 1256.3, 'species_cnt': 1253.6, 'true_gene_pct': 92.03663003663004, 'species_pct': 91.83882783882784}}, 'GTF-bucky-boot': {'base': {'true_gene_cnt': 1265.5, 'species_cnt': 1262.6999999999998, 'true_gene_pct': 92.71062271062273, 'species_pct': 92.50549450549451}}}, '100gene-1000bp': {'GTF': {'base': {'true_gene_cnt': 1335.3000000000002, 'species_cnt': 1331.4000000000003, 'true_gene_pct': 97.82417582417582, 'species_pct': 97.53846153846153}}, 'GTF-boot': {'base': {'true_gene_cnt': 1324.3000000000002, 'species_cnt': 1323.1000000000001, 'true_gene_pct': 97.01831501831501, 'species_pct': 96.93040293040292}}, 'GTF-bucky-boot': {'base': {'true_gene_cnt': 1349.4, 'species_cnt': 1348.0, 'true_gene_pct': 98.85714285714286, 'species_pct': 98.75457875457876}}}, '1000gene-100bp': {'GTF': {'base': {'true_gene_cnt': 1292.2000000000003, 'species_cnt': 1292.2000000000003, 'true_gene_pct': 94.66666666666666, 'species_pct': 94.66666666666666}}, 'GTF-boot': {'base': {'true_gene_cnt': 1299.4, 'species_cnt': 1299.4, 'true_gene_pct': 95.1941391941392, 'species_pct': 95.1941391941392}}, 'GTF-bucky-boot': {'base': {'true_gene_cnt': 390.59999999999997, 'species_cnt': 390.59999999999997, 'true_gene_pct': 28.615384615384613, 'species_pct': 28.615384615384613}}}}\n",
      "################ 1000gene-100bp GTF-bucky-boot 4 ########################\n",
      "{'100gene-100bp': {'GTF': {'base': {'true_gene_cnt': 1212.8, 'species_cnt': 1209.9, 'true_gene_pct': 88.84981684981685, 'species_pct': 88.63736263736263}}, 'GTF-boot': {'base': {'true_gene_cnt': 1256.3, 'species_cnt': 1253.6, 'true_gene_pct': 92.03663003663004, 'species_pct': 91.83882783882784}}, 'GTF-bucky-boot': {'base': {'true_gene_cnt': 1265.5, 'species_cnt': 1262.6999999999998, 'true_gene_pct': 92.71062271062273, 'species_pct': 92.50549450549451}}}, '100gene-1000bp': {'GTF': {'base': {'true_gene_cnt': 1335.3000000000002, 'species_cnt': 1331.4000000000003, 'true_gene_pct': 97.82417582417582, 'species_pct': 97.53846153846153}}, 'GTF-boot': {'base': {'true_gene_cnt': 1324.3000000000002, 'species_cnt': 1323.1000000000001, 'true_gene_pct': 97.01831501831501, 'species_pct': 96.93040293040292}}, 'GTF-bucky-boot': {'base': {'true_gene_cnt': 1349.4, 'species_cnt': 1348.0, 'true_gene_pct': 98.85714285714286, 'species_pct': 98.75457875457876}}}, '1000gene-100bp': {'GTF': {'base': {'true_gene_cnt': 1292.2000000000003, 'species_cnt': 1292.2000000000003, 'true_gene_pct': 94.66666666666666, 'species_pct': 94.66666666666666}}, 'GTF-boot': {'base': {'true_gene_cnt': 1299.4, 'species_cnt': 1299.4, 'true_gene_pct': 95.1941391941392, 'species_pct': 95.1941391941392}}, 'GTF-bucky-boot': {'base': {'true_gene_cnt': 522.6999999999999, 'species_cnt': 522.6999999999999, 'true_gene_pct': 38.29304029304029, 'species_pct': 38.29304029304029}}}}\n",
      "################ 1000gene-100bp GTF-bucky-boot 5 ########################\n",
      "{'100gene-100bp': {'GTF': {'base': {'true_gene_cnt': 1212.8, 'species_cnt': 1209.9, 'true_gene_pct': 88.84981684981685, 'species_pct': 88.63736263736263}}, 'GTF-boot': {'base': {'true_gene_cnt': 1256.3, 'species_cnt': 1253.6, 'true_gene_pct': 92.03663003663004, 'species_pct': 91.83882783882784}}, 'GTF-bucky-boot': {'base': {'true_gene_cnt': 1265.5, 'species_cnt': 1262.6999999999998, 'true_gene_pct': 92.71062271062273, 'species_pct': 92.50549450549451}}}, '100gene-1000bp': {'GTF': {'base': {'true_gene_cnt': 1335.3000000000002, 'species_cnt': 1331.4000000000003, 'true_gene_pct': 97.82417582417582, 'species_pct': 97.53846153846153}}, 'GTF-boot': {'base': {'true_gene_cnt': 1324.3000000000002, 'species_cnt': 1323.1000000000001, 'true_gene_pct': 97.01831501831501, 'species_pct': 96.93040293040292}}, 'GTF-bucky-boot': {'base': {'true_gene_cnt': 1349.4, 'species_cnt': 1348.0, 'true_gene_pct': 98.85714285714286, 'species_pct': 98.75457875457876}}}, '1000gene-100bp': {'GTF': {'base': {'true_gene_cnt': 1292.2000000000003, 'species_cnt': 1292.2000000000003, 'true_gene_pct': 94.66666666666666, 'species_pct': 94.66666666666666}}, 'GTF-boot': {'base': {'true_gene_cnt': 1299.4, 'species_cnt': 1299.4, 'true_gene_pct': 95.1941391941392, 'species_pct': 95.1941391941392}}, 'GTF-bucky-boot': {'base': {'true_gene_cnt': 652.8, 'species_cnt': 652.8, 'true_gene_pct': 47.824175824175825, 'species_pct': 47.824175824175825}}}}\n",
      "################ 1000gene-100bp GTF-bucky-boot 6 ########################\n",
      "{'100gene-100bp': {'GTF': {'base': {'true_gene_cnt': 1212.8, 'species_cnt': 1209.9, 'true_gene_pct': 88.84981684981685, 'species_pct': 88.63736263736263}}, 'GTF-boot': {'base': {'true_gene_cnt': 1256.3, 'species_cnt': 1253.6, 'true_gene_pct': 92.03663003663004, 'species_pct': 91.83882783882784}}, 'GTF-bucky-boot': {'base': {'true_gene_cnt': 1265.5, 'species_cnt': 1262.6999999999998, 'true_gene_pct': 92.71062271062273, 'species_pct': 92.50549450549451}}}, '100gene-1000bp': {'GTF': {'base': {'true_gene_cnt': 1335.3000000000002, 'species_cnt': 1331.4000000000003, 'true_gene_pct': 97.82417582417582, 'species_pct': 97.53846153846153}}, 'GTF-boot': {'base': {'true_gene_cnt': 1324.3000000000002, 'species_cnt': 1323.1000000000001, 'true_gene_pct': 97.01831501831501, 'species_pct': 96.93040293040292}}, 'GTF-bucky-boot': {'base': {'true_gene_cnt': 1349.4, 'species_cnt': 1348.0, 'true_gene_pct': 98.85714285714286, 'species_pct': 98.75457875457876}}}, '1000gene-100bp': {'GTF': {'base': {'true_gene_cnt': 1292.2000000000003, 'species_cnt': 1292.2000000000003, 'true_gene_pct': 94.66666666666666, 'species_pct': 94.66666666666666}}, 'GTF-boot': {'base': {'true_gene_cnt': 1299.4, 'species_cnt': 1299.4, 'true_gene_pct': 95.1941391941392, 'species_pct': 95.1941391941392}}, 'GTF-bucky-boot': {'base': {'true_gene_cnt': 785.9, 'species_cnt': 785.9, 'true_gene_pct': 57.57509157509158, 'species_pct': 57.57509157509158}}}}\n",
      "################ 1000gene-100bp GTF-bucky-boot 7 ########################\n"
     ]
    },
    {
     "name": "stdout",
     "output_type": "stream",
     "text": [
      "{'100gene-100bp': {'GTF': {'base': {'true_gene_cnt': 1212.8, 'species_cnt': 1209.9, 'true_gene_pct': 88.84981684981685, 'species_pct': 88.63736263736263}}, 'GTF-boot': {'base': {'true_gene_cnt': 1256.3, 'species_cnt': 1253.6, 'true_gene_pct': 92.03663003663004, 'species_pct': 91.83882783882784}}, 'GTF-bucky-boot': {'base': {'true_gene_cnt': 1265.5, 'species_cnt': 1262.6999999999998, 'true_gene_pct': 92.71062271062273, 'species_pct': 92.50549450549451}}}, '100gene-1000bp': {'GTF': {'base': {'true_gene_cnt': 1335.3000000000002, 'species_cnt': 1331.4000000000003, 'true_gene_pct': 97.82417582417582, 'species_pct': 97.53846153846153}}, 'GTF-boot': {'base': {'true_gene_cnt': 1324.3000000000002, 'species_cnt': 1323.1000000000001, 'true_gene_pct': 97.01831501831501, 'species_pct': 96.93040293040292}}, 'GTF-bucky-boot': {'base': {'true_gene_cnt': 1349.4, 'species_cnt': 1348.0, 'true_gene_pct': 98.85714285714286, 'species_pct': 98.75457875457876}}}, '1000gene-100bp': {'GTF': {'base': {'true_gene_cnt': 1292.2000000000003, 'species_cnt': 1292.2000000000003, 'true_gene_pct': 94.66666666666666, 'species_pct': 94.66666666666666}}, 'GTF-boot': {'base': {'true_gene_cnt': 1299.4, 'species_cnt': 1299.4, 'true_gene_pct': 95.1941391941392, 'species_pct': 95.1941391941392}}, 'GTF-bucky-boot': {'base': {'true_gene_cnt': 917.9, 'species_cnt': 917.9, 'true_gene_pct': 67.24542124542124, 'species_pct': 67.24542124542124}}}}\n",
      "################ 1000gene-100bp GTF-bucky-boot 8 ########################\n",
      "{'100gene-100bp': {'GTF': {'base': {'true_gene_cnt': 1212.8, 'species_cnt': 1209.9, 'true_gene_pct': 88.84981684981685, 'species_pct': 88.63736263736263}}, 'GTF-boot': {'base': {'true_gene_cnt': 1256.3, 'species_cnt': 1253.6, 'true_gene_pct': 92.03663003663004, 'species_pct': 91.83882783882784}}, 'GTF-bucky-boot': {'base': {'true_gene_cnt': 1265.5, 'species_cnt': 1262.6999999999998, 'true_gene_pct': 92.71062271062273, 'species_pct': 92.50549450549451}}}, '100gene-1000bp': {'GTF': {'base': {'true_gene_cnt': 1335.3000000000002, 'species_cnt': 1331.4000000000003, 'true_gene_pct': 97.82417582417582, 'species_pct': 97.53846153846153}}, 'GTF-boot': {'base': {'true_gene_cnt': 1324.3000000000002, 'species_cnt': 1323.1000000000001, 'true_gene_pct': 97.01831501831501, 'species_pct': 96.93040293040292}}, 'GTF-bucky-boot': {'base': {'true_gene_cnt': 1349.4, 'species_cnt': 1348.0, 'true_gene_pct': 98.85714285714286, 'species_pct': 98.75457875457876}}}, '1000gene-100bp': {'GTF': {'base': {'true_gene_cnt': 1292.2000000000003, 'species_cnt': 1292.2000000000003, 'true_gene_pct': 94.66666666666666, 'species_pct': 94.66666666666666}}, 'GTF-boot': {'base': {'true_gene_cnt': 1299.4, 'species_cnt': 1299.4, 'true_gene_pct': 95.1941391941392, 'species_pct': 95.1941391941392}}, 'GTF-bucky-boot': {'base': {'true_gene_cnt': 1050.0, 'species_cnt': 1050.0, 'true_gene_pct': 76.92307692307692, 'species_pct': 76.92307692307692}}}}\n",
      "################ 1000gene-100bp GTF-bucky-boot 9 ########################\n",
      "{'100gene-100bp': {'GTF': {'base': {'true_gene_cnt': 1212.8, 'species_cnt': 1209.9, 'true_gene_pct': 88.84981684981685, 'species_pct': 88.63736263736263}}, 'GTF-boot': {'base': {'true_gene_cnt': 1256.3, 'species_cnt': 1253.6, 'true_gene_pct': 92.03663003663004, 'species_pct': 91.83882783882784}}, 'GTF-bucky-boot': {'base': {'true_gene_cnt': 1265.5, 'species_cnt': 1262.6999999999998, 'true_gene_pct': 92.71062271062273, 'species_pct': 92.50549450549451}}}, '100gene-1000bp': {'GTF': {'base': {'true_gene_cnt': 1335.3000000000002, 'species_cnt': 1331.4000000000003, 'true_gene_pct': 97.82417582417582, 'species_pct': 97.53846153846153}}, 'GTF-boot': {'base': {'true_gene_cnt': 1324.3000000000002, 'species_cnt': 1323.1000000000001, 'true_gene_pct': 97.01831501831501, 'species_pct': 96.93040293040292}}, 'GTF-bucky-boot': {'base': {'true_gene_cnt': 1349.4, 'species_cnt': 1348.0, 'true_gene_pct': 98.85714285714286, 'species_pct': 98.75457875457876}}}, '1000gene-100bp': {'GTF': {'base': {'true_gene_cnt': 1292.2000000000003, 'species_cnt': 1292.2000000000003, 'true_gene_pct': 94.66666666666666, 'species_pct': 94.66666666666666}}, 'GTF-boot': {'base': {'true_gene_cnt': 1299.4, 'species_cnt': 1299.4, 'true_gene_pct': 95.1941391941392, 'species_pct': 95.1941391941392}}, 'GTF-bucky-boot': {'base': {'true_gene_cnt': 1180.9, 'species_cnt': 1180.9, 'true_gene_pct': 86.51282051282051, 'species_pct': 86.51282051282051}}}}\n",
      "################ 1000gene-100bp GTF-bucky-boot 10 ########################\n",
      "{'100gene-100bp': {'GTF': {'base': {'true_gene_cnt': 1212.8, 'species_cnt': 1209.9, 'true_gene_pct': 88.84981684981685, 'species_pct': 88.63736263736263}}, 'GTF-boot': {'base': {'true_gene_cnt': 1256.3, 'species_cnt': 1253.6, 'true_gene_pct': 92.03663003663004, 'species_pct': 91.83882783882784}}, 'GTF-bucky-boot': {'base': {'true_gene_cnt': 1265.5, 'species_cnt': 1262.6999999999998, 'true_gene_pct': 92.71062271062273, 'species_pct': 92.50549450549451}}}, '100gene-1000bp': {'GTF': {'base': {'true_gene_cnt': 1335.3000000000002, 'species_cnt': 1331.4000000000003, 'true_gene_pct': 97.82417582417582, 'species_pct': 97.53846153846153}}, 'GTF-boot': {'base': {'true_gene_cnt': 1324.3000000000002, 'species_cnt': 1323.1000000000001, 'true_gene_pct': 97.01831501831501, 'species_pct': 96.93040293040292}}, 'GTF-bucky-boot': {'base': {'true_gene_cnt': 1349.4, 'species_cnt': 1348.0, 'true_gene_pct': 98.85714285714286, 'species_pct': 98.75457875457876}}}, '1000gene-100bp': {'GTF': {'base': {'true_gene_cnt': 1292.2000000000003, 'species_cnt': 1292.2000000000003, 'true_gene_pct': 94.66666666666666, 'species_pct': 94.66666666666666}}, 'GTF-boot': {'base': {'true_gene_cnt': 1299.4, 'species_cnt': 1299.4, 'true_gene_pct': 95.1941391941392, 'species_pct': 95.1941391941392}}, 'GTF-bucky-boot': {'base': {'true_gene_cnt': 1312.8000000000002, 'species_cnt': 1312.8000000000002, 'true_gene_pct': 96.17582417582418, 'species_pct': 96.17582417582418}}}}\n",
      "################ 1000gene-1000bp GTF 1 ########################\n",
      "{'100gene-100bp': {'GTF': {'base': {'true_gene_cnt': 1212.8, 'species_cnt': 1209.9, 'true_gene_pct': 88.84981684981685, 'species_pct': 88.63736263736263}}, 'GTF-boot': {'base': {'true_gene_cnt': 1256.3, 'species_cnt': 1253.6, 'true_gene_pct': 92.03663003663004, 'species_pct': 91.83882783882784}}, 'GTF-bucky-boot': {'base': {'true_gene_cnt': 1265.5, 'species_cnt': 1262.6999999999998, 'true_gene_pct': 92.71062271062273, 'species_pct': 92.50549450549451}}}, '100gene-1000bp': {'GTF': {'base': {'true_gene_cnt': 1335.3000000000002, 'species_cnt': 1331.4000000000003, 'true_gene_pct': 97.82417582417582, 'species_pct': 97.53846153846153}}, 'GTF-boot': {'base': {'true_gene_cnt': 1324.3000000000002, 'species_cnt': 1323.1000000000001, 'true_gene_pct': 97.01831501831501, 'species_pct': 96.93040293040292}}, 'GTF-bucky-boot': {'base': {'true_gene_cnt': 1349.4, 'species_cnt': 1348.0, 'true_gene_pct': 98.85714285714286, 'species_pct': 98.75457875457876}}}, '1000gene-100bp': {'GTF': {'base': {'true_gene_cnt': 1292.2000000000003, 'species_cnt': 1292.2000000000003, 'true_gene_pct': 94.66666666666666, 'species_pct': 94.66666666666666}}, 'GTF-boot': {'base': {'true_gene_cnt': 1299.4, 'species_cnt': 1299.4, 'true_gene_pct': 95.1941391941392, 'species_pct': 95.1941391941392}}, 'GTF-bucky-boot': {'base': {'true_gene_cnt': 1312.8000000000002, 'species_cnt': 1312.8000000000002, 'true_gene_pct': 96.17582417582418, 'species_pct': 96.17582417582418}}}, '1000gene-1000bp': {'GTF': {'base': {'true_gene_cnt': 136.3, 'species_cnt': 136.3, 'true_gene_pct': 9.985347985347985, 'species_pct': 9.985347985347985}}}}\n",
      "################ 1000gene-1000bp GTF 2 ########################\n",
      "{'100gene-100bp': {'GTF': {'base': {'true_gene_cnt': 1212.8, 'species_cnt': 1209.9, 'true_gene_pct': 88.84981684981685, 'species_pct': 88.63736263736263}}, 'GTF-boot': {'base': {'true_gene_cnt': 1256.3, 'species_cnt': 1253.6, 'true_gene_pct': 92.03663003663004, 'species_pct': 91.83882783882784}}, 'GTF-bucky-boot': {'base': {'true_gene_cnt': 1265.5, 'species_cnt': 1262.6999999999998, 'true_gene_pct': 92.71062271062273, 'species_pct': 92.50549450549451}}}, '100gene-1000bp': {'GTF': {'base': {'true_gene_cnt': 1335.3000000000002, 'species_cnt': 1331.4000000000003, 'true_gene_pct': 97.82417582417582, 'species_pct': 97.53846153846153}}, 'GTF-boot': {'base': {'true_gene_cnt': 1324.3000000000002, 'species_cnt': 1323.1000000000001, 'true_gene_pct': 97.01831501831501, 'species_pct': 96.93040293040292}}, 'GTF-bucky-boot': {'base': {'true_gene_cnt': 1349.4, 'species_cnt': 1348.0, 'true_gene_pct': 98.85714285714286, 'species_pct': 98.75457875457876}}}, '1000gene-100bp': {'GTF': {'base': {'true_gene_cnt': 1292.2000000000003, 'species_cnt': 1292.2000000000003, 'true_gene_pct': 94.66666666666666, 'species_pct': 94.66666666666666}}, 'GTF-boot': {'base': {'true_gene_cnt': 1299.4, 'species_cnt': 1299.4, 'true_gene_pct': 95.1941391941392, 'species_pct': 95.1941391941392}}, 'GTF-bucky-boot': {'base': {'true_gene_cnt': 1312.8000000000002, 'species_cnt': 1312.8000000000002, 'true_gene_pct': 96.17582417582418, 'species_pct': 96.17582417582418}}}, '1000gene-1000bp': {'GTF': {'base': {'true_gene_cnt': 272.8, 'species_cnt': 272.8, 'true_gene_pct': 19.985347985347985, 'species_pct': 19.985347985347985}}}}\n",
      "################ 1000gene-1000bp GTF 3 ########################\n",
      "{'100gene-100bp': {'GTF': {'base': {'true_gene_cnt': 1212.8, 'species_cnt': 1209.9, 'true_gene_pct': 88.84981684981685, 'species_pct': 88.63736263736263}}, 'GTF-boot': {'base': {'true_gene_cnt': 1256.3, 'species_cnt': 1253.6, 'true_gene_pct': 92.03663003663004, 'species_pct': 91.83882783882784}}, 'GTF-bucky-boot': {'base': {'true_gene_cnt': 1265.5, 'species_cnt': 1262.6999999999998, 'true_gene_pct': 92.71062271062273, 'species_pct': 92.50549450549451}}}, '100gene-1000bp': {'GTF': {'base': {'true_gene_cnt': 1335.3000000000002, 'species_cnt': 1331.4000000000003, 'true_gene_pct': 97.82417582417582, 'species_pct': 97.53846153846153}}, 'GTF-boot': {'base': {'true_gene_cnt': 1324.3000000000002, 'species_cnt': 1323.1000000000001, 'true_gene_pct': 97.01831501831501, 'species_pct': 96.93040293040292}}, 'GTF-bucky-boot': {'base': {'true_gene_cnt': 1349.4, 'species_cnt': 1348.0, 'true_gene_pct': 98.85714285714286, 'species_pct': 98.75457875457876}}}, '1000gene-100bp': {'GTF': {'base': {'true_gene_cnt': 1292.2000000000003, 'species_cnt': 1292.2000000000003, 'true_gene_pct': 94.66666666666666, 'species_pct': 94.66666666666666}}, 'GTF-boot': {'base': {'true_gene_cnt': 1299.4, 'species_cnt': 1299.4, 'true_gene_pct': 95.1941391941392, 'species_pct': 95.1941391941392}}, 'GTF-bucky-boot': {'base': {'true_gene_cnt': 1312.8000000000002, 'species_cnt': 1312.8000000000002, 'true_gene_pct': 96.17582417582418, 'species_pct': 96.17582417582418}}}, '1000gene-1000bp': {'GTF': {'base': {'true_gene_cnt': 407.9, 'species_cnt': 407.9, 'true_gene_pct': 29.882783882783883, 'species_pct': 29.882783882783883}}}}\n",
      "################ 1000gene-1000bp GTF 4 ########################\n",
      "{'100gene-100bp': {'GTF': {'base': {'true_gene_cnt': 1212.8, 'species_cnt': 1209.9, 'true_gene_pct': 88.84981684981685, 'species_pct': 88.63736263736263}}, 'GTF-boot': {'base': {'true_gene_cnt': 1256.3, 'species_cnt': 1253.6, 'true_gene_pct': 92.03663003663004, 'species_pct': 91.83882783882784}}, 'GTF-bucky-boot': {'base': {'true_gene_cnt': 1265.5, 'species_cnt': 1262.6999999999998, 'true_gene_pct': 92.71062271062273, 'species_pct': 92.50549450549451}}}, '100gene-1000bp': {'GTF': {'base': {'true_gene_cnt': 1335.3000000000002, 'species_cnt': 1331.4000000000003, 'true_gene_pct': 97.82417582417582, 'species_pct': 97.53846153846153}}, 'GTF-boot': {'base': {'true_gene_cnt': 1324.3000000000002, 'species_cnt': 1323.1000000000001, 'true_gene_pct': 97.01831501831501, 'species_pct': 96.93040293040292}}, 'GTF-bucky-boot': {'base': {'true_gene_cnt': 1349.4, 'species_cnt': 1348.0, 'true_gene_pct': 98.85714285714286, 'species_pct': 98.75457875457876}}}, '1000gene-100bp': {'GTF': {'base': {'true_gene_cnt': 1292.2000000000003, 'species_cnt': 1292.2000000000003, 'true_gene_pct': 94.66666666666666, 'species_pct': 94.66666666666666}}, 'GTF-boot': {'base': {'true_gene_cnt': 1299.4, 'species_cnt': 1299.4, 'true_gene_pct': 95.1941391941392, 'species_pct': 95.1941391941392}}, 'GTF-bucky-boot': {'base': {'true_gene_cnt': 1312.8000000000002, 'species_cnt': 1312.8000000000002, 'true_gene_pct': 96.17582417582418, 'species_pct': 96.17582417582418}}}, '1000gene-1000bp': {'GTF': {'base': {'true_gene_cnt': 543.5999999999999, 'species_cnt': 543.5999999999999, 'true_gene_pct': 39.824175824175825, 'species_pct': 39.824175824175825}}}}\n",
      "################ 1000gene-1000bp GTF 5 ########################\n",
      "{'100gene-100bp': {'GTF': {'base': {'true_gene_cnt': 1212.8, 'species_cnt': 1209.9, 'true_gene_pct': 88.84981684981685, 'species_pct': 88.63736263736263}}, 'GTF-boot': {'base': {'true_gene_cnt': 1256.3, 'species_cnt': 1253.6, 'true_gene_pct': 92.03663003663004, 'species_pct': 91.83882783882784}}, 'GTF-bucky-boot': {'base': {'true_gene_cnt': 1265.5, 'species_cnt': 1262.6999999999998, 'true_gene_pct': 92.71062271062273, 'species_pct': 92.50549450549451}}}, '100gene-1000bp': {'GTF': {'base': {'true_gene_cnt': 1335.3000000000002, 'species_cnt': 1331.4000000000003, 'true_gene_pct': 97.82417582417582, 'species_pct': 97.53846153846153}}, 'GTF-boot': {'base': {'true_gene_cnt': 1324.3000000000002, 'species_cnt': 1323.1000000000001, 'true_gene_pct': 97.01831501831501, 'species_pct': 96.93040293040292}}, 'GTF-bucky-boot': {'base': {'true_gene_cnt': 1349.4, 'species_cnt': 1348.0, 'true_gene_pct': 98.85714285714286, 'species_pct': 98.75457875457876}}}, '1000gene-100bp': {'GTF': {'base': {'true_gene_cnt': 1292.2000000000003, 'species_cnt': 1292.2000000000003, 'true_gene_pct': 94.66666666666666, 'species_pct': 94.66666666666666}}, 'GTF-boot': {'base': {'true_gene_cnt': 1299.4, 'species_cnt': 1299.4, 'true_gene_pct': 95.1941391941392, 'species_pct': 95.1941391941392}}, 'GTF-bucky-boot': {'base': {'true_gene_cnt': 1312.8000000000002, 'species_cnt': 1312.8000000000002, 'true_gene_pct': 96.17582417582418, 'species_pct': 96.17582417582418}}}, '1000gene-1000bp': {'GTF': {'base': {'true_gene_cnt': 679.3, 'species_cnt': 679.3, 'true_gene_pct': 49.765567765567766, 'species_pct': 49.765567765567766}}}}\n",
      "################ 1000gene-1000bp GTF 6 ########################\n",
      "{'100gene-100bp': {'GTF': {'base': {'true_gene_cnt': 1212.8, 'species_cnt': 1209.9, 'true_gene_pct': 88.84981684981685, 'species_pct': 88.63736263736263}}, 'GTF-boot': {'base': {'true_gene_cnt': 1256.3, 'species_cnt': 1253.6, 'true_gene_pct': 92.03663003663004, 'species_pct': 91.83882783882784}}, 'GTF-bucky-boot': {'base': {'true_gene_cnt': 1265.5, 'species_cnt': 1262.6999999999998, 'true_gene_pct': 92.71062271062273, 'species_pct': 92.50549450549451}}}, '100gene-1000bp': {'GTF': {'base': {'true_gene_cnt': 1335.3000000000002, 'species_cnt': 1331.4000000000003, 'true_gene_pct': 97.82417582417582, 'species_pct': 97.53846153846153}}, 'GTF-boot': {'base': {'true_gene_cnt': 1324.3000000000002, 'species_cnt': 1323.1000000000001, 'true_gene_pct': 97.01831501831501, 'species_pct': 96.93040293040292}}, 'GTF-bucky-boot': {'base': {'true_gene_cnt': 1349.4, 'species_cnt': 1348.0, 'true_gene_pct': 98.85714285714286, 'species_pct': 98.75457875457876}}}, '1000gene-100bp': {'GTF': {'base': {'true_gene_cnt': 1292.2000000000003, 'species_cnt': 1292.2000000000003, 'true_gene_pct': 94.66666666666666, 'species_pct': 94.66666666666666}}, 'GTF-boot': {'base': {'true_gene_cnt': 1299.4, 'species_cnt': 1299.4, 'true_gene_pct': 95.1941391941392, 'species_pct': 95.1941391941392}}, 'GTF-bucky-boot': {'base': {'true_gene_cnt': 1312.8000000000002, 'species_cnt': 1312.8000000000002, 'true_gene_pct': 96.17582417582418, 'species_pct': 96.17582417582418}}}, '1000gene-1000bp': {'GTF': {'base': {'true_gene_cnt': 815.8, 'species_cnt': 815.8, 'true_gene_pct': 59.765567765567766, 'species_pct': 59.765567765567766}}}}\n",
      "################ 1000gene-1000bp GTF 7 ########################\n",
      "{'100gene-100bp': {'GTF': {'base': {'true_gene_cnt': 1212.8, 'species_cnt': 1209.9, 'true_gene_pct': 88.84981684981685, 'species_pct': 88.63736263736263}}, 'GTF-boot': {'base': {'true_gene_cnt': 1256.3, 'species_cnt': 1253.6, 'true_gene_pct': 92.03663003663004, 'species_pct': 91.83882783882784}}, 'GTF-bucky-boot': {'base': {'true_gene_cnt': 1265.5, 'species_cnt': 1262.6999999999998, 'true_gene_pct': 92.71062271062273, 'species_pct': 92.50549450549451}}}, '100gene-1000bp': {'GTF': {'base': {'true_gene_cnt': 1335.3000000000002, 'species_cnt': 1331.4000000000003, 'true_gene_pct': 97.82417582417582, 'species_pct': 97.53846153846153}}, 'GTF-boot': {'base': {'true_gene_cnt': 1324.3000000000002, 'species_cnt': 1323.1000000000001, 'true_gene_pct': 97.01831501831501, 'species_pct': 96.93040293040292}}, 'GTF-bucky-boot': {'base': {'true_gene_cnt': 1349.4, 'species_cnt': 1348.0, 'true_gene_pct': 98.85714285714286, 'species_pct': 98.75457875457876}}}, '1000gene-100bp': {'GTF': {'base': {'true_gene_cnt': 1292.2000000000003, 'species_cnt': 1292.2000000000003, 'true_gene_pct': 94.66666666666666, 'species_pct': 94.66666666666666}}, 'GTF-boot': {'base': {'true_gene_cnt': 1299.4, 'species_cnt': 1299.4, 'true_gene_pct': 95.1941391941392, 'species_pct': 95.1941391941392}}, 'GTF-bucky-boot': {'base': {'true_gene_cnt': 1312.8000000000002, 'species_cnt': 1312.8000000000002, 'true_gene_pct': 96.17582417582418, 'species_pct': 96.17582417582418}}}, '1000gene-1000bp': {'GTF': {'base': {'true_gene_cnt': 951.1999999999999, 'species_cnt': 951.1999999999999, 'true_gene_pct': 69.6849816849817, 'species_pct': 69.6849816849817}}}}\n",
      "################ 1000gene-1000bp GTF 8 ########################\n",
      "{'100gene-100bp': {'GTF': {'base': {'true_gene_cnt': 1212.8, 'species_cnt': 1209.9, 'true_gene_pct': 88.84981684981685, 'species_pct': 88.63736263736263}}, 'GTF-boot': {'base': {'true_gene_cnt': 1256.3, 'species_cnt': 1253.6, 'true_gene_pct': 92.03663003663004, 'species_pct': 91.83882783882784}}, 'GTF-bucky-boot': {'base': {'true_gene_cnt': 1265.5, 'species_cnt': 1262.6999999999998, 'true_gene_pct': 92.71062271062273, 'species_pct': 92.50549450549451}}}, '100gene-1000bp': {'GTF': {'base': {'true_gene_cnt': 1335.3000000000002, 'species_cnt': 1331.4000000000003, 'true_gene_pct': 97.82417582417582, 'species_pct': 97.53846153846153}}, 'GTF-boot': {'base': {'true_gene_cnt': 1324.3000000000002, 'species_cnt': 1323.1000000000001, 'true_gene_pct': 97.01831501831501, 'species_pct': 96.93040293040292}}, 'GTF-bucky-boot': {'base': {'true_gene_cnt': 1349.4, 'species_cnt': 1348.0, 'true_gene_pct': 98.85714285714286, 'species_pct': 98.75457875457876}}}, '1000gene-100bp': {'GTF': {'base': {'true_gene_cnt': 1292.2000000000003, 'species_cnt': 1292.2000000000003, 'true_gene_pct': 94.66666666666666, 'species_pct': 94.66666666666666}}, 'GTF-boot': {'base': {'true_gene_cnt': 1299.4, 'species_cnt': 1299.4, 'true_gene_pct': 95.1941391941392, 'species_pct': 95.1941391941392}}, 'GTF-bucky-boot': {'base': {'true_gene_cnt': 1312.8000000000002, 'species_cnt': 1312.8000000000002, 'true_gene_pct': 96.17582417582418, 'species_pct': 96.17582417582418}}}, '1000gene-1000bp': {'GTF': {'base': {'true_gene_cnt': 1087.1, 'species_cnt': 1087.1, 'true_gene_pct': 79.64102564102565, 'species_pct': 79.64102564102565}}}}\n",
      "################ 1000gene-1000bp GTF 9 ########################\n",
      "{'100gene-100bp': {'GTF': {'base': {'true_gene_cnt': 1212.8, 'species_cnt': 1209.9, 'true_gene_pct': 88.84981684981685, 'species_pct': 88.63736263736263}}, 'GTF-boot': {'base': {'true_gene_cnt': 1256.3, 'species_cnt': 1253.6, 'true_gene_pct': 92.03663003663004, 'species_pct': 91.83882783882784}}, 'GTF-bucky-boot': {'base': {'true_gene_cnt': 1265.5, 'species_cnt': 1262.6999999999998, 'true_gene_pct': 92.71062271062273, 'species_pct': 92.50549450549451}}}, '100gene-1000bp': {'GTF': {'base': {'true_gene_cnt': 1335.3000000000002, 'species_cnt': 1331.4000000000003, 'true_gene_pct': 97.82417582417582, 'species_pct': 97.53846153846153}}, 'GTF-boot': {'base': {'true_gene_cnt': 1324.3000000000002, 'species_cnt': 1323.1000000000001, 'true_gene_pct': 97.01831501831501, 'species_pct': 96.93040293040292}}, 'GTF-bucky-boot': {'base': {'true_gene_cnt': 1349.4, 'species_cnt': 1348.0, 'true_gene_pct': 98.85714285714286, 'species_pct': 98.75457875457876}}}, '1000gene-100bp': {'GTF': {'base': {'true_gene_cnt': 1292.2000000000003, 'species_cnt': 1292.2000000000003, 'true_gene_pct': 94.66666666666666, 'species_pct': 94.66666666666666}}, 'GTF-boot': {'base': {'true_gene_cnt': 1299.4, 'species_cnt': 1299.4, 'true_gene_pct': 95.1941391941392, 'species_pct': 95.1941391941392}}, 'GTF-bucky-boot': {'base': {'true_gene_cnt': 1312.8000000000002, 'species_cnt': 1312.8000000000002, 'true_gene_pct': 96.17582417582418, 'species_pct': 96.17582417582418}}}, '1000gene-1000bp': {'GTF': {'base': {'true_gene_cnt': 1223.6, 'species_cnt': 1223.6, 'true_gene_pct': 89.64102564102565, 'species_pct': 89.64102564102565}}}}\n",
      "################ 1000gene-1000bp GTF 10 ########################\n",
      "{'100gene-100bp': {'GTF': {'base': {'true_gene_cnt': 1212.8, 'species_cnt': 1209.9, 'true_gene_pct': 88.84981684981685, 'species_pct': 88.63736263736263}}, 'GTF-boot': {'base': {'true_gene_cnt': 1256.3, 'species_cnt': 1253.6, 'true_gene_pct': 92.03663003663004, 'species_pct': 91.83882783882784}}, 'GTF-bucky-boot': {'base': {'true_gene_cnt': 1265.5, 'species_cnt': 1262.6999999999998, 'true_gene_pct': 92.71062271062273, 'species_pct': 92.50549450549451}}}, '100gene-1000bp': {'GTF': {'base': {'true_gene_cnt': 1335.3000000000002, 'species_cnt': 1331.4000000000003, 'true_gene_pct': 97.82417582417582, 'species_pct': 97.53846153846153}}, 'GTF-boot': {'base': {'true_gene_cnt': 1324.3000000000002, 'species_cnt': 1323.1000000000001, 'true_gene_pct': 97.01831501831501, 'species_pct': 96.93040293040292}}, 'GTF-bucky-boot': {'base': {'true_gene_cnt': 1349.4, 'species_cnt': 1348.0, 'true_gene_pct': 98.85714285714286, 'species_pct': 98.75457875457876}}}, '1000gene-100bp': {'GTF': {'base': {'true_gene_cnt': 1292.2000000000003, 'species_cnt': 1292.2000000000003, 'true_gene_pct': 94.66666666666666, 'species_pct': 94.66666666666666}}, 'GTF-boot': {'base': {'true_gene_cnt': 1299.4, 'species_cnt': 1299.4, 'true_gene_pct': 95.1941391941392, 'species_pct': 95.1941391941392}}, 'GTF-bucky-boot': {'base': {'true_gene_cnt': 1312.8000000000002, 'species_cnt': 1312.8000000000002, 'true_gene_pct': 96.17582417582418, 'species_pct': 96.17582417582418}}}, '1000gene-1000bp': {'GTF': {'base': {'true_gene_cnt': 1359.3999999999999, 'species_cnt': 1359.3999999999999, 'true_gene_pct': 99.58974358974359, 'species_pct': 99.58974358974359}}}}\n",
      "################ 1000gene-1000bp GTF-boot 1 ########################\n"
     ]
    },
    {
     "name": "stdout",
     "output_type": "stream",
     "text": [
      "{'100gene-100bp': {'GTF': {'base': {'true_gene_cnt': 1212.8, 'species_cnt': 1209.9, 'true_gene_pct': 88.84981684981685, 'species_pct': 88.63736263736263}}, 'GTF-boot': {'base': {'true_gene_cnt': 1256.3, 'species_cnt': 1253.6, 'true_gene_pct': 92.03663003663004, 'species_pct': 91.83882783882784}}, 'GTF-bucky-boot': {'base': {'true_gene_cnt': 1265.5, 'species_cnt': 1262.6999999999998, 'true_gene_pct': 92.71062271062273, 'species_pct': 92.50549450549451}}}, '100gene-1000bp': {'GTF': {'base': {'true_gene_cnt': 1335.3000000000002, 'species_cnt': 1331.4000000000003, 'true_gene_pct': 97.82417582417582, 'species_pct': 97.53846153846153}}, 'GTF-boot': {'base': {'true_gene_cnt': 1324.3000000000002, 'species_cnt': 1323.1000000000001, 'true_gene_pct': 97.01831501831501, 'species_pct': 96.93040293040292}}, 'GTF-bucky-boot': {'base': {'true_gene_cnt': 1349.4, 'species_cnt': 1348.0, 'true_gene_pct': 98.85714285714286, 'species_pct': 98.75457875457876}}}, '1000gene-100bp': {'GTF': {'base': {'true_gene_cnt': 1292.2000000000003, 'species_cnt': 1292.2000000000003, 'true_gene_pct': 94.66666666666666, 'species_pct': 94.66666666666666}}, 'GTF-boot': {'base': {'true_gene_cnt': 1299.4, 'species_cnt': 1299.4, 'true_gene_pct': 95.1941391941392, 'species_pct': 95.1941391941392}}, 'GTF-bucky-boot': {'base': {'true_gene_cnt': 1312.8000000000002, 'species_cnt': 1312.8000000000002, 'true_gene_pct': 96.17582417582418, 'species_pct': 96.17582417582418}}}, '1000gene-1000bp': {'GTF': {'base': {'true_gene_cnt': 1359.3999999999999, 'species_cnt': 1359.3999999999999, 'true_gene_pct': 99.58974358974359, 'species_pct': 99.58974358974359}}, 'GTF-boot': {'base': {'true_gene_cnt': 133.2, 'species_cnt': 133.2, 'true_gene_pct': 9.758241758241759, 'species_pct': 9.758241758241759}}}}\n",
      "################ 1000gene-1000bp GTF-boot 2 ########################\n",
      "{'100gene-100bp': {'GTF': {'base': {'true_gene_cnt': 1212.8, 'species_cnt': 1209.9, 'true_gene_pct': 88.84981684981685, 'species_pct': 88.63736263736263}}, 'GTF-boot': {'base': {'true_gene_cnt': 1256.3, 'species_cnt': 1253.6, 'true_gene_pct': 92.03663003663004, 'species_pct': 91.83882783882784}}, 'GTF-bucky-boot': {'base': {'true_gene_cnt': 1265.5, 'species_cnt': 1262.6999999999998, 'true_gene_pct': 92.71062271062273, 'species_pct': 92.50549450549451}}}, '100gene-1000bp': {'GTF': {'base': {'true_gene_cnt': 1335.3000000000002, 'species_cnt': 1331.4000000000003, 'true_gene_pct': 97.82417582417582, 'species_pct': 97.53846153846153}}, 'GTF-boot': {'base': {'true_gene_cnt': 1324.3000000000002, 'species_cnt': 1323.1000000000001, 'true_gene_pct': 97.01831501831501, 'species_pct': 96.93040293040292}}, 'GTF-bucky-boot': {'base': {'true_gene_cnt': 1349.4, 'species_cnt': 1348.0, 'true_gene_pct': 98.85714285714286, 'species_pct': 98.75457875457876}}}, '1000gene-100bp': {'GTF': {'base': {'true_gene_cnt': 1292.2000000000003, 'species_cnt': 1292.2000000000003, 'true_gene_pct': 94.66666666666666, 'species_pct': 94.66666666666666}}, 'GTF-boot': {'base': {'true_gene_cnt': 1299.4, 'species_cnt': 1299.4, 'true_gene_pct': 95.1941391941392, 'species_pct': 95.1941391941392}}, 'GTF-bucky-boot': {'base': {'true_gene_cnt': 1312.8000000000002, 'species_cnt': 1312.8000000000002, 'true_gene_pct': 96.17582417582418, 'species_pct': 96.17582417582418}}}, '1000gene-1000bp': {'GTF': {'base': {'true_gene_cnt': 1359.3999999999999, 'species_cnt': 1359.3999999999999, 'true_gene_pct': 99.58974358974359, 'species_pct': 99.58974358974359}}, 'GTF-boot': {'base': {'true_gene_cnt': 266.5, 'species_cnt': 266.5, 'true_gene_pct': 19.523809523809526, 'species_pct': 19.523809523809526}}}}\n",
      "################ 1000gene-1000bp GTF-boot 3 ########################\n",
      "{'100gene-100bp': {'GTF': {'base': {'true_gene_cnt': 1212.8, 'species_cnt': 1209.9, 'true_gene_pct': 88.84981684981685, 'species_pct': 88.63736263736263}}, 'GTF-boot': {'base': {'true_gene_cnt': 1256.3, 'species_cnt': 1253.6, 'true_gene_pct': 92.03663003663004, 'species_pct': 91.83882783882784}}, 'GTF-bucky-boot': {'base': {'true_gene_cnt': 1265.5, 'species_cnt': 1262.6999999999998, 'true_gene_pct': 92.71062271062273, 'species_pct': 92.50549450549451}}}, '100gene-1000bp': {'GTF': {'base': {'true_gene_cnt': 1335.3000000000002, 'species_cnt': 1331.4000000000003, 'true_gene_pct': 97.82417582417582, 'species_pct': 97.53846153846153}}, 'GTF-boot': {'base': {'true_gene_cnt': 1324.3000000000002, 'species_cnt': 1323.1000000000001, 'true_gene_pct': 97.01831501831501, 'species_pct': 96.93040293040292}}, 'GTF-bucky-boot': {'base': {'true_gene_cnt': 1349.4, 'species_cnt': 1348.0, 'true_gene_pct': 98.85714285714286, 'species_pct': 98.75457875457876}}}, '1000gene-100bp': {'GTF': {'base': {'true_gene_cnt': 1292.2000000000003, 'species_cnt': 1292.2000000000003, 'true_gene_pct': 94.66666666666666, 'species_pct': 94.66666666666666}}, 'GTF-boot': {'base': {'true_gene_cnt': 1299.4, 'species_cnt': 1299.4, 'true_gene_pct': 95.1941391941392, 'species_pct': 95.1941391941392}}, 'GTF-bucky-boot': {'base': {'true_gene_cnt': 1312.8000000000002, 'species_cnt': 1312.8000000000002, 'true_gene_pct': 96.17582417582418, 'species_pct': 96.17582417582418}}}, '1000gene-1000bp': {'GTF': {'base': {'true_gene_cnt': 1359.3999999999999, 'species_cnt': 1359.3999999999999, 'true_gene_pct': 99.58974358974359, 'species_pct': 99.58974358974359}}, 'GTF-boot': {'base': {'true_gene_cnt': 399.3, 'species_cnt': 399.3, 'true_gene_pct': 29.252747252747255, 'species_pct': 29.252747252747255}}}}\n",
      "################ 1000gene-1000bp GTF-boot 4 ########################\n",
      "{'100gene-100bp': {'GTF': {'base': {'true_gene_cnt': 1212.8, 'species_cnt': 1209.9, 'true_gene_pct': 88.84981684981685, 'species_pct': 88.63736263736263}}, 'GTF-boot': {'base': {'true_gene_cnt': 1256.3, 'species_cnt': 1253.6, 'true_gene_pct': 92.03663003663004, 'species_pct': 91.83882783882784}}, 'GTF-bucky-boot': {'base': {'true_gene_cnt': 1265.5, 'species_cnt': 1262.6999999999998, 'true_gene_pct': 92.71062271062273, 'species_pct': 92.50549450549451}}}, '100gene-1000bp': {'GTF': {'base': {'true_gene_cnt': 1335.3000000000002, 'species_cnt': 1331.4000000000003, 'true_gene_pct': 97.82417582417582, 'species_pct': 97.53846153846153}}, 'GTF-boot': {'base': {'true_gene_cnt': 1324.3000000000002, 'species_cnt': 1323.1000000000001, 'true_gene_pct': 97.01831501831501, 'species_pct': 96.93040293040292}}, 'GTF-bucky-boot': {'base': {'true_gene_cnt': 1349.4, 'species_cnt': 1348.0, 'true_gene_pct': 98.85714285714286, 'species_pct': 98.75457875457876}}}, '1000gene-100bp': {'GTF': {'base': {'true_gene_cnt': 1292.2000000000003, 'species_cnt': 1292.2000000000003, 'true_gene_pct': 94.66666666666666, 'species_pct': 94.66666666666666}}, 'GTF-boot': {'base': {'true_gene_cnt': 1299.4, 'species_cnt': 1299.4, 'true_gene_pct': 95.1941391941392, 'species_pct': 95.1941391941392}}, 'GTF-bucky-boot': {'base': {'true_gene_cnt': 1312.8000000000002, 'species_cnt': 1312.8000000000002, 'true_gene_pct': 96.17582417582418, 'species_pct': 96.17582417582418}}}, '1000gene-1000bp': {'GTF': {'base': {'true_gene_cnt': 1359.3999999999999, 'species_cnt': 1359.3999999999999, 'true_gene_pct': 99.58974358974359, 'species_pct': 99.58974358974359}}, 'GTF-boot': {'base': {'true_gene_cnt': 533.8, 'species_cnt': 533.8, 'true_gene_pct': 39.10622710622711, 'species_pct': 39.10622710622711}}}}\n",
      "################ 1000gene-1000bp GTF-boot 5 ########################\n",
      "{'100gene-100bp': {'GTF': {'base': {'true_gene_cnt': 1212.8, 'species_cnt': 1209.9, 'true_gene_pct': 88.84981684981685, 'species_pct': 88.63736263736263}}, 'GTF-boot': {'base': {'true_gene_cnt': 1256.3, 'species_cnt': 1253.6, 'true_gene_pct': 92.03663003663004, 'species_pct': 91.83882783882784}}, 'GTF-bucky-boot': {'base': {'true_gene_cnt': 1265.5, 'species_cnt': 1262.6999999999998, 'true_gene_pct': 92.71062271062273, 'species_pct': 92.50549450549451}}}, '100gene-1000bp': {'GTF': {'base': {'true_gene_cnt': 1335.3000000000002, 'species_cnt': 1331.4000000000003, 'true_gene_pct': 97.82417582417582, 'species_pct': 97.53846153846153}}, 'GTF-boot': {'base': {'true_gene_cnt': 1324.3000000000002, 'species_cnt': 1323.1000000000001, 'true_gene_pct': 97.01831501831501, 'species_pct': 96.93040293040292}}, 'GTF-bucky-boot': {'base': {'true_gene_cnt': 1349.4, 'species_cnt': 1348.0, 'true_gene_pct': 98.85714285714286, 'species_pct': 98.75457875457876}}}, '1000gene-100bp': {'GTF': {'base': {'true_gene_cnt': 1292.2000000000003, 'species_cnt': 1292.2000000000003, 'true_gene_pct': 94.66666666666666, 'species_pct': 94.66666666666666}}, 'GTF-boot': {'base': {'true_gene_cnt': 1299.4, 'species_cnt': 1299.4, 'true_gene_pct': 95.1941391941392, 'species_pct': 95.1941391941392}}, 'GTF-bucky-boot': {'base': {'true_gene_cnt': 1312.8000000000002, 'species_cnt': 1312.8000000000002, 'true_gene_pct': 96.17582417582418, 'species_pct': 96.17582417582418}}}, '1000gene-1000bp': {'GTF': {'base': {'true_gene_cnt': 1359.3999999999999, 'species_cnt': 1359.3999999999999, 'true_gene_pct': 99.58974358974359, 'species_pct': 99.58974358974359}}, 'GTF-boot': {'base': {'true_gene_cnt': 667.6999999999999, 'species_cnt': 667.6999999999999, 'true_gene_pct': 48.91575091575092, 'species_pct': 48.91575091575092}}}}\n",
      "################ 1000gene-1000bp GTF-boot 6 ########################\n",
      "{'100gene-100bp': {'GTF': {'base': {'true_gene_cnt': 1212.8, 'species_cnt': 1209.9, 'true_gene_pct': 88.84981684981685, 'species_pct': 88.63736263736263}}, 'GTF-boot': {'base': {'true_gene_cnt': 1256.3, 'species_cnt': 1253.6, 'true_gene_pct': 92.03663003663004, 'species_pct': 91.83882783882784}}, 'GTF-bucky-boot': {'base': {'true_gene_cnt': 1265.5, 'species_cnt': 1262.6999999999998, 'true_gene_pct': 92.71062271062273, 'species_pct': 92.50549450549451}}}, '100gene-1000bp': {'GTF': {'base': {'true_gene_cnt': 1335.3000000000002, 'species_cnt': 1331.4000000000003, 'true_gene_pct': 97.82417582417582, 'species_pct': 97.53846153846153}}, 'GTF-boot': {'base': {'true_gene_cnt': 1324.3000000000002, 'species_cnt': 1323.1000000000001, 'true_gene_pct': 97.01831501831501, 'species_pct': 96.93040293040292}}, 'GTF-bucky-boot': {'base': {'true_gene_cnt': 1349.4, 'species_cnt': 1348.0, 'true_gene_pct': 98.85714285714286, 'species_pct': 98.75457875457876}}}, '1000gene-100bp': {'GTF': {'base': {'true_gene_cnt': 1292.2000000000003, 'species_cnt': 1292.2000000000003, 'true_gene_pct': 94.66666666666666, 'species_pct': 94.66666666666666}}, 'GTF-boot': {'base': {'true_gene_cnt': 1299.4, 'species_cnt': 1299.4, 'true_gene_pct': 95.1941391941392, 'species_pct': 95.1941391941392}}, 'GTF-bucky-boot': {'base': {'true_gene_cnt': 1312.8000000000002, 'species_cnt': 1312.8000000000002, 'true_gene_pct': 96.17582417582418, 'species_pct': 96.17582417582418}}}, '1000gene-1000bp': {'GTF': {'base': {'true_gene_cnt': 1359.3999999999999, 'species_cnt': 1359.3999999999999, 'true_gene_pct': 99.58974358974359, 'species_pct': 99.58974358974359}}, 'GTF-boot': {'base': {'true_gene_cnt': 802.3, 'species_cnt': 802.3, 'true_gene_pct': 58.77655677655678, 'species_pct': 58.77655677655678}}}}\n",
      "################ 1000gene-1000bp GTF-boot 7 ########################\n",
      "{'100gene-100bp': {'GTF': {'base': {'true_gene_cnt': 1212.8, 'species_cnt': 1209.9, 'true_gene_pct': 88.84981684981685, 'species_pct': 88.63736263736263}}, 'GTF-boot': {'base': {'true_gene_cnt': 1256.3, 'species_cnt': 1253.6, 'true_gene_pct': 92.03663003663004, 'species_pct': 91.83882783882784}}, 'GTF-bucky-boot': {'base': {'true_gene_cnt': 1265.5, 'species_cnt': 1262.6999999999998, 'true_gene_pct': 92.71062271062273, 'species_pct': 92.50549450549451}}}, '100gene-1000bp': {'GTF': {'base': {'true_gene_cnt': 1335.3000000000002, 'species_cnt': 1331.4000000000003, 'true_gene_pct': 97.82417582417582, 'species_pct': 97.53846153846153}}, 'GTF-boot': {'base': {'true_gene_cnt': 1324.3000000000002, 'species_cnt': 1323.1000000000001, 'true_gene_pct': 97.01831501831501, 'species_pct': 96.93040293040292}}, 'GTF-bucky-boot': {'base': {'true_gene_cnt': 1349.4, 'species_cnt': 1348.0, 'true_gene_pct': 98.85714285714286, 'species_pct': 98.75457875457876}}}, '1000gene-100bp': {'GTF': {'base': {'true_gene_cnt': 1292.2000000000003, 'species_cnt': 1292.2000000000003, 'true_gene_pct': 94.66666666666666, 'species_pct': 94.66666666666666}}, 'GTF-boot': {'base': {'true_gene_cnt': 1299.4, 'species_cnt': 1299.4, 'true_gene_pct': 95.1941391941392, 'species_pct': 95.1941391941392}}, 'GTF-bucky-boot': {'base': {'true_gene_cnt': 1312.8000000000002, 'species_cnt': 1312.8000000000002, 'true_gene_pct': 96.17582417582418, 'species_pct': 96.17582417582418}}}, '1000gene-1000bp': {'GTF': {'base': {'true_gene_cnt': 1359.3999999999999, 'species_cnt': 1359.3999999999999, 'true_gene_pct': 99.58974358974359, 'species_pct': 99.58974358974359}}, 'GTF-boot': {'base': {'true_gene_cnt': 936.0, 'species_cnt': 936.0, 'true_gene_pct': 68.57142857142858, 'species_pct': 68.57142857142858}}}}\n",
      "################ 1000gene-1000bp GTF-boot 8 ########################\n",
      "{'100gene-100bp': {'GTF': {'base': {'true_gene_cnt': 1212.8, 'species_cnt': 1209.9, 'true_gene_pct': 88.84981684981685, 'species_pct': 88.63736263736263}}, 'GTF-boot': {'base': {'true_gene_cnt': 1256.3, 'species_cnt': 1253.6, 'true_gene_pct': 92.03663003663004, 'species_pct': 91.83882783882784}}, 'GTF-bucky-boot': {'base': {'true_gene_cnt': 1265.5, 'species_cnt': 1262.6999999999998, 'true_gene_pct': 92.71062271062273, 'species_pct': 92.50549450549451}}}, '100gene-1000bp': {'GTF': {'base': {'true_gene_cnt': 1335.3000000000002, 'species_cnt': 1331.4000000000003, 'true_gene_pct': 97.82417582417582, 'species_pct': 97.53846153846153}}, 'GTF-boot': {'base': {'true_gene_cnt': 1324.3000000000002, 'species_cnt': 1323.1000000000001, 'true_gene_pct': 97.01831501831501, 'species_pct': 96.93040293040292}}, 'GTF-bucky-boot': {'base': {'true_gene_cnt': 1349.4, 'species_cnt': 1348.0, 'true_gene_pct': 98.85714285714286, 'species_pct': 98.75457875457876}}}, '1000gene-100bp': {'GTF': {'base': {'true_gene_cnt': 1292.2000000000003, 'species_cnt': 1292.2000000000003, 'true_gene_pct': 94.66666666666666, 'species_pct': 94.66666666666666}}, 'GTF-boot': {'base': {'true_gene_cnt': 1299.4, 'species_cnt': 1299.4, 'true_gene_pct': 95.1941391941392, 'species_pct': 95.1941391941392}}, 'GTF-bucky-boot': {'base': {'true_gene_cnt': 1312.8000000000002, 'species_cnt': 1312.8000000000002, 'true_gene_pct': 96.17582417582418, 'species_pct': 96.17582417582418}}}, '1000gene-1000bp': {'GTF': {'base': {'true_gene_cnt': 1359.3999999999999, 'species_cnt': 1359.3999999999999, 'true_gene_pct': 99.58974358974359, 'species_pct': 99.58974358974359}}, 'GTF-boot': {'base': {'true_gene_cnt': 1070.5, 'species_cnt': 1070.5, 'true_gene_pct': 78.42490842490844, 'species_pct': 78.42490842490844}}}}\n",
      "################ 1000gene-1000bp GTF-boot 9 ########################\n",
      "{'100gene-100bp': {'GTF': {'base': {'true_gene_cnt': 1212.8, 'species_cnt': 1209.9, 'true_gene_pct': 88.84981684981685, 'species_pct': 88.63736263736263}}, 'GTF-boot': {'base': {'true_gene_cnt': 1256.3, 'species_cnt': 1253.6, 'true_gene_pct': 92.03663003663004, 'species_pct': 91.83882783882784}}, 'GTF-bucky-boot': {'base': {'true_gene_cnt': 1265.5, 'species_cnt': 1262.6999999999998, 'true_gene_pct': 92.71062271062273, 'species_pct': 92.50549450549451}}}, '100gene-1000bp': {'GTF': {'base': {'true_gene_cnt': 1335.3000000000002, 'species_cnt': 1331.4000000000003, 'true_gene_pct': 97.82417582417582, 'species_pct': 97.53846153846153}}, 'GTF-boot': {'base': {'true_gene_cnt': 1324.3000000000002, 'species_cnt': 1323.1000000000001, 'true_gene_pct': 97.01831501831501, 'species_pct': 96.93040293040292}}, 'GTF-bucky-boot': {'base': {'true_gene_cnt': 1349.4, 'species_cnt': 1348.0, 'true_gene_pct': 98.85714285714286, 'species_pct': 98.75457875457876}}}, '1000gene-100bp': {'GTF': {'base': {'true_gene_cnt': 1292.2000000000003, 'species_cnt': 1292.2000000000003, 'true_gene_pct': 94.66666666666666, 'species_pct': 94.66666666666666}}, 'GTF-boot': {'base': {'true_gene_cnt': 1299.4, 'species_cnt': 1299.4, 'true_gene_pct': 95.1941391941392, 'species_pct': 95.1941391941392}}, 'GTF-bucky-boot': {'base': {'true_gene_cnt': 1312.8000000000002, 'species_cnt': 1312.8000000000002, 'true_gene_pct': 96.17582417582418, 'species_pct': 96.17582417582418}}}, '1000gene-1000bp': {'GTF': {'base': {'true_gene_cnt': 1359.3999999999999, 'species_cnt': 1359.3999999999999, 'true_gene_pct': 99.58974358974359, 'species_pct': 99.58974358974359}}, 'GTF-boot': {'base': {'true_gene_cnt': 1204.9, 'species_cnt': 1204.9, 'true_gene_pct': 88.27106227106228, 'species_pct': 88.27106227106228}}}}\n",
      "################ 1000gene-1000bp GTF-boot 10 ########################\n",
      "{'100gene-100bp': {'GTF': {'base': {'true_gene_cnt': 1212.8, 'species_cnt': 1209.9, 'true_gene_pct': 88.84981684981685, 'species_pct': 88.63736263736263}}, 'GTF-boot': {'base': {'true_gene_cnt': 1256.3, 'species_cnt': 1253.6, 'true_gene_pct': 92.03663003663004, 'species_pct': 91.83882783882784}}, 'GTF-bucky-boot': {'base': {'true_gene_cnt': 1265.5, 'species_cnt': 1262.6999999999998, 'true_gene_pct': 92.71062271062273, 'species_pct': 92.50549450549451}}}, '100gene-1000bp': {'GTF': {'base': {'true_gene_cnt': 1335.3000000000002, 'species_cnt': 1331.4000000000003, 'true_gene_pct': 97.82417582417582, 'species_pct': 97.53846153846153}}, 'GTF-boot': {'base': {'true_gene_cnt': 1324.3000000000002, 'species_cnt': 1323.1000000000001, 'true_gene_pct': 97.01831501831501, 'species_pct': 96.93040293040292}}, 'GTF-bucky-boot': {'base': {'true_gene_cnt': 1349.4, 'species_cnt': 1348.0, 'true_gene_pct': 98.85714285714286, 'species_pct': 98.75457875457876}}}, '1000gene-100bp': {'GTF': {'base': {'true_gene_cnt': 1292.2000000000003, 'species_cnt': 1292.2000000000003, 'true_gene_pct': 94.66666666666666, 'species_pct': 94.66666666666666}}, 'GTF-boot': {'base': {'true_gene_cnt': 1299.4, 'species_cnt': 1299.4, 'true_gene_pct': 95.1941391941392, 'species_pct': 95.1941391941392}}, 'GTF-bucky-boot': {'base': {'true_gene_cnt': 1312.8000000000002, 'species_cnt': 1312.8000000000002, 'true_gene_pct': 96.17582417582418, 'species_pct': 96.17582417582418}}}, '1000gene-1000bp': {'GTF': {'base': {'true_gene_cnt': 1359.3999999999999, 'species_cnt': 1359.3999999999999, 'true_gene_pct': 99.58974358974359, 'species_pct': 99.58974358974359}}, 'GTF-boot': {'base': {'true_gene_cnt': 1339.1000000000001, 'species_cnt': 1339.1000000000001, 'true_gene_pct': 98.10256410256412, 'species_pct': 98.10256410256412}}}}\n",
      "################ 1000gene-1000bp GTF-bucky-boot 1 ########################\n",
      "{'100gene-100bp': {'GTF': {'base': {'true_gene_cnt': 1212.8, 'species_cnt': 1209.9, 'true_gene_pct': 88.84981684981685, 'species_pct': 88.63736263736263}}, 'GTF-boot': {'base': {'true_gene_cnt': 1256.3, 'species_cnt': 1253.6, 'true_gene_pct': 92.03663003663004, 'species_pct': 91.83882783882784}}, 'GTF-bucky-boot': {'base': {'true_gene_cnt': 1265.5, 'species_cnt': 1262.6999999999998, 'true_gene_pct': 92.71062271062273, 'species_pct': 92.50549450549451}}}, '100gene-1000bp': {'GTF': {'base': {'true_gene_cnt': 1335.3000000000002, 'species_cnt': 1331.4000000000003, 'true_gene_pct': 97.82417582417582, 'species_pct': 97.53846153846153}}, 'GTF-boot': {'base': {'true_gene_cnt': 1324.3000000000002, 'species_cnt': 1323.1000000000001, 'true_gene_pct': 97.01831501831501, 'species_pct': 96.93040293040292}}, 'GTF-bucky-boot': {'base': {'true_gene_cnt': 1349.4, 'species_cnt': 1348.0, 'true_gene_pct': 98.85714285714286, 'species_pct': 98.75457875457876}}}, '1000gene-100bp': {'GTF': {'base': {'true_gene_cnt': 1292.2000000000003, 'species_cnt': 1292.2000000000003, 'true_gene_pct': 94.66666666666666, 'species_pct': 94.66666666666666}}, 'GTF-boot': {'base': {'true_gene_cnt': 1299.4, 'species_cnt': 1299.4, 'true_gene_pct': 95.1941391941392, 'species_pct': 95.1941391941392}}, 'GTF-bucky-boot': {'base': {'true_gene_cnt': 1312.8000000000002, 'species_cnt': 1312.8000000000002, 'true_gene_pct': 96.17582417582418, 'species_pct': 96.17582417582418}}}, '1000gene-1000bp': {'GTF': {'base': {'true_gene_cnt': 1359.3999999999999, 'species_cnt': 1359.3999999999999, 'true_gene_pct': 99.58974358974359, 'species_pct': 99.58974358974359}}, 'GTF-boot': {'base': {'true_gene_cnt': 1339.1000000000001, 'species_cnt': 1339.1000000000001, 'true_gene_pct': 98.10256410256412, 'species_pct': 98.10256410256412}}, 'GTF-bucky-boot': {'base': {'true_gene_cnt': 136.5, 'species_cnt': 136.5, 'true_gene_pct': 10.0, 'species_pct': 10.0}}}}\n",
      "################ 1000gene-1000bp GTF-bucky-boot 2 ########################\n",
      "{'100gene-100bp': {'GTF': {'base': {'true_gene_cnt': 1212.8, 'species_cnt': 1209.9, 'true_gene_pct': 88.84981684981685, 'species_pct': 88.63736263736263}}, 'GTF-boot': {'base': {'true_gene_cnt': 1256.3, 'species_cnt': 1253.6, 'true_gene_pct': 92.03663003663004, 'species_pct': 91.83882783882784}}, 'GTF-bucky-boot': {'base': {'true_gene_cnt': 1265.5, 'species_cnt': 1262.6999999999998, 'true_gene_pct': 92.71062271062273, 'species_pct': 92.50549450549451}}}, '100gene-1000bp': {'GTF': {'base': {'true_gene_cnt': 1335.3000000000002, 'species_cnt': 1331.4000000000003, 'true_gene_pct': 97.82417582417582, 'species_pct': 97.53846153846153}}, 'GTF-boot': {'base': {'true_gene_cnt': 1324.3000000000002, 'species_cnt': 1323.1000000000001, 'true_gene_pct': 97.01831501831501, 'species_pct': 96.93040293040292}}, 'GTF-bucky-boot': {'base': {'true_gene_cnt': 1349.4, 'species_cnt': 1348.0, 'true_gene_pct': 98.85714285714286, 'species_pct': 98.75457875457876}}}, '1000gene-100bp': {'GTF': {'base': {'true_gene_cnt': 1292.2000000000003, 'species_cnt': 1292.2000000000003, 'true_gene_pct': 94.66666666666666, 'species_pct': 94.66666666666666}}, 'GTF-boot': {'base': {'true_gene_cnt': 1299.4, 'species_cnt': 1299.4, 'true_gene_pct': 95.1941391941392, 'species_pct': 95.1941391941392}}, 'GTF-bucky-boot': {'base': {'true_gene_cnt': 1312.8000000000002, 'species_cnt': 1312.8000000000002, 'true_gene_pct': 96.17582417582418, 'species_pct': 96.17582417582418}}}, '1000gene-1000bp': {'GTF': {'base': {'true_gene_cnt': 1359.3999999999999, 'species_cnt': 1359.3999999999999, 'true_gene_pct': 99.58974358974359, 'species_pct': 99.58974358974359}}, 'GTF-boot': {'base': {'true_gene_cnt': 1339.1000000000001, 'species_cnt': 1339.1000000000001, 'true_gene_pct': 98.10256410256412, 'species_pct': 98.10256410256412}}, 'GTF-bucky-boot': {'base': {'true_gene_cnt': 273.0, 'species_cnt': 273.0, 'true_gene_pct': 20.0, 'species_pct': 20.0}}}}\n",
      "################ 1000gene-1000bp GTF-bucky-boot 3 ########################\n",
      "{'100gene-100bp': {'GTF': {'base': {'true_gene_cnt': 1212.8, 'species_cnt': 1209.9, 'true_gene_pct': 88.84981684981685, 'species_pct': 88.63736263736263}}, 'GTF-boot': {'base': {'true_gene_cnt': 1256.3, 'species_cnt': 1253.6, 'true_gene_pct': 92.03663003663004, 'species_pct': 91.83882783882784}}, 'GTF-bucky-boot': {'base': {'true_gene_cnt': 1265.5, 'species_cnt': 1262.6999999999998, 'true_gene_pct': 92.71062271062273, 'species_pct': 92.50549450549451}}}, '100gene-1000bp': {'GTF': {'base': {'true_gene_cnt': 1335.3000000000002, 'species_cnt': 1331.4000000000003, 'true_gene_pct': 97.82417582417582, 'species_pct': 97.53846153846153}}, 'GTF-boot': {'base': {'true_gene_cnt': 1324.3000000000002, 'species_cnt': 1323.1000000000001, 'true_gene_pct': 97.01831501831501, 'species_pct': 96.93040293040292}}, 'GTF-bucky-boot': {'base': {'true_gene_cnt': 1349.4, 'species_cnt': 1348.0, 'true_gene_pct': 98.85714285714286, 'species_pct': 98.75457875457876}}}, '1000gene-100bp': {'GTF': {'base': {'true_gene_cnt': 1292.2000000000003, 'species_cnt': 1292.2000000000003, 'true_gene_pct': 94.66666666666666, 'species_pct': 94.66666666666666}}, 'GTF-boot': {'base': {'true_gene_cnt': 1299.4, 'species_cnt': 1299.4, 'true_gene_pct': 95.1941391941392, 'species_pct': 95.1941391941392}}, 'GTF-bucky-boot': {'base': {'true_gene_cnt': 1312.8000000000002, 'species_cnt': 1312.8000000000002, 'true_gene_pct': 96.17582417582418, 'species_pct': 96.17582417582418}}}, '1000gene-1000bp': {'GTF': {'base': {'true_gene_cnt': 1359.3999999999999, 'species_cnt': 1359.3999999999999, 'true_gene_pct': 99.58974358974359, 'species_pct': 99.58974358974359}}, 'GTF-boot': {'base': {'true_gene_cnt': 1339.1000000000001, 'species_cnt': 1339.1000000000001, 'true_gene_pct': 98.10256410256412, 'species_pct': 98.10256410256412}}, 'GTF-bucky-boot': {'base': {'true_gene_cnt': 409.5, 'species_cnt': 409.5, 'true_gene_pct': 30.0, 'species_pct': 30.0}}}}\n",
      "################ 1000gene-1000bp GTF-bucky-boot 4 ########################\n",
      "{'100gene-100bp': {'GTF': {'base': {'true_gene_cnt': 1212.8, 'species_cnt': 1209.9, 'true_gene_pct': 88.84981684981685, 'species_pct': 88.63736263736263}}, 'GTF-boot': {'base': {'true_gene_cnt': 1256.3, 'species_cnt': 1253.6, 'true_gene_pct': 92.03663003663004, 'species_pct': 91.83882783882784}}, 'GTF-bucky-boot': {'base': {'true_gene_cnt': 1265.5, 'species_cnt': 1262.6999999999998, 'true_gene_pct': 92.71062271062273, 'species_pct': 92.50549450549451}}}, '100gene-1000bp': {'GTF': {'base': {'true_gene_cnt': 1335.3000000000002, 'species_cnt': 1331.4000000000003, 'true_gene_pct': 97.82417582417582, 'species_pct': 97.53846153846153}}, 'GTF-boot': {'base': {'true_gene_cnt': 1324.3000000000002, 'species_cnt': 1323.1000000000001, 'true_gene_pct': 97.01831501831501, 'species_pct': 96.93040293040292}}, 'GTF-bucky-boot': {'base': {'true_gene_cnt': 1349.4, 'species_cnt': 1348.0, 'true_gene_pct': 98.85714285714286, 'species_pct': 98.75457875457876}}}, '1000gene-100bp': {'GTF': {'base': {'true_gene_cnt': 1292.2000000000003, 'species_cnt': 1292.2000000000003, 'true_gene_pct': 94.66666666666666, 'species_pct': 94.66666666666666}}, 'GTF-boot': {'base': {'true_gene_cnt': 1299.4, 'species_cnt': 1299.4, 'true_gene_pct': 95.1941391941392, 'species_pct': 95.1941391941392}}, 'GTF-bucky-boot': {'base': {'true_gene_cnt': 1312.8000000000002, 'species_cnt': 1312.8000000000002, 'true_gene_pct': 96.17582417582418, 'species_pct': 96.17582417582418}}}, '1000gene-1000bp': {'GTF': {'base': {'true_gene_cnt': 1359.3999999999999, 'species_cnt': 1359.3999999999999, 'true_gene_pct': 99.58974358974359, 'species_pct': 99.58974358974359}}, 'GTF-boot': {'base': {'true_gene_cnt': 1339.1000000000001, 'species_cnt': 1339.1000000000001, 'true_gene_pct': 98.10256410256412, 'species_pct': 98.10256410256412}}, 'GTF-bucky-boot': {'base': {'true_gene_cnt': 545.3, 'species_cnt': 545.3, 'true_gene_pct': 39.94871794871795, 'species_pct': 39.94871794871795}}}}\n",
      "################ 1000gene-1000bp GTF-bucky-boot 5 ########################\n"
     ]
    },
    {
     "name": "stdout",
     "output_type": "stream",
     "text": [
      "{'100gene-100bp': {'GTF': {'base': {'true_gene_cnt': 1212.8, 'species_cnt': 1209.9, 'true_gene_pct': 88.84981684981685, 'species_pct': 88.63736263736263}}, 'GTF-boot': {'base': {'true_gene_cnt': 1256.3, 'species_cnt': 1253.6, 'true_gene_pct': 92.03663003663004, 'species_pct': 91.83882783882784}}, 'GTF-bucky-boot': {'base': {'true_gene_cnt': 1265.5, 'species_cnt': 1262.6999999999998, 'true_gene_pct': 92.71062271062273, 'species_pct': 92.50549450549451}}}, '100gene-1000bp': {'GTF': {'base': {'true_gene_cnt': 1335.3000000000002, 'species_cnt': 1331.4000000000003, 'true_gene_pct': 97.82417582417582, 'species_pct': 97.53846153846153}}, 'GTF-boot': {'base': {'true_gene_cnt': 1324.3000000000002, 'species_cnt': 1323.1000000000001, 'true_gene_pct': 97.01831501831501, 'species_pct': 96.93040293040292}}, 'GTF-bucky-boot': {'base': {'true_gene_cnt': 1349.4, 'species_cnt': 1348.0, 'true_gene_pct': 98.85714285714286, 'species_pct': 98.75457875457876}}}, '1000gene-100bp': {'GTF': {'base': {'true_gene_cnt': 1292.2000000000003, 'species_cnt': 1292.2000000000003, 'true_gene_pct': 94.66666666666666, 'species_pct': 94.66666666666666}}, 'GTF-boot': {'base': {'true_gene_cnt': 1299.4, 'species_cnt': 1299.4, 'true_gene_pct': 95.1941391941392, 'species_pct': 95.1941391941392}}, 'GTF-bucky-boot': {'base': {'true_gene_cnt': 1312.8000000000002, 'species_cnt': 1312.8000000000002, 'true_gene_pct': 96.17582417582418, 'species_pct': 96.17582417582418}}}, '1000gene-1000bp': {'GTF': {'base': {'true_gene_cnt': 1359.3999999999999, 'species_cnt': 1359.3999999999999, 'true_gene_pct': 99.58974358974359, 'species_pct': 99.58974358974359}}, 'GTF-boot': {'base': {'true_gene_cnt': 1339.1000000000001, 'species_cnt': 1339.1000000000001, 'true_gene_pct': 98.10256410256412, 'species_pct': 98.10256410256412}}, 'GTF-bucky-boot': {'base': {'true_gene_cnt': 681.8, 'species_cnt': 681.8, 'true_gene_pct': 49.94871794871795, 'species_pct': 49.94871794871795}}}}\n",
      "################ 1000gene-1000bp GTF-bucky-boot 6 ########################\n",
      "{'100gene-100bp': {'GTF': {'base': {'true_gene_cnt': 1212.8, 'species_cnt': 1209.9, 'true_gene_pct': 88.84981684981685, 'species_pct': 88.63736263736263}}, 'GTF-boot': {'base': {'true_gene_cnt': 1256.3, 'species_cnt': 1253.6, 'true_gene_pct': 92.03663003663004, 'species_pct': 91.83882783882784}}, 'GTF-bucky-boot': {'base': {'true_gene_cnt': 1265.5, 'species_cnt': 1262.6999999999998, 'true_gene_pct': 92.71062271062273, 'species_pct': 92.50549450549451}}}, '100gene-1000bp': {'GTF': {'base': {'true_gene_cnt': 1335.3000000000002, 'species_cnt': 1331.4000000000003, 'true_gene_pct': 97.82417582417582, 'species_pct': 97.53846153846153}}, 'GTF-boot': {'base': {'true_gene_cnt': 1324.3000000000002, 'species_cnt': 1323.1000000000001, 'true_gene_pct': 97.01831501831501, 'species_pct': 96.93040293040292}}, 'GTF-bucky-boot': {'base': {'true_gene_cnt': 1349.4, 'species_cnt': 1348.0, 'true_gene_pct': 98.85714285714286, 'species_pct': 98.75457875457876}}}, '1000gene-100bp': {'GTF': {'base': {'true_gene_cnt': 1292.2000000000003, 'species_cnt': 1292.2000000000003, 'true_gene_pct': 94.66666666666666, 'species_pct': 94.66666666666666}}, 'GTF-boot': {'base': {'true_gene_cnt': 1299.4, 'species_cnt': 1299.4, 'true_gene_pct': 95.1941391941392, 'species_pct': 95.1941391941392}}, 'GTF-bucky-boot': {'base': {'true_gene_cnt': 1312.8000000000002, 'species_cnt': 1312.8000000000002, 'true_gene_pct': 96.17582417582418, 'species_pct': 96.17582417582418}}}, '1000gene-1000bp': {'GTF': {'base': {'true_gene_cnt': 1359.3999999999999, 'species_cnt': 1359.3999999999999, 'true_gene_pct': 99.58974358974359, 'species_pct': 99.58974358974359}}, 'GTF-boot': {'base': {'true_gene_cnt': 1339.1000000000001, 'species_cnt': 1339.1000000000001, 'true_gene_pct': 98.10256410256412, 'species_pct': 98.10256410256412}}, 'GTF-bucky-boot': {'base': {'true_gene_cnt': 818.3, 'species_cnt': 818.3, 'true_gene_pct': 59.94871794871795, 'species_pct': 59.94871794871795}}}}\n",
      "################ 1000gene-1000bp GTF-bucky-boot 7 ########################\n",
      "{'100gene-100bp': {'GTF': {'base': {'true_gene_cnt': 1212.8, 'species_cnt': 1209.9, 'true_gene_pct': 88.84981684981685, 'species_pct': 88.63736263736263}}, 'GTF-boot': {'base': {'true_gene_cnt': 1256.3, 'species_cnt': 1253.6, 'true_gene_pct': 92.03663003663004, 'species_pct': 91.83882783882784}}, 'GTF-bucky-boot': {'base': {'true_gene_cnt': 1265.5, 'species_cnt': 1262.6999999999998, 'true_gene_pct': 92.71062271062273, 'species_pct': 92.50549450549451}}}, '100gene-1000bp': {'GTF': {'base': {'true_gene_cnt': 1335.3000000000002, 'species_cnt': 1331.4000000000003, 'true_gene_pct': 97.82417582417582, 'species_pct': 97.53846153846153}}, 'GTF-boot': {'base': {'true_gene_cnt': 1324.3000000000002, 'species_cnt': 1323.1000000000001, 'true_gene_pct': 97.01831501831501, 'species_pct': 96.93040293040292}}, 'GTF-bucky-boot': {'base': {'true_gene_cnt': 1349.4, 'species_cnt': 1348.0, 'true_gene_pct': 98.85714285714286, 'species_pct': 98.75457875457876}}}, '1000gene-100bp': {'GTF': {'base': {'true_gene_cnt': 1292.2000000000003, 'species_cnt': 1292.2000000000003, 'true_gene_pct': 94.66666666666666, 'species_pct': 94.66666666666666}}, 'GTF-boot': {'base': {'true_gene_cnt': 1299.4, 'species_cnt': 1299.4, 'true_gene_pct': 95.1941391941392, 'species_pct': 95.1941391941392}}, 'GTF-bucky-boot': {'base': {'true_gene_cnt': 1312.8000000000002, 'species_cnt': 1312.8000000000002, 'true_gene_pct': 96.17582417582418, 'species_pct': 96.17582417582418}}}, '1000gene-1000bp': {'GTF': {'base': {'true_gene_cnt': 1359.3999999999999, 'species_cnt': 1359.3999999999999, 'true_gene_pct': 99.58974358974359, 'species_pct': 99.58974358974359}}, 'GTF-boot': {'base': {'true_gene_cnt': 1339.1000000000001, 'species_cnt': 1339.1000000000001, 'true_gene_pct': 98.10256410256412, 'species_pct': 98.10256410256412}}, 'GTF-bucky-boot': {'base': {'true_gene_cnt': 954.8, 'species_cnt': 954.8, 'true_gene_pct': 69.94871794871796, 'species_pct': 69.94871794871796}}}}\n",
      "################ 1000gene-1000bp GTF-bucky-boot 8 ########################\n",
      "{'100gene-100bp': {'GTF': {'base': {'true_gene_cnt': 1212.8, 'species_cnt': 1209.9, 'true_gene_pct': 88.84981684981685, 'species_pct': 88.63736263736263}}, 'GTF-boot': {'base': {'true_gene_cnt': 1256.3, 'species_cnt': 1253.6, 'true_gene_pct': 92.03663003663004, 'species_pct': 91.83882783882784}}, 'GTF-bucky-boot': {'base': {'true_gene_cnt': 1265.5, 'species_cnt': 1262.6999999999998, 'true_gene_pct': 92.71062271062273, 'species_pct': 92.50549450549451}}}, '100gene-1000bp': {'GTF': {'base': {'true_gene_cnt': 1335.3000000000002, 'species_cnt': 1331.4000000000003, 'true_gene_pct': 97.82417582417582, 'species_pct': 97.53846153846153}}, 'GTF-boot': {'base': {'true_gene_cnt': 1324.3000000000002, 'species_cnt': 1323.1000000000001, 'true_gene_pct': 97.01831501831501, 'species_pct': 96.93040293040292}}, 'GTF-bucky-boot': {'base': {'true_gene_cnt': 1349.4, 'species_cnt': 1348.0, 'true_gene_pct': 98.85714285714286, 'species_pct': 98.75457875457876}}}, '1000gene-100bp': {'GTF': {'base': {'true_gene_cnt': 1292.2000000000003, 'species_cnt': 1292.2000000000003, 'true_gene_pct': 94.66666666666666, 'species_pct': 94.66666666666666}}, 'GTF-boot': {'base': {'true_gene_cnt': 1299.4, 'species_cnt': 1299.4, 'true_gene_pct': 95.1941391941392, 'species_pct': 95.1941391941392}}, 'GTF-bucky-boot': {'base': {'true_gene_cnt': 1312.8000000000002, 'species_cnt': 1312.8000000000002, 'true_gene_pct': 96.17582417582418, 'species_pct': 96.17582417582418}}}, '1000gene-1000bp': {'GTF': {'base': {'true_gene_cnt': 1359.3999999999999, 'species_cnt': 1359.3999999999999, 'true_gene_pct': 99.58974358974359, 'species_pct': 99.58974358974359}}, 'GTF-boot': {'base': {'true_gene_cnt': 1339.1000000000001, 'species_cnt': 1339.1000000000001, 'true_gene_pct': 98.10256410256412, 'species_pct': 98.10256410256412}}, 'GTF-bucky-boot': {'base': {'true_gene_cnt': 1091.3, 'species_cnt': 1091.3, 'true_gene_pct': 79.94871794871796, 'species_pct': 79.94871794871796}}}}\n",
      "################ 1000gene-1000bp GTF-bucky-boot 9 ########################\n",
      "{'100gene-100bp': {'GTF': {'base': {'true_gene_cnt': 1212.8, 'species_cnt': 1209.9, 'true_gene_pct': 88.84981684981685, 'species_pct': 88.63736263736263}}, 'GTF-boot': {'base': {'true_gene_cnt': 1256.3, 'species_cnt': 1253.6, 'true_gene_pct': 92.03663003663004, 'species_pct': 91.83882783882784}}, 'GTF-bucky-boot': {'base': {'true_gene_cnt': 1265.5, 'species_cnt': 1262.6999999999998, 'true_gene_pct': 92.71062271062273, 'species_pct': 92.50549450549451}}}, '100gene-1000bp': {'GTF': {'base': {'true_gene_cnt': 1335.3000000000002, 'species_cnt': 1331.4000000000003, 'true_gene_pct': 97.82417582417582, 'species_pct': 97.53846153846153}}, 'GTF-boot': {'base': {'true_gene_cnt': 1324.3000000000002, 'species_cnt': 1323.1000000000001, 'true_gene_pct': 97.01831501831501, 'species_pct': 96.93040293040292}}, 'GTF-bucky-boot': {'base': {'true_gene_cnt': 1349.4, 'species_cnt': 1348.0, 'true_gene_pct': 98.85714285714286, 'species_pct': 98.75457875457876}}}, '1000gene-100bp': {'GTF': {'base': {'true_gene_cnt': 1292.2000000000003, 'species_cnt': 1292.2000000000003, 'true_gene_pct': 94.66666666666666, 'species_pct': 94.66666666666666}}, 'GTF-boot': {'base': {'true_gene_cnt': 1299.4, 'species_cnt': 1299.4, 'true_gene_pct': 95.1941391941392, 'species_pct': 95.1941391941392}}, 'GTF-bucky-boot': {'base': {'true_gene_cnt': 1312.8000000000002, 'species_cnt': 1312.8000000000002, 'true_gene_pct': 96.17582417582418, 'species_pct': 96.17582417582418}}}, '1000gene-1000bp': {'GTF': {'base': {'true_gene_cnt': 1359.3999999999999, 'species_cnt': 1359.3999999999999, 'true_gene_pct': 99.58974358974359, 'species_pct': 99.58974358974359}}, 'GTF-boot': {'base': {'true_gene_cnt': 1339.1000000000001, 'species_cnt': 1339.1000000000001, 'true_gene_pct': 98.10256410256412, 'species_pct': 98.10256410256412}}, 'GTF-bucky-boot': {'base': {'true_gene_cnt': 1227.8, 'species_cnt': 1227.8, 'true_gene_pct': 89.94871794871796, 'species_pct': 89.94871794871796}}}}\n",
      "################ 1000gene-1000bp GTF-bucky-boot 10 ########################\n",
      "{'100gene-100bp': {'GTF': {'base': {'true_gene_cnt': 1212.8, 'species_cnt': 1209.9, 'true_gene_pct': 88.84981684981685, 'species_pct': 88.63736263736263}}, 'GTF-boot': {'base': {'true_gene_cnt': 1256.3, 'species_cnt': 1253.6, 'true_gene_pct': 92.03663003663004, 'species_pct': 91.83882783882784}}, 'GTF-bucky-boot': {'base': {'true_gene_cnt': 1265.5, 'species_cnt': 1262.6999999999998, 'true_gene_pct': 92.71062271062273, 'species_pct': 92.50549450549451}}}, '100gene-1000bp': {'GTF': {'base': {'true_gene_cnt': 1335.3000000000002, 'species_cnt': 1331.4000000000003, 'true_gene_pct': 97.82417582417582, 'species_pct': 97.53846153846153}}, 'GTF-boot': {'base': {'true_gene_cnt': 1324.3000000000002, 'species_cnt': 1323.1000000000001, 'true_gene_pct': 97.01831501831501, 'species_pct': 96.93040293040292}}, 'GTF-bucky-boot': {'base': {'true_gene_cnt': 1349.4, 'species_cnt': 1348.0, 'true_gene_pct': 98.85714285714286, 'species_pct': 98.75457875457876}}}, '1000gene-100bp': {'GTF': {'base': {'true_gene_cnt': 1292.2000000000003, 'species_cnt': 1292.2000000000003, 'true_gene_pct': 94.66666666666666, 'species_pct': 94.66666666666666}}, 'GTF-boot': {'base': {'true_gene_cnt': 1299.4, 'species_cnt': 1299.4, 'true_gene_pct': 95.1941391941392, 'species_pct': 95.1941391941392}}, 'GTF-bucky-boot': {'base': {'true_gene_cnt': 1312.8000000000002, 'species_cnt': 1312.8000000000002, 'true_gene_pct': 96.17582417582418, 'species_pct': 96.17582417582418}}}, '1000gene-1000bp': {'GTF': {'base': {'true_gene_cnt': 1359.3999999999999, 'species_cnt': 1359.3999999999999, 'true_gene_pct': 99.58974358974359, 'species_pct': 99.58974358974359}}, 'GTF-boot': {'base': {'true_gene_cnt': 1339.1000000000001, 'species_cnt': 1339.1000000000001, 'true_gene_pct': 98.10256410256412, 'species_pct': 98.10256410256412}}, 'GTF-bucky-boot': {'base': {'true_gene_cnt': 1364.3, 'species_cnt': 1364.3, 'true_gene_pct': 99.94871794871796, 'species_pct': 99.94871794871796}}}}\n"
     ]
    }
   ],
   "source": [
    "results = {}\n",
    "for configuration in configs:\n",
    "    results[configuration] = {}\n",
    "    tmp = configuration.split(\"gene\")\n",
    "    true_config = tmp[0]\n",
    "    \n",
    "    for input_wqrt in input_wqrts:\n",
    "        results[configuration][input_wqrt] = {}\n",
    "        \n",
    "        GENES = int(true_config)\n",
    "        for replicate_num in range(1, REPLICATES+1):\n",
    "            print(f\"################ {configuration} {input_wqrt} {replicate_num} ########################\")\n",
    "            true_qfile = f\"{base_folder}/15-taxon/Output/true_gt/{true_config}/R{replicate_num}-GTF-true.dqrts\"\n",
    "            if not os.path.exists(true_qfile):\n",
    "                print(\"$$$$$$$$$$$$$$ Error: tqrts not found $$$$$$$$$$$$$$$\")\n",
    "                continue\n",
    "                \n",
    "            tq = get_quartet_set(true_qfile)\n",
    "            \n",
    "            original_qfile = f\"{base_folder}/15-taxon/Output/{configuration}/R{replicate_num}-{input_wqrt}.dqrts\"\n",
    "            \n",
    "            if not os.path.exists(original_qfile):\n",
    "                print(\"$$$$$$$$$$$$$$ Error: eqrts not found $$$$$$$$$$$$$$$\")\n",
    "                continue\n",
    "                    \n",
    "            oq = get_quartet_set(original_qfile)\n",
    "            \n",
    "            if \"base\" not in results[configuration][input_wqrt]:\n",
    "                results[configuration][input_wqrt][\"base\"] = {}\n",
    "                results[configuration][input_wqrt][\"base\"][\"true_gene_cnt\"] = 0\n",
    "                results[configuration][input_wqrt][\"base\"][\"species_cnt\"] = 0\n",
    "                results[configuration][input_wqrt][\"base\"][\"true_gene_pct\"] = 0\n",
    "                results[configuration][input_wqrt][\"base\"][\"species_pct\"] = 0\n",
    "            \n",
    "            results[configuration][input_wqrt][\"base\"][\"true_gene_cnt\"] += len(oq.intersection(tq)) / REPLICATES\n",
    "            results[configuration][input_wqrt][\"base\"][\"species_cnt\"] += len(oq.intersection(sq)) / REPLICATES\n",
    "            results[configuration][input_wqrt][\"base\"][\"true_gene_pct\"] += len(oq.intersection(tq)) * 100.0 / (len(oq) * REPLICATES)\n",
    "            results[configuration][input_wqrt][\"base\"][\"species_pct\"] += len(oq.intersection(sq)) * 100.0 / (len(oq) * REPLICATES)\n",
    "            \n",
    "            print(results)\n",
    "                "
   ]
  },
  {
   "cell_type": "code",
   "execution_count": 10,
   "metadata": {},
   "outputs": [
    {
     "name": "stdout",
     "output_type": "stream",
     "text": [
      "{'100gene-100bp': {'GTF': {'base': {'true_gene_cnt': 1212.8, 'species_cnt': 1209.9, 'true_gene_pct': 88.84981684981685, 'species_pct': 88.63736263736263}}, 'GTF-boot': {'base': {'true_gene_cnt': 1256.3, 'species_cnt': 1253.6, 'true_gene_pct': 92.03663003663004, 'species_pct': 91.83882783882784}}, 'GTF-bucky-boot': {'base': {'true_gene_cnt': 1265.5, 'species_cnt': 1262.6999999999998, 'true_gene_pct': 92.71062271062273, 'species_pct': 92.50549450549451}}}, '100gene-1000bp': {'GTF': {'base': {'true_gene_cnt': 1335.3000000000002, 'species_cnt': 1331.4000000000003, 'true_gene_pct': 97.82417582417582, 'species_pct': 97.53846153846153}}, 'GTF-boot': {'base': {'true_gene_cnt': 1324.3000000000002, 'species_cnt': 1323.1000000000001, 'true_gene_pct': 97.01831501831501, 'species_pct': 96.93040293040292}}, 'GTF-bucky-boot': {'base': {'true_gene_cnt': 1349.4, 'species_cnt': 1348.0, 'true_gene_pct': 98.85714285714286, 'species_pct': 98.75457875457876}}}, '1000gene-100bp': {'GTF': {'base': {'true_gene_cnt': 1292.2000000000003, 'species_cnt': 1292.2000000000003, 'true_gene_pct': 94.66666666666666, 'species_pct': 94.66666666666666}}, 'GTF-boot': {'base': {'true_gene_cnt': 1299.4, 'species_cnt': 1299.4, 'true_gene_pct': 95.1941391941392, 'species_pct': 95.1941391941392}}, 'GTF-bucky-boot': {'base': {'true_gene_cnt': 1312.8000000000002, 'species_cnt': 1312.8000000000002, 'true_gene_pct': 96.17582417582418, 'species_pct': 96.17582417582418}}}, '1000gene-1000bp': {'GTF': {'base': {'true_gene_cnt': 1359.3999999999999, 'species_cnt': 1359.3999999999999, 'true_gene_pct': 99.58974358974359, 'species_pct': 99.58974358974359}}, 'GTF-boot': {'base': {'true_gene_cnt': 1339.1000000000001, 'species_cnt': 1339.1000000000001, 'true_gene_pct': 98.10256410256412, 'species_pct': 98.10256410256412}}, 'GTF-bucky-boot': {'base': {'true_gene_cnt': 1364.3, 'species_cnt': 1364.3, 'true_gene_pct': 99.94871794871796, 'species_pct': 99.94871794871796}}}}\n"
     ]
    }
   ],
   "source": [
    "print(results)"
   ]
  },
  {
   "cell_type": "code",
   "execution_count": 11,
   "metadata": {},
   "outputs": [],
   "source": [
    "# import json\n",
    "# with open(result_file, \"w\") as fp:\n",
    "#     fp.write(json.dumps(results))"
   ]
  },
  {
   "cell_type": "code",
   "execution_count": 7,
   "metadata": {},
   "outputs": [],
   "source": [
    "import json\n",
    "with open(result_file, \"r\") as fp:\n",
    "    results = json.load(fp)"
   ]
  },
  {
   "cell_type": "code",
   "execution_count": 8,
   "metadata": {},
   "outputs": [
    {
     "data": {
      "text/plain": [
       "{'100gene-100bp': {'GTF': {'base': {'true_gene_cnt': 1212.8,\n",
       "    'species_cnt': 1209.9,\n",
       "    'true_gene_pct': 88.84981684981685,\n",
       "    'species_pct': 88.63736263736263}},\n",
       "  'GTF-boot': {'base': {'true_gene_cnt': 1256.3,\n",
       "    'species_cnt': 1253.6,\n",
       "    'true_gene_pct': 92.03663003663004,\n",
       "    'species_pct': 91.83882783882784}},\n",
       "  'GTF-bucky-boot': {'base': {'true_gene_cnt': 1265.5,\n",
       "    'species_cnt': 1262.6999999999998,\n",
       "    'true_gene_pct': 92.71062271062273,\n",
       "    'species_pct': 92.50549450549451}}},\n",
       " '100gene-1000bp': {'GTF': {'base': {'true_gene_cnt': 1335.3000000000002,\n",
       "    'species_cnt': 1331.4000000000003,\n",
       "    'true_gene_pct': 97.82417582417582,\n",
       "    'species_pct': 97.53846153846153}},\n",
       "  'GTF-boot': {'base': {'true_gene_cnt': 1324.3000000000002,\n",
       "    'species_cnt': 1323.1000000000001,\n",
       "    'true_gene_pct': 97.01831501831501,\n",
       "    'species_pct': 96.93040293040292}},\n",
       "  'GTF-bucky-boot': {'base': {'true_gene_cnt': 1349.4,\n",
       "    'species_cnt': 1348.0,\n",
       "    'true_gene_pct': 98.85714285714286,\n",
       "    'species_pct': 98.75457875457876}}},\n",
       " '1000gene-100bp': {'GTF': {'base': {'true_gene_cnt': 1292.2000000000003,\n",
       "    'species_cnt': 1292.2000000000003,\n",
       "    'true_gene_pct': 94.66666666666666,\n",
       "    'species_pct': 94.66666666666666}},\n",
       "  'GTF-boot': {'base': {'true_gene_cnt': 1299.4,\n",
       "    'species_cnt': 1299.4,\n",
       "    'true_gene_pct': 95.1941391941392,\n",
       "    'species_pct': 95.1941391941392}},\n",
       "  'GTF-bucky-boot': {'base': {'true_gene_cnt': 1312.8000000000002,\n",
       "    'species_cnt': 1312.8000000000002,\n",
       "    'true_gene_pct': 96.17582417582418,\n",
       "    'species_pct': 96.17582417582418}}},\n",
       " '1000gene-1000bp': {'GTF': {'base': {'true_gene_cnt': 1359.3999999999999,\n",
       "    'species_cnt': 1359.3999999999999,\n",
       "    'true_gene_pct': 99.58974358974359,\n",
       "    'species_pct': 99.58974358974359}},\n",
       "  'GTF-boot': {'base': {'true_gene_cnt': 1339.1000000000001,\n",
       "    'species_cnt': 1339.1000000000001,\n",
       "    'true_gene_pct': 98.10256410256412,\n",
       "    'species_pct': 98.10256410256412}},\n",
       "  'GTF-bucky-boot': {'base': {'true_gene_cnt': 1364.3,\n",
       "    'species_cnt': 1364.3,\n",
       "    'true_gene_pct': 99.94871794871796,\n",
       "    'species_pct': 99.94871794871796}}}}"
      ]
     },
     "execution_count": 8,
     "metadata": {},
     "output_type": "execute_result"
    }
   ],
   "source": [
    "results"
   ]
  },
  {
   "cell_type": "code",
   "execution_count": 9,
   "metadata": {},
   "outputs": [],
   "source": [
    "# make a dataframe\n",
    "import pandas as pd"
   ]
  },
  {
   "cell_type": "code",
   "execution_count": 10,
   "metadata": {},
   "outputs": [],
   "source": [
    "def get_val(dct, keys):\n",
    "    for key in keys:\n",
    "        if key in dct:\n",
    "            dct = dct[key]\n",
    "        else:\n",
    "            return -1\n",
    "    return dct"
   ]
  },
  {
   "cell_type": "code",
   "execution_count": 28,
   "metadata": {},
   "outputs": [],
   "source": [
    "data = []\n",
    "for configuration in configs:\n",
    "    for ref in [\"true_gene\", \"species\"]:\n",
    "        tmp = [configuration, ref]\n",
    "        for input_wqrt in input_wqrts:\n",
    "            c = results[configuration][input_wqrt][\"base\"]\n",
    "#             tmp.extend([c[ref+\"_cnt\"], c[ref+\"_pct\"]])\n",
    "            tmp.append(c[ref+\"_pct\"])\n",
    "        data.append(tmp)"
   ]
  },
  {
   "cell_type": "code",
   "execution_count": 29,
   "metadata": {},
   "outputs": [],
   "source": [
    "columns = [\"config\", \"reference\"] + input_wqrts\n",
    "df = pd.DataFrame(data, columns=columns)"
   ]
  },
  {
   "cell_type": "code",
   "execution_count": 30,
   "metadata": {},
   "outputs": [
    {
     "data": {
      "text/html": [
       "<div>\n",
       "<style scoped>\n",
       "    .dataframe tbody tr th:only-of-type {\n",
       "        vertical-align: middle;\n",
       "    }\n",
       "\n",
       "    .dataframe tbody tr th {\n",
       "        vertical-align: top;\n",
       "    }\n",
       "\n",
       "    .dataframe thead th {\n",
       "        text-align: right;\n",
       "    }\n",
       "</style>\n",
       "<table border=\"1\" class=\"dataframe\">\n",
       "  <thead>\n",
       "    <tr style=\"text-align: right;\">\n",
       "      <th></th>\n",
       "      <th>config</th>\n",
       "      <th>reference</th>\n",
       "      <th>GTF</th>\n",
       "      <th>GTF-boot</th>\n",
       "      <th>GTF-bucky-boot</th>\n",
       "    </tr>\n",
       "  </thead>\n",
       "  <tbody>\n",
       "    <tr>\n",
       "      <th>0</th>\n",
       "      <td>100gene-100bp</td>\n",
       "      <td>true_gene</td>\n",
       "      <td>88.849817</td>\n",
       "      <td>92.036630</td>\n",
       "      <td>92.710623</td>\n",
       "    </tr>\n",
       "    <tr>\n",
       "      <th>1</th>\n",
       "      <td>100gene-100bp</td>\n",
       "      <td>species</td>\n",
       "      <td>88.637363</td>\n",
       "      <td>91.838828</td>\n",
       "      <td>92.505495</td>\n",
       "    </tr>\n",
       "    <tr>\n",
       "      <th>2</th>\n",
       "      <td>100gene-1000bp</td>\n",
       "      <td>true_gene</td>\n",
       "      <td>97.824176</td>\n",
       "      <td>97.018315</td>\n",
       "      <td>98.857143</td>\n",
       "    </tr>\n",
       "    <tr>\n",
       "      <th>3</th>\n",
       "      <td>100gene-1000bp</td>\n",
       "      <td>species</td>\n",
       "      <td>97.538462</td>\n",
       "      <td>96.930403</td>\n",
       "      <td>98.754579</td>\n",
       "    </tr>\n",
       "    <tr>\n",
       "      <th>4</th>\n",
       "      <td>1000gene-100bp</td>\n",
       "      <td>true_gene</td>\n",
       "      <td>94.666667</td>\n",
       "      <td>95.194139</td>\n",
       "      <td>96.175824</td>\n",
       "    </tr>\n",
       "    <tr>\n",
       "      <th>5</th>\n",
       "      <td>1000gene-100bp</td>\n",
       "      <td>species</td>\n",
       "      <td>94.666667</td>\n",
       "      <td>95.194139</td>\n",
       "      <td>96.175824</td>\n",
       "    </tr>\n",
       "    <tr>\n",
       "      <th>6</th>\n",
       "      <td>1000gene-1000bp</td>\n",
       "      <td>true_gene</td>\n",
       "      <td>99.589744</td>\n",
       "      <td>98.102564</td>\n",
       "      <td>99.948718</td>\n",
       "    </tr>\n",
       "    <tr>\n",
       "      <th>7</th>\n",
       "      <td>1000gene-1000bp</td>\n",
       "      <td>species</td>\n",
       "      <td>99.589744</td>\n",
       "      <td>98.102564</td>\n",
       "      <td>99.948718</td>\n",
       "    </tr>\n",
       "  </tbody>\n",
       "</table>\n",
       "</div>"
      ],
      "text/plain": [
       "            config  reference        GTF   GTF-boot  GTF-bucky-boot\n",
       "0    100gene-100bp  true_gene  88.849817  92.036630       92.710623\n",
       "1    100gene-100bp    species  88.637363  91.838828       92.505495\n",
       "2   100gene-1000bp  true_gene  97.824176  97.018315       98.857143\n",
       "3   100gene-1000bp    species  97.538462  96.930403       98.754579\n",
       "4   1000gene-100bp  true_gene  94.666667  95.194139       96.175824\n",
       "5   1000gene-100bp    species  94.666667  95.194139       96.175824\n",
       "6  1000gene-1000bp  true_gene  99.589744  98.102564       99.948718\n",
       "7  1000gene-1000bp    species  99.589744  98.102564       99.948718"
      ]
     },
     "execution_count": 30,
     "metadata": {},
     "output_type": "execute_result"
    }
   ],
   "source": [
    "df"
   ]
  },
  {
   "cell_type": "code",
   "execution_count": 31,
   "metadata": {},
   "outputs": [],
   "source": [
    "df.to_excel(result_df_file, index=False)"
   ]
  },
  {
   "cell_type": "code",
   "execution_count": 32,
   "metadata": {},
   "outputs": [],
   "source": [
    "df.query(\"reference == 'true_gene'\").to_excel(result_df_file_2, index=False)"
   ]
  },
  {
   "cell_type": "markdown",
   "metadata": {},
   "source": [
    "## Count of mismatches"
   ]
  },
  {
   "cell_type": "code",
   "execution_count": 11,
   "metadata": {},
   "outputs": [],
   "source": [
    "total = len(sq)"
   ]
  },
  {
   "cell_type": "code",
   "execution_count": 12,
   "metadata": {},
   "outputs": [
    {
     "data": {
      "text/plain": [
       "1365"
      ]
     },
     "execution_count": 12,
     "metadata": {},
     "output_type": "execute_result"
    }
   ],
   "source": [
    "total"
   ]
  },
  {
   "cell_type": "code",
   "execution_count": 13,
   "metadata": {},
   "outputs": [],
   "source": [
    "data = []\n",
    "for configuration in configs:\n",
    "    for ref in [\"true_gene\", \"species\"]:\n",
    "        tmp = [configuration, ref]\n",
    "        for input_wqrt in input_wqrts:\n",
    "            c = results[configuration][input_wqrt][\"base\"]\n",
    "            tmp.append(round(total - c[ref+\"_cnt\"]))\n",
    "        data.append(tmp)"
   ]
  },
  {
   "cell_type": "code",
   "execution_count": 14,
   "metadata": {},
   "outputs": [],
   "source": [
    "columns = [\"config\", \"reference\"] + input_wqrts\n",
    "df2 = pd.DataFrame(data, columns=columns)"
   ]
  },
  {
   "cell_type": "code",
   "execution_count": 15,
   "metadata": {},
   "outputs": [],
   "source": [
    "df2.to_excel(mismatch_df_file, index=False)\n",
    "df2.query(\"reference == 'true_gene'\").to_excel(mismatch_df_file_2, index=False)"
   ]
  },
  {
   "cell_type": "code",
   "execution_count": null,
   "metadata": {},
   "outputs": [],
   "source": []
  }
 ],
 "metadata": {
  "kernelspec": {
   "display_name": "Python 3 (ipykernel)",
   "language": "python",
   "name": "python3"
  },
  "language_info": {
   "codemirror_mode": {
    "name": "ipython",
    "version": 3
   },
   "file_extension": ".py",
   "mimetype": "text/x-python",
   "name": "python",
   "nbconvert_exporter": "python",
   "pygments_lexer": "ipython3",
   "version": "3.7.10"
  }
 },
 "nbformat": 4,
 "nbformat_minor": 2
}
